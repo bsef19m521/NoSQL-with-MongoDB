{
 "cells": [
  {
   "cell_type": "markdown",
   "id": "abd429a3",
   "metadata": {},
   "source": [
    "<h1 align=\"center\">Data Abstraction using MongoDB and SQL</h1>"
   ]
  },
  {
   "cell_type": "markdown",
   "id": "74fc2a47",
   "metadata": {},
   "source": [
    "### Agenda of Notebook\n",
    "\n",
    "- **What is a database?**\n",
    "- **MongoDB**\n",
    "    - Installing PyMongo\n",
    "    - Importing Libraries\n",
    "    - Connecting to the database\n",
    "    - Checking all the collections present in the database\n",
    "    - Connecting to the collection\n",
    "    - Counting the number of documents in the collection\n",
    "    - Checking all the documents\n",
    "    - Importing data from MongoDB to Notebook\n",
    "    - Converting data to CSV\n",
    "\n",
    "- **MySQL**\n",
    "    - Installing PyMongo\n",
    "    - Importing Libraries\n",
    "    - Connecting to the database\n",
    "    - Getting the list of all the tables in our DB\n",
    "    - Fetching and calling the data in our notebook\n",
    "    - Saving it as a CSV"
   ]
  },
  {
   "cell_type": "markdown",
   "id": "6ac62128",
   "metadata": {},
   "source": [
    "> **Note:** Here, We will be pulling the Telecom Churn Data from the MongoDB into our notebook and convert it to CSV."
   ]
  },
  {
   "cell_type": "code",
   "execution_count": null,
   "id": "68afb6a9",
   "metadata": {},
   "outputs": [],
   "source": []
  },
  {
   "cell_type": "markdown",
   "id": "522b900d",
   "metadata": {},
   "source": [
    "## MongoDB\n",
    "\n",
    "- MongoDB is a **document database**, it stores data in _JSON-like documents_.\n",
    "- Support for modern use-cases like:\n",
    "    - geo-based search\n",
    "    - graph search\n",
    "    - Text search.\n",
    "- **Queries are themselves JSON**, and thus easily composable. "
   ]
  },
  {
   "cell_type": "code",
   "execution_count": null,
   "id": "24a15cd4",
   "metadata": {},
   "outputs": [],
   "source": []
  },
  {
   "cell_type": "code",
   "execution_count": null,
   "id": "998ee09d",
   "metadata": {},
   "outputs": [],
   "source": []
  },
  {
   "cell_type": "code",
   "execution_count": null,
   "id": "be4afa8b",
   "metadata": {},
   "outputs": [],
   "source": []
  },
  {
   "cell_type": "code",
   "execution_count": null,
   "id": "b49dbc4c",
   "metadata": {},
   "outputs": [],
   "source": []
  }
 ],
 "metadata": {
  "kernelspec": {
   "display_name": "Python 3 (ipykernel)",
   "language": "python",
   "name": "python3"
  },
  "language_info": {
   "codemirror_mode": {
    "name": "ipython",
    "version": 3
   },
   "file_extension": ".py",
   "mimetype": "text/x-python",
   "name": "python",
   "nbconvert_exporter": "python",
   "pygments_lexer": "ipython3",
   "version": "3.8.10"
  }
 },
 "nbformat": 4,
 "nbformat_minor": 5
}
