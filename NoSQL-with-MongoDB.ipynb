{
 "cells": [
  {
   "cell_type": "markdown",
   "id": "ff5b51ed",
   "metadata": {},
   "source": [
    "<h1 align=\"center\">NoSQL-with-MongoDB</h1>"
   ]
  },
  {
   "cell_type": "code",
   "execution_count": null,
   "id": "9b52e42b",
   "metadata": {},
   "outputs": [],
   "source": []
  },
  {
   "cell_type": "code",
   "execution_count": null,
   "id": "bb4d0962",
   "metadata": {},
   "outputs": [],
   "source": []
  },
  {
   "cell_type": "markdown",
   "id": "e41ad364",
   "metadata": {},
   "source": [
    "# Learning Agenda of Notebook:\n",
    "- Introduction to MongoDB and NoSQL databases\n",
    "- Difference between SQL and No-SQL\n",
    "- Setting up MongoDB and Python\n",
    "- Common MongoDB Operators\n",
    "- CRUD Operations\n",
    "- Data Modeling\n",
    "- Indexing and Performance Optimization\n",
    "- Advanced Querying\n",
    "- Aggregation Framework\n",
    "- Working with GridFS\n",
    "- MongoDB and Cloud Services\n",
    "- Error handling and Debugging\n",
    "- Understanding MongoDB Architecture\n",
    "- MongoDB Atlas and Cloud Integration\n",
    "- MongoDB and data visualization\n",
    "- MongoDB and scalability\n",
    "- MongoDB and backup and recovery"
   ]
  },
  {
   "cell_type": "code",
   "execution_count": null,
   "id": "e7296fff",
   "metadata": {},
   "outputs": [],
   "source": []
  },
  {
   "cell_type": "code",
   "execution_count": null,
   "id": "2b76e956",
   "metadata": {},
   "outputs": [],
   "source": []
  },
  {
   "cell_type": "code",
   "execution_count": null,
   "id": "50168c9d",
   "metadata": {},
   "outputs": [],
   "source": []
  },
  {
   "cell_type": "markdown",
   "id": "9d5b35ef",
   "metadata": {},
   "source": [
    "# Introduction to MongoDB and NoSQL databases\n",
    "\n",
    "\n",
    "## NoSQL Databases\n",
    "\n",
    "- **NoSQL databases** (Not Only SQL) are a type of database that differ from traditional relational databases in the way they store and manage data. Unlike relational databases, which use tables and structured query language (SQL) to store and retrieve data, NoSQL databases use a variety of data models, such as document-oriented, key-value, graph, and column-family, to store and retrieve data.\n",
    "\n",
    "- Here are some **examples** of NoSQL databases:\n",
    "\n",
    "    - **Document-oriented databases:** MongoDB is an example of a document-oriented database. In this type of database, data is stored in the form of documents, which are similar to JSON objects. Each document can have different fields and structures, making it easy to store complex, unstructured data.\n",
    "\n",
    "    - **Key-value databases:** Redis is an example of a key-value database. In this type of database, data is stored as key-value pairs, where the key is a unique identifier and the value is the data being stored. Key-value databases are designed to be fast and scalable and are often used for caching and session management.\n",
    "\n",
    "    - **Graph databases:** Neo4j is an example of a graph database. In this type of database, data is stored in the form of nodes and relationships, making it well-suited for storing data with complex relationships, such as social networks or recommendation systems.\n",
    "\n",
    "    - **Column-family databases:** Apache Cassandra is an example of a column-family database. In this type of database, data is stored in columns rather than rows, making it well-suited for large-scale, distributed systems.\n",
    "\n",
    "\n",
    "> **Note:** NoSQL databases are often preferred over relational databases for certain use cases, such as when dealing with large amounts of unstructured data, when scalability is a concern, or when the data has complex relationships that are difficult to model in a traditional relational database.\n",
    "\n",
    "\n",
    "<img src=\"images/NoSQLDatabases.jpg\" align=\"center\" height=400px width=400px>\n",
    "\n",
    "\n",
    "## What is MongoDB?\n",
    "\n",
    "<img src=\"images/intro_mongodb.jpeg\" align=\"center\" height=400px width=400px>\n",
    "\n",
    "- **MongoDB** is a `document-oriented NoSQL database` that is designed to be scalable and flexible. Unlike traditional relational databases, which store data in tables and use structured query language (SQL) to retrieve data, MongoDB stores data in documents, which are similar to JSON objects.\n",
    "\n",
    "- Here are some **examples** to illustrate how MongoDB works:\n",
    "\n",
    "    - **Storing data in documents:** In MongoDB, data is stored in documents, which are similar to JSON objects. For example, consider a database of books. Each book can be stored as a document with fields for the title, author, ISBN, and so on.\n",
    "    \n",
    "    - **Collections:** Documents are stored in collections, which are similar to tables in relational databases. For example, the books database might have a collection named \"books\" that contains all the books in the database.\n",
    "\n",
    "    - **Querying data:** MongoDB provides a rich query language that allows you to retrieve data based on various criteria. For example, you can retrieve all books written by F. Scott Fitzgerald by using the following query.\n",
    "\n",
    "```\n",
    "{\n",
    "    \"_id\": ObjectId(\"5f22b3e3e3f0b375bc0edc71\"),\n",
    "    \"title\": \"The Great Gatsby\",\n",
    "    \"author\": \"F. Scott Fitzgerald\",\n",
    "    \"ISBN\": \"9780743273565\"\n",
    "}\n",
    "\n",
    "```\n",
    "\n"
   ]
  },
  {
   "cell_type": "code",
   "execution_count": null,
   "id": "7b211441",
   "metadata": {},
   "outputs": [],
   "source": []
  },
  {
   "cell_type": "code",
   "execution_count": null,
   "id": "540abe9b",
   "metadata": {},
   "outputs": [],
   "source": []
  },
  {
   "cell_type": "code",
   "execution_count": null,
   "id": "1bf86d17",
   "metadata": {},
   "outputs": [],
   "source": []
  },
  {
   "cell_type": "code",
   "execution_count": null,
   "id": "baebeb3d",
   "metadata": {},
   "outputs": [],
   "source": []
  },
  {
   "cell_type": "markdown",
   "id": "a24ab012",
   "metadata": {},
   "source": [
    "# Difference between SQL and No-SQL\n",
    "\n",
    "\n",
    "SQL and NoSQL are two different types of database management systems, each with its own strengths and weaknesses. Here are some of the key differences between the two:\n",
    "\n",
    "- **Data model:** SQL databases use a tabular data model, where data is stored in tables with fixed schemas, and each table has a unique primary key. NoSQL databases, on the other hand, use a variety of data models, including document, key-value, graph, and column-family models.\n",
    "\n",
    "- **Scaling:** SQL databases are vertically scalable, which means that to handle more traffic, you need to upgrade your hardware to a more powerful server. NoSQL databases are horizontally scalable, which means that to handle more traffic, you can add more servers to the database cluster.\n",
    "\n",
    "- **ACID compliance:** SQL databases are typically ACID compliant, which means that they ensure data consistency, isolation, and durability. NoSQL databases, on the other hand, often sacrifice ACID compliance for performance and scalability.\n",
    "\n",
    "- **Query language:** SQL databases use the Structured Query Language (SQL) for querying data, which is a powerful and widely-used language. NoSQL databases use a variety of query languages, including MongoDB's query language, Cassandra Query Language (CQL), and Amazon DynamoDB's API.\n",
    "\n",
    "- **Use cases:** SQL databases are typically used for applications that require complex queries and transactions, such as banking, finance, and e-commerce. NoSQL databases are often used for applications that require high scalability and performance, such as real-time analytics, IoT, and social media.\n",
    "\n",
    "<img src=\"images/sqlvsnosql.jpeg\" height=400px width=400px>"
   ]
  },
  {
   "cell_type": "code",
   "execution_count": null,
   "id": "ddd741d7",
   "metadata": {},
   "outputs": [],
   "source": []
  },
  {
   "cell_type": "code",
   "execution_count": null,
   "id": "ca582697",
   "metadata": {},
   "outputs": [],
   "source": []
  },
  {
   "cell_type": "code",
   "execution_count": null,
   "id": "2093ddf7",
   "metadata": {},
   "outputs": [],
   "source": []
  },
  {
   "cell_type": "code",
   "execution_count": null,
   "id": "db4093da",
   "metadata": {},
   "outputs": [],
   "source": []
  },
  {
   "cell_type": "code",
   "execution_count": null,
   "id": "a32ad8cb",
   "metadata": {},
   "outputs": [],
   "source": []
  },
  {
   "cell_type": "code",
   "execution_count": null,
   "id": "c5e4ee3b",
   "metadata": {},
   "outputs": [],
   "source": []
  },
  {
   "cell_type": "code",
   "execution_count": null,
   "id": "3dfd66ee",
   "metadata": {},
   "outputs": [],
   "source": []
  },
  {
   "cell_type": "code",
   "execution_count": null,
   "id": "ee2f3806",
   "metadata": {},
   "outputs": [],
   "source": []
  },
  {
   "cell_type": "markdown",
   "id": "3fdd49f0",
   "metadata": {},
   "source": [
    "# Setting up MongoDB and Python\n",
    "\n",
    "<img src=\"images/mongodbvspython.png\" align=\"center\" height=400px width=400px>\n",
    "\n",
    "\n",
    "\n",
    "To set up MongoDB and Python, you need to follow these steps:\n",
    "\n",
    "- **Install MongoDB:** You can download MongoDB from the official [website](https://www.mongodb.com/try/download/community) and install it on your system.\n",
    "\n",
    "<br/>\n",
    "\n",
    "- **Install MongoDB:** MongoDB Compass is a graphical user interface (GUI) tool for MongoDB that allows users to explore and interact with their data in a visual way. To install MongoDB Compass, go to the official MongoDB website at [website](https://www.mongodb.com/try/download/compass) and click the `Download Compass` button.\n",
    "<br/>\n",
    "\n",
    "- **Install PyMongo**: PyMongo is the Python driver for MongoDB. You can install it using pip: `pip3 install pymongo` , this command is for linux OS.\n",
    "<br/>\n",
    "<br/>\n",
    "<br/>\n",
    "<br/>\n",
    "<br/>\n",
    "<br/>\n",
    "<br/>\n",
    "\n",
    "\n",
    "- **Start and Enable the MongoDB service**: \n",
    "By default, the MongoDB service is disabled upon installation. You can verify this by running the command:\n",
    "\n",
    "<p style=\"color:green; text-align:center\"> <b> sudo systemctl status mongod </b></p>\n",
    "\n",
    "\n",
    "<img src=\"images/s1_1.png\" height=500px width=500px>\n",
    "<br/>\n",
    "\n",
    "To start the MongoDB service execute the command:\n",
    "<p style=\"color:green; text-align:center\"> <b> sudo systemctl start mongod </b></p>\n",
    "\n",
    "\n",
    "Once again, confirm if the service is running:\n",
    "<p style=\"color:green; text-align:center\"> <b>sudo systemctl status mongod </b></p>\n",
    "\n",
    "\n",
    "\n",
    "<img src=\"images/s2_2.png\" height=500px width=500px>\n",
    "<br/>\n",
    "\n",
    "\n",
    "<br/>\n",
    "<br/>\n",
    "<br/>\n",
    "<br/>\n",
    "\n",
    "\n",
    "- **Connect to MongoDB:** To connect to MongoDB from Python, you need to create a `MongoClient object`. You can connect to a local MongoDB instance like this:\n",
    "\n",
    "<img src=\"images/s3_3.png\" height=500px width=500px align=\"center\">\n",
    "<br/>\n",
    "\n",
    "<img src=\"images/s4_4.png\" height=500px width=500px align=\"center\">\n",
    "<br/>\n",
    "\n",
    "\n",
    "\n",
    "\n",
    "\n",
    "<p style=\"color:green; text-align:center\"> <b>from pymongo import MongoClient</b></p>\n",
    "<br />\n",
    "<p style=\"color:green; text-align:center\"> <b>client = MongoClient(\"mongodb://localhost:27017/\")</b></p>\n",
    "<br />\n",
    "\n",
    "\n",
    "\n",
    ">**Note:** The **MongoClient object** in PyMongo is used to establish a connection to a MongoDB database. It represents a client-side connection to a MongoDB database and provides a way to interact with the database. With a MongoClient object, you can create and manipulate databases, collections, and documents. In this example, the MongoClient object is connecting to a MongoDB instance running on the same machine as the Python code (localhost) and using the default MongoDB port (27017). Once you have a MongoClient object, you can use it to access and manipulate the databases, collections, and documents in the MongoDB instance.\n",
    "\n",
    "- **Work with databases and collections:** Once you have connected to MongoDB, you can work with databases and collections. To create a database, you can use the `client.db_name` syntax, where `db_name` is the name of the database. To create a collection, you can use the `db.collection_name` syntax, where `collection_name` is the name of the collection. For example, to create a database named `booksdb` and a collection named `books`, you can do the following: \n",
    "\n",
    "\n",
    "```\n",
    "\n",
    "db = client.booksdb\n",
    "books = db.books\n",
    "\n",
    "```\n",
    "\n",
    "- **Insert data into the collection:** To insert data into the collection, you can use the `insert_one` or `insert_many` method. For example, to insert a single book into the collection, you can do the following:\n",
    "\n",
    "```\n",
    "book = {\"title\": \"Taxonomy of IDS\", \"author\": \"Arif Butt\"}\n",
    "books.insert_one(book)\n",
    "\n",
    "```\n",
    "\n",
    "This will insert the book document into the \"books\" collection in the \"booksdb\" database.\n",
    "\n",
    "\n",
    "\n"
   ]
  },
  {
   "cell_type": "code",
   "execution_count": null,
   "id": "f26b15db",
   "metadata": {},
   "outputs": [],
   "source": []
  },
  {
   "cell_type": "markdown",
   "id": "54c02efa",
   "metadata": {},
   "source": [
    "### Before Creating new Database \n",
    "\n",
    "<img src=\"images/s5.png\" height=700px width=700px>"
   ]
  },
  {
   "cell_type": "code",
   "execution_count": null,
   "id": "266c86e2",
   "metadata": {},
   "outputs": [],
   "source": []
  },
  {
   "cell_type": "markdown",
   "id": "dc618682",
   "metadata": {},
   "source": [
    "### Demo "
   ]
  },
  {
   "cell_type": "code",
   "execution_count": 3,
   "id": "a4ef3615",
   "metadata": {},
   "outputs": [],
   "source": [
    "from pymongo import MongoClient\n",
    "client = MongoClient(\"mongodb://localhost:27017/\")\n",
    "\n"
   ]
  },
  {
   "cell_type": "code",
   "execution_count": 7,
   "id": "d80747ba",
   "metadata": {},
   "outputs": [
    {
     "data": {
      "text/plain": [
       "['admin', 'config', 'local', 'test_database']"
      ]
     },
     "execution_count": 7,
     "metadata": {},
     "output_type": "execute_result"
    }
   ],
   "source": [
    "# get list of all current databases\n",
    "client.list_database_names()"
   ]
  },
  {
   "cell_type": "code",
   "execution_count": 8,
   "id": "ab594ff3",
   "metadata": {},
   "outputs": [],
   "source": [
    "# create a new database\n",
    "db = client.booksdb"
   ]
  },
  {
   "cell_type": "code",
   "execution_count": 9,
   "id": "15ecdb4e",
   "metadata": {},
   "outputs": [],
   "source": [
    "# create a collection into `booksdb` database\n",
    "books = db.books"
   ]
  },
  {
   "cell_type": "code",
   "execution_count": 11,
   "id": "acd6859a",
   "metadata": {},
   "outputs": [
    {
     "data": {
      "text/plain": [
       "<pymongo.results.InsertOneResult at 0x7f09d055ba40>"
      ]
     },
     "execution_count": 11,
     "metadata": {},
     "output_type": "execute_result"
    }
   ],
   "source": [
    "# insert record into new created collection\n",
    "book = {\"title\": \"Taxonomy of IDS\", \"author\": \"Arif Butt\"}\n",
    "books.insert_one(book)"
   ]
  },
  {
   "cell_type": "code",
   "execution_count": 16,
   "id": "20b2f935",
   "metadata": {},
   "outputs": [
    {
     "data": {
      "text/plain": [
       "{'_id': ObjectId('63fb9fecc766296b075ab4f3'),\n",
       " 'title': 'Taxonomy of IDS',\n",
       " 'author': 'Arif Butt'}"
      ]
     },
     "execution_count": 16,
     "metadata": {},
     "output_type": "execute_result"
    }
   ],
   "source": [
    "# fetch result\n",
    "books.find_one()"
   ]
  },
  {
   "cell_type": "code",
   "execution_count": null,
   "id": "40e23037",
   "metadata": {},
   "outputs": [],
   "source": []
  },
  {
   "cell_type": "markdown",
   "id": "ef4b8120",
   "metadata": {},
   "source": [
    "### After Creating new Database\n",
    "<img src=\"images/s6.png\" height=600px width=600px>\n",
    "<img src=\"images/s7.png\" height=600px width=600px>"
   ]
  },
  {
   "cell_type": "markdown",
   "id": "a011a86b",
   "metadata": {},
   "source": [
    "> **Note:** `_id`s have to be unique in a collection. You can quickly verify this by inserting two documents with the same `_id` in two different collections."
   ]
  },
  {
   "cell_type": "code",
   "execution_count": 13,
   "id": "7a8a35ab",
   "metadata": {},
   "outputs": [
    {
     "data": {
      "text/plain": [
       "['admin', 'booksdb', 'config', 'local', 'test_database']"
      ]
     },
     "execution_count": 13,
     "metadata": {},
     "output_type": "execute_result"
    }
   ],
   "source": [
    "# after creating new database get list of all the databases\n",
    "client.list_database_names()"
   ]
  },
  {
   "cell_type": "code",
   "execution_count": null,
   "id": "d1e1d9c9",
   "metadata": {},
   "outputs": [],
   "source": []
  },
  {
   "cell_type": "code",
   "execution_count": null,
   "id": "97016129",
   "metadata": {},
   "outputs": [],
   "source": []
  },
  {
   "cell_type": "markdown",
   "id": "a5611b2f",
   "metadata": {},
   "source": [
    "### Check Your Concept:\n",
    "- Create a new database and `drop` it from `MongoDB` local host.\n",
    "- Create a collection in a database and `drop` it from the database."
   ]
  },
  {
   "cell_type": "code",
   "execution_count": null,
   "id": "c45221a3",
   "metadata": {},
   "outputs": [],
   "source": []
  },
  {
   "cell_type": "code",
   "execution_count": null,
   "id": "dedfff2f",
   "metadata": {},
   "outputs": [],
   "source": []
  },
  {
   "cell_type": "code",
   "execution_count": null,
   "id": "3362832b",
   "metadata": {},
   "outputs": [],
   "source": []
  },
  {
   "cell_type": "markdown",
   "id": "508f6d2a",
   "metadata": {},
   "source": [
    "# Common MongoDB Operators\n",
    "\n",
    "**MongoDB offers different types of operators that can be used to interact with the database. Operators are special symbols or keywords that inform a compiler or an interpreter to carry out mathematical or logical operations.**\n",
    "\n",
    "The query operators enhance the functionality of MongoDB by allowing developers to create complex queries to interact with data sets that match their applications.\n",
    "\n",
    "MongoDB offers the following query operator types:\n",
    "\n",
    "- Comparison\n",
    "- Logical\n",
    "- Element\n",
    "- Evaluation\n",
    "- Array\n",
    "- Bitwise\n"
   ]
  },
  {
   "cell_type": "markdown",
   "id": "bd389cfc",
   "metadata": {},
   "source": [
    "## Comparison Operators\n",
    "MongoDB comparison operators can be used to compare values in a document. The following table contains the common comparison operators.\n",
    "\n",
    "<img src=\"images/s9.png\" height=500px width=500px>"
   ]
  },
  {
   "cell_type": "code",
   "execution_count": null,
   "id": "efdf5ccd",
   "metadata": {},
   "outputs": [],
   "source": []
  },
  {
   "cell_type": "markdown",
   "id": "2c5a2054",
   "metadata": {},
   "source": [
    "## Logical Operators\n",
    "\n",
    "MongoDB logical operators can be used to filter data based on given conditions. These operators provide a way to combine multiple conditions. Each operator equates the given condition to a true or false value.\n",
    "\n",
    "<img src=\"images/s10.png\" height=500px width=500px>"
   ]
  },
  {
   "cell_type": "code",
   "execution_count": null,
   "id": "c8107a85",
   "metadata": {},
   "outputs": [],
   "source": []
  },
  {
   "cell_type": "code",
   "execution_count": null,
   "id": "b4769b59",
   "metadata": {},
   "outputs": [],
   "source": []
  },
  {
   "cell_type": "code",
   "execution_count": null,
   "id": "59cc1798",
   "metadata": {},
   "outputs": [],
   "source": []
  },
  {
   "cell_type": "code",
   "execution_count": null,
   "id": "34d44586",
   "metadata": {},
   "outputs": [],
   "source": []
  },
  {
   "cell_type": "code",
   "execution_count": null,
   "id": "89c6526e",
   "metadata": {},
   "outputs": [],
   "source": []
  },
  {
   "cell_type": "code",
   "execution_count": null,
   "id": "194f7b1b",
   "metadata": {},
   "outputs": [],
   "source": []
  },
  {
   "cell_type": "code",
   "execution_count": null,
   "id": "831e4f06",
   "metadata": {},
   "outputs": [],
   "source": []
  },
  {
   "cell_type": "markdown",
   "id": "0b6a52e3",
   "metadata": {},
   "source": [
    "## CRUD Operations \n",
    "<img src=\"images/crud.png\" align=\"center\" height=400px width=400px>\n",
    "\n",
    "- **CRUD** stands for `Create`, `Read`, `Update`, and `Delete` and are the basic operations that you perform on data in a database.\n",
    "\n",
    "Here's a brief overview of the CRUD operations in MongoDB using Python's PyMongo library:\n",
    "\n",
    "\n",
    "### Create (Insert) \n",
    "**To insert a document (record) into a collection `(table)`, you use the `insert_one()` or `insert_many()` method on the collection object. For example:**\n"
   ]
  },
  {
   "cell_type": "code",
   "execution_count": 18,
   "id": "80c3bc81",
   "metadata": {},
   "outputs": [
    {
     "data": {
      "text/plain": [
       "<pymongo.results.InsertOneResult at 0x7f09d0532780>"
      ]
     },
     "execution_count": 18,
     "metadata": {},
     "output_type": "execute_result"
    }
   ],
   "source": [
    "from pymongo import MongoClient\n",
    "\n",
    "client = MongoClient(\"mongodb://localhost:27017/\")\n",
    "\n",
    "# create a new database\n",
    "db = client[\"test_database\"]\n",
    "\n",
    "# create a new collection\n",
    "collection = db[\"test_collection\"]\n",
    "\n",
    "# Insert a single document\n",
    "collection.insert_one({\"name\": \"Ehtisham\", \"age\": 22})\n"
   ]
  },
  {
   "cell_type": "code",
   "execution_count": 19,
   "id": "d56014d0",
   "metadata": {},
   "outputs": [
    {
     "data": {
      "text/plain": [
       "<pymongo.results.InsertManyResult at 0x7f09d01d9880>"
      ]
     },
     "execution_count": 19,
     "metadata": {},
     "output_type": "execute_result"
    }
   ],
   "source": [
    "# Insert multiple documents\n",
    "docs = [{\"name\": \"Ali\", \"age\": 20}, {\"name\": \"Ayesha\", \"age\": 17}]\n",
    "collection.insert_many(docs)\n"
   ]
  },
  {
   "cell_type": "code",
   "execution_count": null,
   "id": "b7c110a6",
   "metadata": {},
   "outputs": [],
   "source": []
  },
  {
   "cell_type": "code",
   "execution_count": null,
   "id": "9e561082",
   "metadata": {},
   "outputs": [],
   "source": []
  },
  {
   "cell_type": "markdown",
   "id": "0ab9feeb",
   "metadata": {},
   "source": [
    "<img src=\"images/s8.png\" height=800px width=800px>"
   ]
  },
  {
   "cell_type": "code",
   "execution_count": null,
   "id": "3efbde49",
   "metadata": {},
   "outputs": [],
   "source": []
  },
  {
   "cell_type": "code",
   "execution_count": null,
   "id": "c798cd5a",
   "metadata": {},
   "outputs": [],
   "source": []
  },
  {
   "cell_type": "markdown",
   "id": "08479366",
   "metadata": {},
   "source": [
    "### Read (Find)\n",
    "\n",
    "**To query for documents in a collection, you use the `find()` method on the collection object. For example:**"
   ]
  },
  {
   "cell_type": "code",
   "execution_count": 21,
   "id": "534c7953",
   "metadata": {},
   "outputs": [
    {
     "name": "stdout",
     "output_type": "stream",
     "text": [
      "{'_id': ObjectId('63fba517c766296b075ab4f5'), 'name': 'Ehtisham', 'age': 22}\n",
      "{'_id': ObjectId('63fba52ac766296b075ab4f6'), 'name': 'Ali', 'age': 20}\n",
      "{'_id': ObjectId('63fba52ac766296b075ab4f7'), 'name': 'Ayesha', 'age': 17}\n"
     ]
    }
   ],
   "source": [
    "# Find all documents\n",
    "docs = collection.find()\n",
    "for doc in docs:\n",
    "    print(doc)"
   ]
  },
  {
   "cell_type": "code",
   "execution_count": null,
   "id": "ff735173",
   "metadata": {},
   "outputs": [],
   "source": []
  },
  {
   "cell_type": "code",
   "execution_count": 24,
   "id": "05bd94ed",
   "metadata": {},
   "outputs": [
    {
     "name": "stdout",
     "output_type": "stream",
     "text": [
      "{'_id': ObjectId('63fba517c766296b075ab4f5'), 'name': 'Ehtisham', 'age': 22}\n"
     ]
    }
   ],
   "source": [
    "# Find documents that match a certain condition\n",
    "# display all the documents which have age greater than 20\n",
    "# gt is operator which stands for greater than\n",
    "docs = collection.find({\"age\": {\"$gt\": 20}})\n",
    "for doc in docs:\n",
    "    print(doc)"
   ]
  },
  {
   "cell_type": "code",
   "execution_count": null,
   "id": "3bb78b6f",
   "metadata": {},
   "outputs": [],
   "source": []
  },
  {
   "cell_type": "code",
   "execution_count": null,
   "id": "f3f3323b",
   "metadata": {},
   "outputs": [],
   "source": []
  },
  {
   "cell_type": "markdown",
   "id": "3d64eed4",
   "metadata": {},
   "source": [
    "### Update \n",
    "\n",
    "**To update a document in a collection, you use the `update_one()` or `update_many()` method on the collection object. For example:**"
   ]
  },
  {
   "cell_type": "code",
   "execution_count": 26,
   "id": "f53cb017",
   "metadata": {},
   "outputs": [
    {
     "data": {
      "text/plain": [
       "<pymongo.results.UpdateResult at 0x7f09baa7e840>"
      ]
     },
     "execution_count": 26,
     "metadata": {},
     "output_type": "execute_result"
    }
   ],
   "source": [
    "# Update a single document\n",
    "collection.update_one({\"name\": \"Ehtisham\"}, {\"$set\": {\"age\": 21}})\n"
   ]
  },
  {
   "cell_type": "code",
   "execution_count": 29,
   "id": "ffb22606",
   "metadata": {},
   "outputs": [
    {
     "name": "stdout",
     "output_type": "stream",
     "text": [
      "{'_id': ObjectId('63fba517c766296b075ab4f5'), 'name': 'Ehtisham', 'age': 21}\n",
      "{'_id': ObjectId('63fba52ac766296b075ab4f6'), 'name': 'Ali', 'age': 20}\n",
      "{'_id': ObjectId('63fba52ac766296b075ab4f7'), 'name': 'Ayesha', 'age': 17}\n"
     ]
    }
   ],
   "source": [
    "# after updating record, verify your record\n",
    "docs = collection.find()\n",
    "for doc in docs:\n",
    "    print(doc)"
   ]
  },
  {
   "cell_type": "code",
   "execution_count": null,
   "id": "7af2f477",
   "metadata": {},
   "outputs": [],
   "source": []
  },
  {
   "cell_type": "code",
   "execution_count": 30,
   "id": "b1a7492a",
   "metadata": {},
   "outputs": [
    {
     "data": {
      "text/plain": [
       "<pymongo.results.UpdateResult at 0x7f09b8eced00>"
      ]
     },
     "execution_count": 30,
     "metadata": {},
     "output_type": "execute_result"
    }
   ],
   "source": [
    "# Update multiple documents\n",
    "# The $inc operator is used to increment the value of a field by a specified amount.\n",
    "# Increment by 1 in age in all the documents, where age is less than 20\n",
    "collection.update_many({\"age\": {\"$lt\": 20}}, {\"$inc\": {\"age\": 1}})\n"
   ]
  },
  {
   "cell_type": "code",
   "execution_count": 31,
   "id": "86dc69d9",
   "metadata": {},
   "outputs": [
    {
     "name": "stdout",
     "output_type": "stream",
     "text": [
      "{'_id': ObjectId('63fba517c766296b075ab4f5'), 'name': 'Ehtisham', 'age': 21}\n",
      "{'_id': ObjectId('63fba52ac766296b075ab4f6'), 'name': 'Ali', 'age': 20}\n",
      "{'_id': ObjectId('63fba52ac766296b075ab4f7'), 'name': 'Ayesha', 'age': 18}\n"
     ]
    }
   ],
   "source": [
    "# after updating record, verify your record\n",
    "docs = collection.find()\n",
    "for doc in docs:\n",
    "    print(doc)"
   ]
  },
  {
   "cell_type": "code",
   "execution_count": null,
   "id": "5a49420a",
   "metadata": {},
   "outputs": [],
   "source": []
  },
  {
   "cell_type": "code",
   "execution_count": null,
   "id": "df8580fe",
   "metadata": {},
   "outputs": [],
   "source": []
  },
  {
   "cell_type": "code",
   "execution_count": null,
   "id": "2fa0529e",
   "metadata": {},
   "outputs": [],
   "source": []
  },
  {
   "cell_type": "markdown",
   "id": "2b4914e3",
   "metadata": {},
   "source": [
    "### Delete \n",
    "\n",
    "**To delete a document from a collection, you use the `delete_one()` or `delete_many()` method on the collection object. For example:**"
   ]
  },
  {
   "cell_type": "code",
   "execution_count": 32,
   "id": "929007ff",
   "metadata": {},
   "outputs": [
    {
     "data": {
      "text/plain": [
       "<pymongo.results.DeleteResult at 0x7f09b8e50800>"
      ]
     },
     "execution_count": 32,
     "metadata": {},
     "output_type": "execute_result"
    }
   ],
   "source": [
    "# Delete a single document\n",
    "# Delete a document where name is Ehtisham\n",
    "collection.delete_one({\"name\": \"Ehtisham\"})"
   ]
  },
  {
   "cell_type": "code",
   "execution_count": 33,
   "id": "7ab65fee",
   "metadata": {},
   "outputs": [
    {
     "name": "stdout",
     "output_type": "stream",
     "text": [
      "{'_id': ObjectId('63fba52ac766296b075ab4f6'), 'name': 'Ali', 'age': 20}\n",
      "{'_id': ObjectId('63fba52ac766296b075ab4f7'), 'name': 'Ayesha', 'age': 18}\n"
     ]
    }
   ],
   "source": [
    "# after updating record, verify your record\n",
    "docs = collection.find()\n",
    "for doc in docs:\n",
    "    print(doc)"
   ]
  },
  {
   "cell_type": "code",
   "execution_count": 34,
   "id": "62f227da",
   "metadata": {},
   "outputs": [
    {
     "data": {
      "text/plain": [
       "<pymongo.results.DeleteResult at 0x7f09d0179d00>"
      ]
     },
     "execution_count": 34,
     "metadata": {},
     "output_type": "execute_result"
    }
   ],
   "source": [
    "# Delete multiple documents\n",
    "# Delete all the documents which contain age less than 20\n",
    "collection.delete_many({\"age\": {\"$lt\": 20}})\n"
   ]
  },
  {
   "cell_type": "code",
   "execution_count": 35,
   "id": "045c68d8",
   "metadata": {},
   "outputs": [
    {
     "name": "stdout",
     "output_type": "stream",
     "text": [
      "{'_id': ObjectId('63fba52ac766296b075ab4f6'), 'name': 'Ali', 'age': 20}\n"
     ]
    }
   ],
   "source": [
    "# after updating record, verify your record\n",
    "docs = collection.find()\n",
    "for doc in docs:\n",
    "    print(doc)"
   ]
  },
  {
   "cell_type": "code",
   "execution_count": null,
   "id": "05a09136",
   "metadata": {},
   "outputs": [],
   "source": []
  },
  {
   "cell_type": "markdown",
   "id": "6b3408cd",
   "metadata": {},
   "source": [
    "<img src=\"images/s11.png\">"
   ]
  },
  {
   "cell_type": "code",
   "execution_count": null,
   "id": "defd0887",
   "metadata": {},
   "outputs": [],
   "source": []
  },
  {
   "cell_type": "code",
   "execution_count": null,
   "id": "8d674d4e",
   "metadata": {},
   "outputs": [],
   "source": []
  },
  {
   "cell_type": "code",
   "execution_count": null,
   "id": "22535cf6",
   "metadata": {},
   "outputs": [],
   "source": []
  },
  {
   "cell_type": "code",
   "execution_count": null,
   "id": "2a9bb567",
   "metadata": {},
   "outputs": [],
   "source": []
  },
  {
   "cell_type": "code",
   "execution_count": null,
   "id": "41ec74a1",
   "metadata": {},
   "outputs": [],
   "source": []
  },
  {
   "cell_type": "markdown",
   "id": "20190f45",
   "metadata": {},
   "source": [
    "## Data Modeling\n",
    "\n",
    "<img src=\"images/data_model.jpg\" align=\"right\" height=500px width=500px>\n",
    "\n",
    "- **Data modeling** in MongoDB is the process of designing and organizing data in a way that is optimized for the MongoDB document-oriented data model. It involves creating a schema that defines the structure, relationships, and constraints of the data, and using that schema to create collections and documents. The goal of data modeling in MongoDB is to ensure that the data is stored in a way that is efficient, flexible, and consistent with the requirements of the application.\n",
    "\n",
    "- **Data modeling** in MongoDB is different from data modeling in relational databases because MongoDB is a document-oriented database and it stores data in BSON format (binary JSON) in the form of documents, and collections rather than tables.\n",
    "\n",
    "- MongoDB also provides a more flexible data model, which allows for more dynamic and unstructured data, and it also support horizontal scaling, which allows for better performance and scalability.\n",
    "\n",
    "\n",
    "#### Another Definition\n",
    "\n",
    "- **Data modeling** in MongoDB refers to the process of defining the structure of your data, including the relationships between different collections, documents, and fields. This structure is important for ensuring that your data is stored and retrieved efficiently, and for making it easy to access and manipulate the data in your applications.\n",
    "\n",
    "\n",
    "\n",
    "### Example\n",
    "\n",
    "Here's a simple example to give you an idea of how data modeling works in MongoDB:\n",
    "\n",
    "**Let's say you have a collection of blog posts, and each post has an author, a title, a body, and a list of comments. To model this data in MongoDB, you might define two collections: one for posts and one for comments.**\n",
    "\n",
    "Here's what the posts collection might look like:"
   ]
  },
  {
   "cell_type": "code",
   "execution_count": null,
   "id": "b1e73900",
   "metadata": {},
   "outputs": [],
   "source": [
    "{\n",
    "    \"_id\": ObjectId(\"5f3ab0fa7ef2d01234567890\"),\n",
    "    \"author\": \"Ehtisham\",\n",
    "    \"title\": \"My first post\",\n",
    "    \"body\": \"I love my country.\",\n",
    "    \"comments\": [\n",
    "        ObjectId(\"5f3ab0fa7ef2d01234567891\"),\n",
    "        ObjectId(\"5f3ab0fa7ef2d01234567892\"),\n",
    "        ...\n",
    "    ]\n",
    "}\n"
   ]
  },
  {
   "cell_type": "markdown",
   "id": "f4d2982a",
   "metadata": {},
   "source": [
    "And here's what the **comments** collection might look like:\n",
    "\n"
   ]
  },
  {
   "cell_type": "code",
   "execution_count": null,
   "id": "b9243af5",
   "metadata": {},
   "outputs": [],
   "source": [
    "{\n",
    "    \"_id\": ObjectId(\"5f3ab0fa7ef2d01234567891\"),\n",
    "    \"post_id\": ObjectId(\"5f3ab0fa7ef2d01234567890\"),\n",
    "    \"author\": \"Ehtisham\",\n",
    "    \"text\": \"This is a great post!\"\n",
    "}\n"
   ]
  },
  {
   "cell_type": "markdown",
   "id": "b8496f4c",
   "metadata": {},
   "source": [
    "- In this example, each post document has an `_id` field that is unique to that document and serves as `its primary key`. The comments field is an array of references to comment documents, which are stored in the separate comments collection. The comments collection also has a `post_id` field, which links each comment to the post it belongs to.\n",
    "\n",
    "- This is just one simple example of data modeling in MongoDB. In a real-world application, your data structures may be much more complex, with multiple levels of nested documents, arrays, and references to other collections. \n",
    "\n",
    "> **Note:** The key is to think carefully about the structure of your data and to define the relationships between collections, documents, and fields in a way that makes sense for your specific use case."
   ]
  },
  {
   "cell_type": "code",
   "execution_count": null,
   "id": "734714ed",
   "metadata": {},
   "outputs": [],
   "source": []
  },
  {
   "cell_type": "markdown",
   "id": "80e85010",
   "metadata": {},
   "source": [
    "## Indexing and Performance Optimization\n",
    "<img src=\"images/indexing.png\" height=500px width=500px>\n",
    "\n",
    "**Indexing** is a crucial aspect of performance optimization in MongoDB. It allows the database to quickly find the relevant documents based on the specified criteria, improving query performance. Some of the key points about indexing in MongoDB are:\n",
    "\n",
    "- Indexing in MongoDB is done at the field level.\n",
    "\n",
    "- MongoDB supports multiple types of indexes, including single-field, compound, geospatial, text, and hashed indexes.\n",
    "- By default, MongoDB creates a unique index on the `_id` field.\n",
    "\n",
    "- To create an index, you can use the `createIndex()` method in the MongoDB shell or via the MongoDB driver in your programming language.\n",
    "\n",
    "- When you run a query, MongoDB uses the most appropriate index to match the query conditions. You can use the `explain()` method to see which index MongoDB has selected.\n",
    "\n",
    "- Indexes can improve query performance, but they also have some overhead in terms of disk space and write operations. Therefore, it's important to choose your indexes carefully.\n",
    "\n",
    "- To optimize performance, you can use indexing techniques such as compound indexes, partial indexes, and multikey indexes.\n",
    "\n",
    "\n",
    "> **Note:** Indexing is an important aspect of performance optimization in MongoDB. It enables the database to efficiently find the relevant data and improve query performance. Careful consideration of which indexes to create and how to use them can significantly improve the performance of your MongoDB-based applications"
   ]
  },
  {
   "cell_type": "markdown",
   "id": "52f5e6b0",
   "metadata": {},
   "source": [
    "### Implementation of Indexing and Performance Optimization \n",
    "\n",
    "- Identify the queries that are slow and causing performance issues.\n",
    "\n",
    "- Use the **explain()** method to analyze the query execution plan and identify any performance issues. For example, if a query is doing a full collection scan, it may be a sign that an index is needed.\n",
    "\n",
    "- Create indexes on the fields that are frequently used in queries using the **create_index()** method in PyMongo. For example, if you have a collection of user data and frequently query based on the user's name and age, you could create indexes on those fields like this:\n",
    "\n",
    "<br />\n",
    "<p style=\"color:green; text-align:center\"> <b>db.users.create_index([('name', pymongo.ASCENDING), ('age', pymongo.ASCENDING)])</b></p>\n",
    "<br />\n",
    "\n",
    "This creates a compound index on the `name` and `age` fields in ascending order.\n",
    "\n",
    "- Monitor the performance of your queries using the MongoDB Profiler or other monitoring tools to see if the indexes are improving query performance.\n",
    "\n",
    "- If you are still experiencing performance issues, consider using sharding(we will discuss sharding later) to distribute the data across multiple MongoDB instances. Sharding can improve query performance by allowing for parallel query execution across multiple shards.\n",
    "\n",
    "- Continuously monitor and optimize your indexes and queries to ensure that your MongoDB database continues to perform well over time."
   ]
  },
  {
   "cell_type": "markdown",
   "id": "de028906",
   "metadata": {},
   "source": [
    "### Demo"
   ]
  },
  {
   "cell_type": "code",
   "execution_count": 38,
   "id": "d70fc7a1",
   "metadata": {},
   "outputs": [],
   "source": [
    "# Step1: Connect to the Mongodb database using PyMongo\n",
    "from pymongo import MongoClient\n",
    "\n",
    "# establish a connection to the database\n",
    "client = MongoClient('localhost', 27017)\n",
    "\n",
    "db = client['mydatabase']\n"
   ]
  },
  {
   "cell_type": "code",
   "execution_count": 39,
   "id": "a28fc839",
   "metadata": {},
   "outputs": [
    {
     "data": {
      "text/plain": [
       "<pymongo.results.InsertManyResult at 0x7f09d0556c40>"
      ]
     },
     "execution_count": 39,
     "metadata": {},
     "output_type": "execute_result"
    }
   ],
   "source": [
    "# Step2: Create a collection and insert data\n",
    "\n",
    "# create a collection\n",
    "collection = db['mycollection']\n",
    "\n",
    "# insert some sample data\n",
    "collection.insert_many([\n",
    "    {\"name\": \"Ehtisham\", \"age\": 22, \"city\": \"Lahore\"},\n",
    "    {\"name\": \"Ali\", \"age\": 20, \"city\": \"Okara\"},\n",
    "    {\"name\": \"Ayesha\", \"age\": 17, \"city\": \"Okara\"},\n",
    "    {\"name\": \"Dua\", \"age\": 6, \"city\": \"Sahiwal\"},\n",
    "    {\"name\": \"Adeen\", \"age\": 3, \"city\": \"Lahore\"}\n",
    "])\n"
   ]
  },
  {
   "cell_type": "code",
   "execution_count": 41,
   "id": "472df557",
   "metadata": {},
   "outputs": [
    {
     "data": {
      "text/plain": [
       "'name_1'"
      ]
     },
     "execution_count": 41,
     "metadata": {},
     "output_type": "execute_result"
    }
   ],
   "source": [
    "# Step3: Create index on the `name` field for faster querying\n",
    "\n",
    "collection.create_index([('name',1)])"
   ]
  },
  {
   "cell_type": "code",
   "execution_count": 43,
   "id": "8c54609e",
   "metadata": {},
   "outputs": [
    {
     "data": {
      "text/plain": [
       "{'queryPlanner': {'plannerVersion': 1,\n",
       "  'namespace': 'mydatabase.mycollection',\n",
       "  'indexFilterSet': False,\n",
       "  'parsedQuery': {'name': {'$eq': 'Ehtisham'}},\n",
       "  'winningPlan': {'stage': 'FETCH',\n",
       "   'inputStage': {'stage': 'IXSCAN',\n",
       "    'keyPattern': {'name': 1},\n",
       "    'indexName': 'name_1',\n",
       "    'isMultiKey': False,\n",
       "    'multiKeyPaths': {'name': []},\n",
       "    'isUnique': False,\n",
       "    'isSparse': False,\n",
       "    'isPartial': False,\n",
       "    'indexVersion': 2,\n",
       "    'direction': 'forward',\n",
       "    'indexBounds': {'name': ['[\"Ehtisham\", \"Ehtisham\"]']}}},\n",
       "  'rejectedPlans': []},\n",
       " 'executionStats': {'executionSuccess': True,\n",
       "  'nReturned': 1,\n",
       "  'executionTimeMillis': 0,\n",
       "  'totalKeysExamined': 1,\n",
       "  'totalDocsExamined': 1,\n",
       "  'executionStages': {'stage': 'FETCH',\n",
       "   'nReturned': 1,\n",
       "   'executionTimeMillisEstimate': 0,\n",
       "   'works': 2,\n",
       "   'advanced': 1,\n",
       "   'needTime': 0,\n",
       "   'needYield': 0,\n",
       "   'saveState': 0,\n",
       "   'restoreState': 0,\n",
       "   'isEOF': 1,\n",
       "   'docsExamined': 1,\n",
       "   'alreadyHasObj': 0,\n",
       "   'inputStage': {'stage': 'IXSCAN',\n",
       "    'nReturned': 1,\n",
       "    'executionTimeMillisEstimate': 0,\n",
       "    'works': 2,\n",
       "    'advanced': 1,\n",
       "    'needTime': 0,\n",
       "    'needYield': 0,\n",
       "    'saveState': 0,\n",
       "    'restoreState': 0,\n",
       "    'isEOF': 1,\n",
       "    'keyPattern': {'name': 1},\n",
       "    'indexName': 'name_1',\n",
       "    'isMultiKey': False,\n",
       "    'multiKeyPaths': {'name': []},\n",
       "    'isUnique': False,\n",
       "    'isSparse': False,\n",
       "    'isPartial': False,\n",
       "    'indexVersion': 2,\n",
       "    'direction': 'forward',\n",
       "    'indexBounds': {'name': ['[\"Ehtisham\", \"Ehtisham\"]']},\n",
       "    'keysExamined': 1,\n",
       "    'seeks': 1,\n",
       "    'dupsTested': 0,\n",
       "    'dupsDropped': 0}},\n",
       "  'allPlansExecution': []},\n",
       " 'serverInfo': {'host': 'dell-Inspiron-15-5510',\n",
       "  'port': 27017,\n",
       "  'version': '4.4.18',\n",
       "  'gitVersion': '8ed32b5c2c68ebe7f8ae2ebe8d23f36037a17dea'},\n",
       " 'ok': 1.0}"
      ]
     },
     "execution_count": 43,
     "metadata": {},
     "output_type": "execute_result"
    }
   ],
   "source": [
    "# Step4: query the collection with the 'find' method and the 'explain' option\n",
    "query = {\"name\": \"Ehtisham\"}\n",
    "result = collection.find(query).explain()\n",
    "\n",
    "# print the execution plan\n",
    "result\n"
   ]
  },
  {
   "cell_type": "markdown",
   "id": "422c4d90",
   "metadata": {},
   "source": [
    "Note that the `winningPlan` section indicates the use of the `name_1` index."
   ]
  },
  {
   "cell_type": "code",
   "execution_count": 45,
   "id": "3dc1c108",
   "metadata": {},
   "outputs": [],
   "source": [
    "# Step5: Use the `explain` option to compare the performance of the query with and without the index"
   ]
  },
  {
   "cell_type": "code",
   "execution_count": 48,
   "id": "4705ccf1",
   "metadata": {},
   "outputs": [
    {
     "name": "stdout",
     "output_type": "stream",
     "text": [
      "0\n"
     ]
    }
   ],
   "source": [
    "# query the collection without the index and print the execution time\n",
    "result = collection.find({\"age\": {\"$gt\": 35}}).explain()\n",
    "print(result[\"executionStats\"][\"executionTimeMillis\"])\n",
    "\n"
   ]
  },
  {
   "cell_type": "code",
   "execution_count": 49,
   "id": "f8b289da",
   "metadata": {},
   "outputs": [
    {
     "name": "stdout",
     "output_type": "stream",
     "text": [
      "0\n"
     ]
    }
   ],
   "source": [
    "# create an index on the 'age' field\n",
    "collection.create_index([(\"age\", 1)])\n",
    "\n",
    "# query the collection with the index and print the execution time\n",
    "result = collection.find({\"age\": {\"$gt\": 35}}).explain()\n",
    "print(result[\"executionStats\"][\"executionTimeMillis\"])\n"
   ]
  },
  {
   "cell_type": "markdown",
   "id": "d1984373",
   "metadata": {},
   "source": [
    "> **Note:** By comparing the two execution times, we can see the improvement in performance achieved by using the index."
   ]
  },
  {
   "cell_type": "code",
   "execution_count": null,
   "id": "895a5faf",
   "metadata": {},
   "outputs": [],
   "source": []
  },
  {
   "cell_type": "code",
   "execution_count": null,
   "id": "4fd3ac9d",
   "metadata": {},
   "outputs": [],
   "source": []
  },
  {
   "cell_type": "code",
   "execution_count": null,
   "id": "ee10c914",
   "metadata": {},
   "outputs": [],
   "source": []
  },
  {
   "cell_type": "code",
   "execution_count": null,
   "id": "48a20dc8",
   "metadata": {},
   "outputs": [],
   "source": []
  },
  {
   "cell_type": "code",
   "execution_count": null,
   "id": "3c0ec1f1",
   "metadata": {},
   "outputs": [],
   "source": []
  },
  {
   "cell_type": "markdown",
   "id": "b4e37f0a",
   "metadata": {},
   "source": [
    "## Understanding of MongoDB architecture\n",
    "\n",
    "<img src=\"images/MongoDB-Architecture.png\" height=500px width=500px>\n",
    "\n",
    "MongoDB architecture refers to the components and design of a MongoDB database system. It includes the following key components:\n",
    "\n",
    "- **MongoDB Server:** This is the main component of MongoDB architecture, responsible for handling client requests, managing data storage, and executing queries.\n",
    "\n",
    "- **Replication:** Replication is a key aspect of MongoDB architecture, providing high availability and data durability. MongoDB uses a replication mechanism known as replica sets, where data is replicated across multiple servers for redundancy.\n",
    "\n",
    "- **Sharding:** Sharding is the process of dividing data across multiple servers to distribute load and improve performance. MongoDB uses a sharding mechanism known as sharded clusters, where data is divided into smaller chunks called shards and distributed across multiple servers.\n",
    "\n",
    "- **Database:** A MongoDB database is a collection of related data stored together in a single unit. Databases are made up of collections, which are equivalent to tables in a relational database.\n",
    "\n",
    "- **Collection:** A collection is a group of related documents stored together in a single unit. Documents in a collection are equivalent to rows in a table in a relational database.\n",
    "\n",
    "- **Document:** A document is a single unit of data stored in a collection. It is a JSON-like structure, containing one or more key-value pairs.\n",
    "\n",
    "\n",
    "\n",
    "> **Note:** Understanding MongoDB architecture is important for ensuring that your database is designed and optimized for your specific use case. It helps you make informed decisions about things like data modeling, replication, and sharding, and ensures that your database is scalable, reliable, and efficient."
   ]
  },
  {
   "cell_type": "markdown",
   "id": "a6741178",
   "metadata": {},
   "source": [
    "+------------+     +------------+     +------------+\n",
    "| Config     |     | Config     |     | Config     |\n",
    "| Server 1   |     | Server 2   |     | Server 3   |\n",
    "+------------+     +------------+     +------------+\n",
    "         |                 |                 |\n",
    "         +-----------------+-----------------+\n",
    "                             |\n",
    "                      +--------------+\n",
    "                      | Mongos Router |\n",
    "                      +--------------+\n",
    "                             |\n",
    "                 +---------------+---------------+\n",
    "                 |               |               |\n",
    "          +---------+     +---------+     +---------+\n",
    "          | Shard 1 |     | Shard 2 |     | Shard 3 |\n",
    "          +---------+     +---------+     +---------+\n"
   ]
  },
  {
   "cell_type": "code",
   "execution_count": null,
   "id": "6f5b3385",
   "metadata": {},
   "outputs": [],
   "source": []
  },
  {
   "cell_type": "markdown",
   "id": "c314e712",
   "metadata": {},
   "source": [
    "To connect to a MongoDB cluster using the PyMongo library in Python, you need to specify the connection details of each node in the cluster, as well as the name of the database and collection that you want to access. Here is an example code snippet:"
   ]
  },
  {
   "cell_type": "code",
   "execution_count": null,
   "id": "06edb6c8",
   "metadata": {},
   "outputs": [],
   "source": [
    "from pymongo import MongoClient\n",
    "\n",
    "# Define the connection details for each node in the cluster\n",
    "config_servers = [\n",
    "    'config-server-1.example.com:27019',\n",
    "    'config-server-2.example.com:27019',\n",
    "    'config-server-3.example.com:27019'\n",
    "]\n",
    "\n",
    "shards = [\n",
    "    'shard-1.example.com:27017',\n",
    "    'shard-2.example.com:27017',\n",
    "    'shard-3.example.com:27017'\n",
    "]\n",
    "\n",
    "# Define the name of the database and collection to access\n",
    "db_name = 'mydatabase'\n",
    "collection_name = 'mycollection'\n",
    "\n",
    "# Create a connection to the cluster using the MongoClient class\n",
    "client = MongoClient(\n",
    "    f'mongodb://{\",\".join(config_servers)}/?replicaSet=myreplica'\n",
    ")\n",
    "\n",
    "# Specify the database and collection to access\n",
    "db = client[db_name]\n",
    "collection = db[collection_name]\n",
    "\n",
    "# Perform CRUD operations on the collection\n"
   ]
  },
  {
   "cell_type": "code",
   "execution_count": null,
   "id": "3872604f",
   "metadata": {},
   "outputs": [],
   "source": []
  },
  {
   "cell_type": "code",
   "execution_count": null,
   "id": "93a11ff1",
   "metadata": {},
   "outputs": [],
   "source": []
  },
  {
   "cell_type": "code",
   "execution_count": null,
   "id": "f5433a94",
   "metadata": {},
   "outputs": [],
   "source": []
  },
  {
   "cell_type": "code",
   "execution_count": null,
   "id": "31b1f0ed",
   "metadata": {},
   "outputs": [],
   "source": []
  },
  {
   "cell_type": "code",
   "execution_count": null,
   "id": "824c33ed",
   "metadata": {},
   "outputs": [],
   "source": []
  },
  {
   "cell_type": "markdown",
   "id": "ae5f935c",
   "metadata": {},
   "source": [
    "# Advanced Querying in moongodb\n",
    "\n",
    "<img src=\"images/pipeline.png\" height=400px width=400px>\n",
    "\n",
    "**Advanced querying in MongoDB involves using more complex query operations and aggregation pipelines to retrieve and analyze data in the database.**\n",
    "\n",
    "Here is an example of how to perform advanced querying in MongoDB using the MongoDB shell:\n",
    "\n",
    "Assume we have a collection of customer orders in our MongoDB database named `orders`. Each document in the collection represents a customer order and has the following fields: orderId, customerId, orderDate, orderItems, and totalAmount.\n",
    "\n",
    "To retrieve all orders placed by a specific customer, we can use the following query:"
   ]
  },
  {
   "cell_type": "code",
   "execution_count": null,
   "id": "3fd58854",
   "metadata": {},
   "outputs": [],
   "source": [
    "db.orders.find( { customerId: \"12345\" } )\n"
   ]
  },
  {
   "cell_type": "markdown",
   "id": "ce2cc414",
   "metadata": {},
   "source": [
    "To retrieve all orders placed between two specific dates, we can use the following query:"
   ]
  },
  {
   "cell_type": "code",
   "execution_count": null,
   "id": "41cca38a",
   "metadata": {},
   "outputs": [],
   "source": [
    "db.orders.find( { orderDate: { $gte: ISODate(\"2022-01-01\"), $lte: ISODate(\"2022-01-31\") } } )\n"
   ]
  },
  {
   "cell_type": "markdown",
   "id": "de3371b9",
   "metadata": {},
   "source": [
    "To retrieve the total number of orders placed by each customer, we can use the following aggregation pipeline:"
   ]
  },
  {
   "cell_type": "code",
   "execution_count": null,
   "id": "8853c1b2",
   "metadata": {},
   "outputs": [],
   "source": [
    "db.orders.aggregate( [\n",
    "   { $group: { _id: \"$customerId\", totalOrders: { $sum: 1 } } }\n",
    "] )\n"
   ]
  },
  {
   "cell_type": "markdown",
   "id": "f9f21e5d",
   "metadata": {},
   "source": [
    "This pipeline groups the orders by customer ID, and then uses the $sum operator to count the number of orders for each customer.\n",
    "\n",
    "To retrieve the total amount of orders placed by each customer, we can use the following aggregation pipeline:"
   ]
  },
  {
   "cell_type": "code",
   "execution_count": null,
   "id": "403fe30b",
   "metadata": {},
   "outputs": [],
   "source": [
    "db.orders.aggregate( [\n",
    "   { $group: { _id: \"$customerId\", totalAmount: { $sum: \"$totalAmount\" } } }\n",
    "] )\n"
   ]
  },
  {
   "cell_type": "markdown",
   "id": "b6ade6c5",
   "metadata": {},
   "source": [
    "This pipeline groups the orders by customer ID, and then uses the $sum operator to calculate the total amount of orders for each customer.\n",
    "\n",
    "In addition to these basic examples, MongoDB provides a wide range of query operators and aggregation stages that can be used to perform more complex queries and data analysis. It's important to carefully analyze your data and query requirements to select the most appropriate operations and pipelines to achieve the desired results."
   ]
  },
  {
   "cell_type": "code",
   "execution_count": null,
   "id": "d1df6599",
   "metadata": {},
   "outputs": [],
   "source": []
  },
  {
   "cell_type": "code",
   "execution_count": null,
   "id": "5899bcbd",
   "metadata": {},
   "outputs": [],
   "source": []
  },
  {
   "cell_type": "code",
   "execution_count": null,
   "id": "52e0efab",
   "metadata": {},
   "outputs": [],
   "source": []
  },
  {
   "cell_type": "markdown",
   "id": "c08bdf1b",
   "metadata": {},
   "source": [
    "# Aggregation Framework\n",
    "\n",
    "<img src=\"images/aggregation.png\" height=400px width=400px>\n",
    "\n",
    "The Aggregation Framework is a powerful feature in MongoDB that allows for complex data analysis by combining and processing data in multiple stages. Aggregation pipelines consist of a sequence of stages, each with its own set of operators that transform documents as they pass through the pipeline. It collects values from various documents and groups them together and then performs different types of operations on that grouped data like sum, average, minimum, maximum, etc to return a computed result. It is similar to the **aggregate function of SQL**."
   ]
  },
  {
   "cell_type": "code",
   "execution_count": null,
   "id": "f4c7b326",
   "metadata": {},
   "outputs": [],
   "source": []
  },
  {
   "cell_type": "code",
   "execution_count": null,
   "id": "385e9f48",
   "metadata": {},
   "outputs": [],
   "source": []
  },
  {
   "cell_type": "code",
   "execution_count": null,
   "id": "c3319915",
   "metadata": {},
   "outputs": [],
   "source": []
  },
  {
   "cell_type": "markdown",
   "id": "afeed6dd",
   "metadata": {},
   "source": [
    "# Working with GridFS in mongodb\n",
    "\n",
    "<img src=\"images/gridfs.png\" height=400px width=400px >\n",
    "\n",
    "**GridFS** is a specification used by MongoDB to store and retrieve large files such as images, audio, and video. It stores files in chunks of 255 KB and is optimized for handling files larger than 16 MB.\n",
    "\n",
    "\n",
    "To work with `GridFS` in Python using PyMongo, you can use the `gridfs` module. Here's an example of how to upload a file to GridFS:"
   ]
  },
  {
   "cell_type": "code",
   "execution_count": 53,
   "id": "ba12a0cb",
   "metadata": {},
   "outputs": [
    {
     "name": "stdout",
     "output_type": "stream",
     "text": [
      "File uploaded with ID: 63fc4184c766296b075ab500\n"
     ]
    }
   ],
   "source": [
    "import pymongo\n",
    "from gridfs import GridFS\n",
    "\n",
    "# connect to MongoDB server\n",
    "client = pymongo.MongoClient(\"mongodb://localhost:27017/\")\n",
    "\n",
    "# select a database and GridFS collection\n",
    "db = client[\"gridfs\"]\n",
    "fs = GridFS(db, collection=\"myfiles\")\n",
    "\n",
    "# open the file to be uploaded\n",
    "with open(\"ranking.csv\", \"rb\") as file:\n",
    "    # upload the file to GridFS\n",
    "    file_id = fs.put(file, filename=\"ranking.csv\")\n",
    "    \n",
    "print(f\"File uploaded with ID: {file_id}\")\n"
   ]
  },
  {
   "cell_type": "markdown",
   "id": "9e174bbb",
   "metadata": {},
   "source": [
    "<img src=\"images/s12.png\">"
   ]
  },
  {
   "cell_type": "code",
   "execution_count": null,
   "id": "572f4714",
   "metadata": {},
   "outputs": [],
   "source": []
  },
  {
   "cell_type": "markdown",
   "id": "a3b44c4b",
   "metadata": {},
   "source": [
    "We then open the file to be uploaded and use the put method to store the file in GridFS. The **put** method returns the ID of the newly uploaded file.\n",
    "\n",
    "To retrieve a file from GridFS, you can use the **get** method and pass in the ID of the file. Here's an example:"
   ]
  },
  {
   "cell_type": "code",
   "execution_count": 55,
   "id": "b8fbe12f",
   "metadata": {
    "collapsed": true
   },
   "outputs": [
    {
     "name": "stdout",
     "output_type": "stream",
     "text": [
      "b'Rank,institution,location code,location,SCORE,ar rank,er score,fsr score,fsr rank,cpf score,cpf rank,ifr score,ifr rank,isr score,isr rank,irn score,irn rank,ger score,ger rank,score scaled\\n1,Massachusetts Institute of Technology (MIT) ,US,United States,100,5,100,100,14,100,5,100.0,54,90,109,96.1,58,100,3,100\\n2,University of Cambridge,UK,United Kingdom,100,2,100,100,11,92,55,100.0,60,96,70,99.5,6,100,9,98\\n3,Stanford University,US,United States,100,4,100,100,6,99,9,99.0,74,60,235,96.3,55,100,2,98\\n4,University of Oxford,UK,United Kingdom,100,3,100,100,8,90,64,98.0,101,98,54,99.9,3,100,7,98\\n5,Harvard University,US,United States,100,1,100,99,35,100,2,76.0,228,66,212,100.0,1,100,1,97\\n6,California Institute of Technology (Caltech),US,United States,96,28,87,100,3,100,4,99.0,75,85,134,73.0,425,98,24,97\\n7,Imperial College London,UK,United Kingdom,98,24,99,99,34,86,84,100.0,55,100,13,98.1,20,88,76,97\\n8,UCL,UK,United Kingdom,99,14,98,97,51,77,119,99.0,87,100,14,100.0,2,90,71,95\\n9,ETH Zurich - Swiss Federal Institute of Technology,CH,Switzerland,98,18,91,74,164,99,18,100.0,24,98,59,96.2,56,91,64,93\\n10,University of Chicago,US,United States,99,16,92,92,71,86,79,81.0,214,76,176,89.6,170,98,30,93\\n11,National University of Singapore (NUS),SG,Singapore,99,13,94,79,136,91,58,100.0,33,73,187,89.9,165,99,16,92\\n12,Peking University,CN,China (Mainland),99,15,96,87,98,96,34,57.0,323,36,376,77.5,354,91,59,91\\n13,University of Pennsylvania,US,United States,96,29,92,99,23,70,142,96.0,128,66,215,93.3,104,100,5,90\\n14,Tsinghua University,CN,China (Mainland),98,17,97,92,72,98,24,16.0,601+,25,462,75.5,381,87,80,90\\n15,The University of Edinburgh,UK,United Kingdom,98,26,97,81,129,70,149,98.0,98,99,38,98.7,15,54,219,89\\n16,EPFL,CH,Switzerland,83,59,71,91,82,99,15,100.0,17,100,11,87.3,207,28,451,89\\n17,Princeton University,US,United States,99,10,98,72,172,100,3,26.0,515,62,226,78.5,340,100,8,89\\n18,Yale University,US,United States,99,9,100,100,2,51,249,89.0,179,77,165,92.0,123,100,4,89\\n19,\"Nanyang Technological University, Singapore (NTU)\",SG,Singapore,90,42,76,83,120,94,49,100.0,30,74,186,89.6,169,84,86,88\\n20,Cornell University,US,United States,98,23,91,62,245,99,17,63.0,290,55,256,90.0,161,99,19,87\\n21,The University of Hong Kong,HK,Hong Kong SAR,97,27,62,84,113,72,131,100.0,27,98,50,81.1,303,99,23,87\\n22,Columbia University,US,United States,99,11,98,100,12,47,282,47.0,369,94,85,98.9,14,99,11,86\\n23,The University of Tokyo,JP,Japan,100,7,99,91,78,73,128,10.0,601+,27,448,89.5,174,97,33,85\\n24,Johns Hopkins University,US,United States,87,49,47,100,5,87,76,63.0,294,82,145,97.7,27,95,42,85\\n25,University of Michigan-Ann Arbor,US,United States,98,22,91,88,92,62,190,71.0,253,33,404,96.3,52,96,40,84\\n26,Universit\\xc3\\xa9 PSL,FR,France,74,78,97,99,24,84,96,59.0,308,83,142,99.7,4,53,227,83\\n27,\"University of California, Berkeley (UCB)\",US,United States,100,6,100,23,599,99,10,93.0,155,57,248,96.7,45,99,21,82\\n28,The University of Manchester,UK,United Kingdom,95,33,97,63,234,59,207,93.0,152,99,41,98.9,13,66,158,82\\n29,Seoul National University,KR,South Korea,98,19,97,87,100,70,147,12.0,601+,10,601+,79.3,329,97,34,82\\n30,The Australian National University,AU,Australia,93,35,70,38,404,99,16,100.0,37,96,71,94.6,86,59,192,82\\n31,McGill University,CA,Canada,93,36,93,68,193,59,203,87.0,188,95,77,95.2,69,90,72,81\\n32,Northwestern University,US,United States,84,56,71,98,45,84,95,40.0,401,38,351,89.0,183,98,29,81\\n33,The University of Melbourne,AU,Australia,98,20,94,17,601+,95,45,93.0,157,99,30,97.6,30,91,63,81\\n34,Fudan University,CN,China (Mainland),83,60,93,89,88,70,146,89.0,178,38,355,70.6,457,65,164,81\\n35,University of Toronto,CA,Canada,99,12,98,65,219,43,313,95.0,132,95,74,96.7,46,94,45,81\\n36,Kyoto University,JP,Japan,98,21,98,94,62,54,234,14.0,601+,22,503,85.5,233,56,201,81\\n37,King\\'s College London,UK,United Kingdom,88,47,83,74,162,60,198,98.0,104,100,21,99.3,8,56,200,81\\n38,The Chinese University of Hong Kong (CUHK),HK,Hong Kong SAR,87,51,49,60,250,92,53,100.0,58,90,108,74.9,398,79,108,80\\n39,New York University (NYU),US,United States,95,32,99,98,48,28,440,31.0,463,94,87,92.0,122,99,13,80\\n40,The Hong Kong University of Science and Technology,HK,Hong Kong SAR,82,64,50,62,239,98,20,100.0,20,87,121,56.2,601+,91,61,79\\n41,The University of Sydney,AU,Australia,96,30,91,15,601+,92,56,99.0,84,100,12,97.3,34,90,65,79\\n42,KAIST - Korea Advanced Institute of Science & Technology,KR,South Korea,88,48,85,68,192,97,27,23.0,542,12,601+,65.2,505,63,178,79\\n43,Zhejiang University,CN,China (Mainland),72,82,95,78,146,88,72,99.0,88,42,325,80.8,309,42,307,79\\n44,\"University of California, Los Angeles (UCLA)\",US,United States,100,8,99,37,410,85,87,45.0,377,27,450,96.3,53,98,31,78\\n45,The University of New South Wales (UNSW Sydney),AU,Australia,89,46,91,16,601+,97,28,100.0,50,99,31,98.2,17,93,51,78\\n46,Shanghai Jiao Tong University,CN,China (Mainland),82,61,90,57,269,97,31,40.0,400,38,357,73.9,412,57,194,77\\n47,University of British Columbia,CA,Canada,98,25,95,56,275,42,332,89.0,180,74,181,97.9,24,75,119,77\\n48,Institut Polytechnique de Paris,FR,France,45,180,99,98,41,94,49,97.0,124,98,56,94.8,78,99,12,76\\n49,Technical University of Munich,DE,Germany,84,57,96,96,57,25,482,70.0,255,95,80,91.8,125,37,347,76\\n50,Duke University,US,United States,86,53,79,100,10,41,345,20.0,581,55,257,95.5,63,98,27,74\\n51,The University of Queensland,AU,Australia,86,52,75,20,601+,90,62,100.0,36,100,19,94.6,85,41,311,74\\n52,Carnegie Mellon University,US,United States,72,83,69,58,267,100,8,38.0,414,97,66,88.7,188,85,83,74\\n53,\"University of California, San Diego (UCSD)\",US,United States,90,45,61,55,280,77,118,54.0,333,53,267,96.9,40,21,560,74\\n54,City University of Hong Kong,HK,Hong Kong SAR,57,130,29,88,93,98,25,100.0,16,100,15,55.1,601+,57,198,73\\n55,Tokyo Institute of Technology (Tokyo Tech),JP,Japan,74,80,93,81,126,65,168,36.0,433,37,362,55.8,601+,33,377,72\\n56,The London School of Economics and Political Science (LSE),UK,United Kingdom,69,91,98,37,408,84,93,100.0,32,100,8,67.6,487,99,10,72\\n57,Monash University,AU,Australia,87,50,80,11,601+,79,113,100.0,48,100,18,95.1,75,56,202,71\\n58,University of Amsterdam,NL,Netherlands,82,62,42,26,562,97,29,92.0,161,80,152,97.2,35,51,241,71\\n59,Ludwig-Maximilians-Universit\\xc3\\xa4t M\\xc3\\xbcnchen,DE,Germany,92,37,75,56,278,45,296,64.0,287,38,352,94.7,84,39,333,70\\n60,Sorbonne University,FR,France,90,44,41,40,387,86,86,28.0,496,54,262,99.6,5,60,187,70\\n61,Delft University of Technology,NL,Netherlands,71,87,80,34,447,84,94,100.0,64,83,141,95.9,60,64,172,70\\n62,University of Bristol,UK,United Kingdom,74,79,84,58,268,55,225,90.0,170,84,135,93.9,92,59,190,70\\n63,Brown University,US,United States,57,128,54,80,132,89,65,82.0,210,49,294,73.6,417,99,14,69\\n64,The University of Warwick,UK,United Kingdom,71,85,89,43,360,63,186,98.0,111,99,45,93.6,97,62,181,69\\n65,Ruprecht-Karls-Universit\\xc3\\xa4t Heidelberg,DE,Germany,78,72,40,99,26,41,346,51.0,348,47,307,95.2,70,22,531,69\\n66,The Hong Kong Polytechnic University,HK,Hong Kong SAR,66,99,37,78,147,68,151,100.0,46,80,153,74.2,409,49,256,69\\n67,Universidad de Buenos Aires (UBA),AR,Argentina,92,39,94,76,158,1,601+,63.0,293,68,207,63.0,533,34,371,68\\n68,Osaka University,JP,Japan,80,68,85,67,205,59,206,25.0,525,14,601+,75.2,385,21,567,68\\n69,Universit\\xc3\\xa9 Paris-Saclay,FR,France,57,131,99,99,28,49,266,43.0,387,59,243,97.1,37,7,601+,68\\n70,Universiti Malaya (UM),MY,Malaysia,79,70,94,67,200,39,355,43.0,388,53,272,91.8,126,41,310,67\\n71,Pohang University of Science And Technology (POSTECH),KR,South Korea,47,169,69,100,15,98,26,34.0,444,2,601+,30.9,601+,54,215,67\\n72,University of Texas at Austin,US,United States,93,34,85,9,601+,90,61,7.0,601+,10,601+,90.9,142,71,131,67\\n73,Yonsei University,KR,South Korea,75,76,95,88,94,28,448,19.0,587,51,285,63.5,526,68,144,67\\n74,Korea University,KR,South Korea,79,71,93,86,105,29,433,14.0,601+,32,406,63.1,532,71,129,66\\n75,Lomonosov Moscow State University,RU,Russia,80,67,77,99,27,5,601+,19.0,589,91,103,87.5,204,91,62,66\\n76,KU Leuven,BE,Belgium,83,58,53,7,601+,92,54,91.0,164,43,320,99.1,11,44,283,66\\n77,National Taiwan University (NTU),TW,Taiwan,92,38,92,33,461,49,262,19.0,591,32,412,75.0,393,96,37,65\\n78,University of Southampton,UK,United Kingdom,50,153,56,63,233,82,100,96.0,130,93,89,96.7,47,42,302,65\\n79,Tohoku University,JP,Japan,71,86,78,98,43,34,401,14.0,601+,16,595,66.8,493,18,601+,64\\n80,University of Washington,US,United States,84,55,48,10,601+,100,7,32.0,458,36,384,97.6,29,84,89,64\\n81,University of Glasgow,UK,United Kingdom,75,77,75,50,311,34,394,95.0,134,98,49,94.7,81,29,430,64\\n83,University of Wisconsin-Madison,US,United States,82,63,48,70,184,41,333,37.0,421,23,482,93.2,105,84,87,63\\n84,University of Zurich,CH,Switzerland,58,124,39,93,68,49,268,100.0,57,55,255,93.5,98,77,114,63\\n85,University of Illinois at Urbana-Champaign,US,United States,85,54,60,9,601+,88,71,20.0,578,46,309,92.2,118,70,135,63\\n86,University of Leeds,UK,United Kingdom,70,88,78,41,376,47,276,86.0,195,86,129,97.8,26,42,300,62\\n87,The University of Auckland,NZ,New Zealand,81,65,48,22,601+,54,235,99.0,71,92,102,87.2,208,79,110,62\\n88,Georgia Institute of Technology,US,United States,67,97,77,11,601+,95,44,62.0,299,54,260,78.5,341,63,176,62\\n89,KTH Royal Institute of Technology ,SE,Sweden,45,178,58,70,186,76,123,97.0,123,70,199,89.9,164,81,100,62\\n90,The University of Western Australia,AU,Australia,55,137,49,21,601+,98,19,100.0,28,99,23,98.2,16,65,167,61\\n91,University of Birmingham,UK,United Kingdom,66,100,74,44,349,45,295,91.0,168,87,122,95.1,73,37,344,61\\n92,Durham University,UK,United Kingdom,57,125,89,31,501,65,174,97.0,122,87,123,89.1,182,43,295,60\\n93,Pennsylvania State University,US,United States,76,75,69,32,473,67,162,25.0,523,31,421,96.8,44,44,282,60\\n94,University of Science and Technology of China,CN,China (Mainland),51,147,12,86,103,99,12,18.0,596,5,601+,67.0,491,37,345,60\\n95,Lund University,SE,Sweden,68,92,50,51,307,41,341,95.0,133,76,173,97.6,28,64,168,60\\n96,The University of Sheffield,UK,United Kingdom,58,122,53,59,264,46,284,85.0,199,97,61,94.7,79,33,376,59\\n97,University of St Andrews,UK,United Kingdom,46,175,67,61,249,58,209,98.0,100,99,35,83.4,265,44,292,59\\n98,\"Trinity College Dublin, The University of Dublin\",IE,Ireland,67,95,48,25,573,60,199,99.0,73,93,92,87.3,206,97,32,59\\n99,Sungkyunkwan University(SKKU),KR,South Korea,60,115,72,83,115,37,368,18.0,592,38,354,58.8,582,33,375,58\\n100,Rice University,US,United States,38,218,26,69,189,86,82,90.0,174,92,100,57.2,601+,70,133,58\\n101,University of Oslo,NO,Norway,54,141,14,83,117,62,187,86.0,196,27,449,97.9,25,65,163,58\\n102,\"University of California, Davis\",US,United States,64,105,51,27,559,68,153,84.0,204,70,198,90.2,155,25,488,58\\n103,\"University of North Carolina, Chapel Hill\",US,United States,65,102,44,80,135,46,287,27.0,507,10,601+,90.0,160,67,152,58\\n105,Universidad Nacional Aut\\xc3\\xb3noma de M\\xc3\\xa9xico (UNAM),MX,Mexico,96,31,95,43,358,2,601+,9.0,601+,2,601+,91.3,136,61,184,58\\n106,King Abdulaziz University (KAU),SA,Saudi Arabia,48,167,70,66,215,50,256,99.0,94,54,263,93.4,102,10,601+,57\\n107,University of Helsinki,FI,Finland,65,103,44,66,212,49,261,67.0,269,5,601+,95.2,67,62,180,57\\n108,Boston University,US,United States,62,110,57,40,388,61,195,33.0,449,83,144,86.9,212,80,103,57\\n109,The University of Adelaide,AU,Australia,52,146,35,17,601+,94,46,99.0,76,99,28,93.1,108,40,325,57\\n110,University of Alberta,CA,Canada,55,139,48,51,305,53,237,95.0,135,76,171,96.1,57,41,318,56\\n111,\\xc3\\x89cole Normale Sup\\xc3\\xa9rieure de Lyon,FR,France,31,265,12,94,63,96,36,66.0,282,17,572,70.1,461,44,289,56\\n112,Nagoya University,JP,Japan,59,117,54,90,84,33,403,15.0,601+,20,536,66.5,499,35,367,56\\n113,Utrecht University,NL,Netherlands,65,101,26,35,443,79,112,58.0,312,23,489,94.7,83,42,305,56\\n114,University of Nottingham,UK,United Kingdom,59,120,75,36,421,45,298,90.0,173,76,172,98.1,19,32,391,56\\n115,Universidade de S\\xc3\\xa3o Paulo,BR,Brazil,91,41,69,17,601+,40,348,7.0,601+,2,601+,94.7,82,78,113,56\\n116,Aalto University,FI,Finland,44,187,45,44,347,89,68,94.0,139,35,387,90.3,154,79,106,55\\n117,Universit\\xc3\\xa9 de Montr\\xc3\\xa9al ,CA,Canada,57,129,47,76,157,27,455,89.0,176,53,266,86.0,224,19,601+,55\\n118,Freie Universitaet Berlin,DE,Germany,80,66,44,4,601+,63,183,63.0,298,42,328,91.9,124,33,383,55\\n119,Washington University in St. Louis,US,United States,40,210,15,99,22,55,221,82.0,212,55,258,84.9,243,71,132,55\\n120,University of Bern,CH,Switzerland,30,283,35,64,223,98,22,100.0,41,41,329,95.3,66,18,601+,55\\n121,Pontificia Universidad Cat\\xc3\\xb3lica de Chile (UC),CL,Chile,91,40,98,22,601+,12,601+,17.0,601+,3,601+,82.7,275,90,70,54\\n122,Newcastle University,UK,United Kingdom,46,176,83,39,398,58,211,84.0,203,75,178,96.9,39,14,601+,54\\n123,Universiti Putra Malaysia (UPM),MY,Malaysia,56,132,59,75,160,19,565,44.0,383,92,99,85.0,240,6,601+,54\\n124,Wageningen University & Research,NL,Netherlands,42,193,17,97,52,48,275,50.0,349,76,175,96.9,43,18,601+,54\\n125,Chalmers University of Technology,SE,Sweden,27,305,60,60,255,81,104,100.0,53,72,190,84.1,256,22,538,54\\n126,Queen Mary University of London,UK,United Kingdom,48,163,36,42,363,62,188,99.0,81,99,40,93.7,96,13,601+,54\\n127,University of Geneva,CH,Switzerland,46,174,20,44,345,74,127,100.0,39,96,68,92.8,110,45,276,54\\n128,Uppsala University,SE,Sweden,63,107,27,43,357,43,314,95.0,137,74,182,97.1,36,48,263,54\\n129,Purdue University,US,United States,62,109,73,11,601+,70,141,51.0,345,48,300,92.2,119,63,173,54\\n130,Universiti Kebangsaan Malaysia (UKM),MY,Malaysia,57,126,62,93,70,9,601+,42.0,393,38,353,76.5,369,5,601+,54\\n131,Humboldt-Universit\\xc3\\xa4t zu Berlin,DE,Germany,90,43,55,8,601+,29,434,58.0,314,33,397,91.4,133,26,476,54\\n132,Leiden University,NL,Netherlands,68,94,23,22,601+,65,169,85.0,202,47,308,94.7,80,30,416,54\\n133,Nanjing University,CN,China (Mainland),57,127,17,32,478,96,39,54.0,337,8,601+,74.9,400,29,423,53\\n134,University of Southern California,US,United States,54,142,59,28,535,71,138,36.0,434,77,164,89.2,180,94,44,53\\n135,Kyushu University,JP,Japan,56,133,65,84,110,26,466,15.0,601+,20,530,66.1,502,22,543,53\\n136,University of Basel,CH,Switzerland,28,304,26,53,293,95,43,100.0,31,84,138,90.1,158,52,233,53\\n137,University of Technology Sydney,AU,Australia,41,199,66,9,601+,90,63,94.0,142,97,63,89.5,176,39,326,53\\n138,Eindhoven University of Technology,NL,Netherlands,28,296,72,50,312,78,116,100.0,45,56,251,72.3,436,45,279,52\\n139,Politecnico di Milano,IT,Italy,67,96,76,5,601+,53,239,57.0,319,54,264,87.8,200,39,328,52\\n140,The Ohio State University,US,United States,61,113,62,51,308,34,396,63.0,297,16,600,96.5,49,41,309,52\\n141,Hokkaido University,JP,Japan,55,136,60,77,151,30,430,18.0,601+,17,574,72.8,429,16,601+,51\\n142,\"KIT, Karlsruhe Institute of Technology\",DE,Germany,44,185,67,33,462,72,133,68.0,266,50,288,89.6,171,54,220,51\\n143,Ghent University,BE,Belgium,54,144,30,83,121,26,465,72.0,250,21,520,99.1,12,24,494,51\\n144,Universiti Sains Malaysia (USM),MY,Malaysia,59,118,66,65,220,13,601+,25.0,522,75,179,79.6,327,6,601+,51\\n145,University of Groningen,NL,Netherlands,51,148,21,54,286,42,330,93.0,151,86,124,96.3,54,20,569,51\\n146,Lancaster University,UK,United Kingdom,39,215,30,31,492,82,103,93.0,154,94,86,88.9,186,28,448,51\\n147,RWTH Aachen University,DE,Germany,49,157,88,5,601+,73,129,48.0,364,81,151,84.1,255,30,405,51\\n148,University of Rochester,US,United States,23,356,20,99,36,55,230,74.0,238,95,78,75.1,389,46,273,51\\n149,\"University of California, Santa Barbara (UCSB)\",US,United States,55,135,24,10,601+,97,30,57.0,317,28,444,78.4,343,15,601+,50\\n150,Al-Farabi Kazakh National University,KZ,Kazakhstan,49,159,76,98,46,1,601+,30.0,470,34,393,35.3,601+,12,601+,50\\n151,University of Vienna,AT,Austria,69,89,55,24,596,14,601+,98.0,96,89,112,96.6,48,73,126,50\\n152,McMaster University,CA,Canada,39,212,50,84,112,21,535,99.0,85,59,241,79.8,324,42,301,50\\n153,Stockholm University,SE,Sweden,54,143,17,29,525,62,189,82.0,213,77,169,97.3,33,69,141,50\\n154,University of Waterloo,CA,Canada,40,209,77,7,601+,82,101,79.0,222,82,149,83.6,263,87,78,50\\n155,Emory University,US,United States,25,336,15,99,40,68,154,50.0,351,31,420,87.7,201,44,287,49\\n156,Indian Institute of Science,IN,India,37,223,22,56,276,100,1,11.0,601+,1,601+,46.0,601+,14,601+,49\\n157,Hanyang University,KR,South Korea,45,182,79,83,119,17,588,18.0,594,43,315,68.0,480,33,374,49\\n158,Technische Universit\\xc3\\xa4t Berlin (TU Berlin),DE,Germany,55,140,64,48,321,23,509,46.0,376,75,180,83.2,268,31,397,49\\n159,Michigan State University,US,United States,60,114,61,12,601+,58,210,62.0,303,16,584,93.2,107,53,229,48\\n160,King Fahd University of Petroleum & Minerals,SA,Saudi Arabia,30,284,24,88,95,50,253,100.0,26,21,508,70.2,458,66,156,48\\n162,University of York,UK,United Kingdom,43,191,36,45,343,48,270,88.0,183,82,147,88.9,187,23,511,48\\n163,The University of Exeter,UK,United Kingdom,41,201,56,31,491,55,224,92.0,162,77,163,94.8,77,15,601+,48\\n164,Texas A&M University,US,United States,61,112,65,5,601+,67,161,24.0,527,14,601+,91.1,140,36,356,47\\n165,\"University of Maryland, College Park\",US,United States,51,151,35,37,418,71,140,23.0,534,14,601+,92.6,112,61,185,47\\n166,Cardiff University,UK,United Kingdom,46,177,47,40,390,41,336,84.0,207,74,183,91.4,132,19,599,47\\n167,Alma Mater Studiorum - University of Bologna,IT,Italy,78,73,43,3,601+,49,263,7.0,601+,10,601+,95.1,74,40,322,47\\n168,Universidad de Chile,CL,Chile,80,69,92,12,601+,13,601+,9.0,601+,5,601+,77.4,355,42,304,47\\n169,Eberhard Karls Universit\\xc3\\xa4t T\\xc3\\xbcbingen,DE,Germany,44,184,21,96,55,14,601+,67.0,277,26,460,96.5,50,16,601+,47\\n170,Tecnol\\xc3\\xb3gico de Monterrey,MX,Mexico,48,164,92,72,170,2,601+,52.0,339,8,601+,65.1,508,85,82,47\\n171,Sapienza University of Rome,IT,Italy,78,74,36,4,601+,50,258,3.0,601+,11,601+,98.0,23,55,209,46\\n172,Indian Institute of Technology Bombay (IITB),IN,India,53,145,86,25,572,55,228,3.0,601+,1,601+,58.0,593,76,115,46\\n173,Western University,CA,Canada,30,280,60,4,601+,96,32,99.0,72,57,250,86.0,225,81,101,46\\n174,Ecole des Ponts ParisTech,FR,France,8,501,55,97,53,56,219,36.0,431,95,79,43.8,601+,90,68,46\\n175,Indian Institute of Technology Delhi (IITD),IN,India,49,161,79,27,543,65,176,2.0,601+,1,601+,42.2,601+,84,84,46\\n176,Case Western Reserve University,US,United States,18,471,20,89,90,65,172,47.0,366,64,220,72.5,433,40,319,46\\n177,National Tsing Hua University,TW,Taiwan,51,149,69,34,449,47,279,17.0,601+,19,552,35.8,601+,5,601+,45\\n178,Universitat Aut\\xc3\\xb2noma de Barcelona,ES,Spain,62,111,28,11,601+,66,164,20.0,574,20,535,94.1,91,20,590,45\\n179,Technische Universit\\xc3\\xa4t Wien,AT,Austria,30,274,50,12,601+,86,83,79.0,221,86,127,76.7,366,29,426,45\\n180,University of Bath,UK,United Kingdom,34,247,68,19,601+,59,205,97.0,120,83,143,78.2,344,41,317,45\\n181,Khalifa University of Science and Technology,AE,United Arab Emirates,16,501,15,91,80,51,248,100.0,10,69,204,72.8,430,15,601+,45\\n182,University College Dublin,IE,Ireland,48,165,46,22,601+,43,320,98.0,103,63,223,87.6,203,64,170,45\\n183,University of Pittsburgh,US,United States,39,211,16,96,58,37,373,7.0,601+,13,601+,90.3,152,44,293,45\\n184,Universitat de Barcelona,ES,Spain,71,84,28,13,601+,44,305,14.0,601+,26,458,96.9,42,53,230,45\\n185,University of Gothenburg,SE,Sweden,37,228,20,66,216,34,399,86.0,192,74,185,94.9,76,48,262,45\\n186,University of Minnesota Twin Cities,US,United States,60,116,28,38,403,49,269,7.0,601+,10,601+,97.6,31,54,218,45\\n187,University of Wollongong,AU,Australia,29,290,34,20,601+,88,74,93.0,149,70,200,91.4,131,24,504,45\\n188,University of Florida,US,United States,48,166,47,71,177,26,470,17.0,601+,11,601+,98.0,22,54,224,45\\n189,Albert-Ludwigs-Universitaet Freiburg,DE,Germany,47,170,18,36,426,57,217,67.0,272,41,339,89.0,184,19,601+,45\\n190,RMIT University,AU,Australia,36,234,55,6,601+,66,167,100.0,35,93,91,85.8,229,41,316,44\\n191,University of Liverpool,UK,United Kingdom,42,194,34,41,377,33,406,87.0,189,88,118,98.1,21,38,335,44\\n192,\"The University of Newcastle, Australia (UON)\",AU,Australia,29,294,25,34,455,86,80,99.0,68,17,567,78.6,339,45,280,44\\n193,Curtin University,AU,Australia,30,282,41,13,601+,89,67,100.0,40,44,314,93.7,94,20,586,44\\n194,Wuhan University,CN,China (Mainland),38,219,56,13,601+,88,73,42.0,396,7,601+,72.8,428,32,387,44\\n195,Macquarie University,AU,Australia,30,275,48,13,601+,74,126,93.0,158,88,114,88.3,193,53,226,44\\n196,Universit\\xc3\\xa9 catholique de Louvain (UCLouvain),BE,Belgium,49,156,43,5,601+,61,194,89.0,177,38,358,89.6,173,49,258,44\\n197,Keio University,JP,Japan,50,154,91,60,258,6,601+,10.0,601+,12,601+,46.0,601+,83,90,44\\n198,Ulsan National Institute of Science and Technology (UNIST),SK,South Korea,11,501,7,79,138,99,11,38.0,413,12,601+,31.7,601+,14,601+,44\\n199,Vanderbilt University,US,United States,25,329,22,100,9,38,361,38.0,412,30,429,83.0,271,56,207,43\\n200,Technische Universit\\xc3\\xa4t Dresden,DE,Germany,37,226,37,89,89,14,601+,42.0,392,36,383,94.2,90,9,601+,43\\n201,Rheinische Friedrich-Wilhelms-Universit\\xc3\\xa4t Bonn,DE,Germany,51,150,16,68,199,15,601+,51.0,344,32,416,92.4,116,22,533,43\\n202,National Yang Ming Chiao Tung University,TW,Taiwan,34,243,74,50,314,46,290,23.0,533,22,501,42.8,601+,51,242,43\\n203,Universiti Teknologi Malaysia ,MY,Malaysia,44,186,55,46,335,28,446,12.0,601+,77,168,82.9,272,13,601+,43\\n204,University of Lausanne,CH,Switzerland,30,281,16,43,355,61,197,99.0,69,59,242,82.0,288,53,231,43\\n205,Dartmouth College,US,United States,19,447,25,65,222,86,81,5.0,601+,32,409,53.7,601+,96,38,42\\n206,Waseda University,JP,Japan,58,121,96,27,558,4,601+,28.0,494,35,390,63.5,525,72,127,42\\n207,University of Bergen,NO,Norway,33,253,8,76,159,41,347,86.0,193,8,601+,87.9,198,21,554,42\\n208,Erasmus University Rotterdam ,NL,Netherlands,35,239,47,28,539,54,232,83.0,208,53,269,87.1,209,56,206,42\\n209,Qatar University,QA,Qatar,24,349,33,61,248,36,378,100.0,19,94,84,90.1,159,1,601+,42\\n210,Universidade Estadual de Campinas (Unicamp),BR,Brazil,68,93,32,11,601+,43,317,8.0,601+,3,601+,84.1,257,13,601+,42\\n211,Universite libre de Bruxelles,BE,Belgium,34,248,50,4,601+,67,159,96.0,127,86,132,82.2,284,49,253,42\\n212,Tongji University,CN,China (Mainland),33,254,10,26,563,87,75,66.0,281,35,386,71.0,448,25,478,42\\n213,University of Twente,NL,Netherlands,20,418,36,37,419,67,158,98.0,99,90,107,82.5,280,9,601+,42\\n214,Vrije Universiteit Amsterdam,NL,Netherlands,39,214,12,30,512,70,150,64.0,285,33,402,89.8,166,19,601+,42\\n215,Universidad Aut\\xc3\\xb3noma de Madrid,ES,Spain,59,119,55,37,414,20,547,9.0,601+,14,601+,89.3,179,23,527,42\\n216,University of G\\xc3\\xb6ttingen,DE,Germany,49,158,21,64,229,18,576,48.0,359,23,484,92.7,111,15,601+,42\\n217,Harbin Institute of Technology,CN,China (Mainland),26,320,8,50,313,96,35,9.0,601+,7,601+,64.7,513,15,601+,42\\n218,University of Otago,NZ,New Zealand,47,172,34,12,601+,51,250,100.0,38,34,394,77.0,362,49,254,42\\n219,Arizona State University,US,United States,46,173,40,8,601+,59,201,67.0,270,37,372,90.2,156,33,382,41\\n220,Universidad de los Andes,CO,Colombia,62,108,95,19,601+,6,601+,30.0,469,1,601+,56.9,601+,66,159,41\\n221,University of Aberdeen,UK,United Kingdom,28,301,36,33,458,50,257,94.0,140,97,62,87.4,205,19,601+,41\\n222,Queensland University of Technology (QUT),AU,Australia,39,217,40,7,601+,65,177,97.0,118,41,335,90.0,162,22,547,41\\n223,The Hebrew University of Jerusalem,IL,Israel,34,242,23,78,144,28,445,63.0,291,7,601+,74.6,404,89,74,41\\n224,Chulalongkorn University,TH,Thailand,65,104,63,34,446,6,601+,9.0,601+,2,601+,75.1,390,93,47,41\\n225,National Cheng Kung University (NCKU),TW,Taiwan,47,171,71,40,386,22,525,27.0,502,22,494,51.4,601+,17,601+,41\\n226,Complutense University of Madrid,ES,Spain,69,90,57,22,601+,10,601+,5.0,601+,15,601+,96.4,51,67,154,41\\n227,Southern University of Science and Technology,CN,China (Mainland),7,501,1,97,50,80,107,38.0,416,1,601+,56.9,601+,4,601+,41\\n228,Universit\\xc3\\xa4t Hamburg,DE,Germany,50,152,19,16,601+,58,208,43.0,390,21,524,93.2,106,34,370,40\\n229,University of Reading,UK,United Kingdom,33,255,29,20,601+,55,229,93.0,153,83,139,90.4,150,29,424,40\\n230,Bauman Moscow State Technical University,RU,Russia,27,311,50,100,16,1,601+,37.0,425,41,337,8.6,601+,16,601+,40\\n231,Gadjah Mada University,ID,Indonesia,49,160,55,62,243,1,601+,39.0,409,2,601+,28.8,601+,36,358,40\\n232,Radboud University ,NL,Netherlands,29,288,13,27,548,82,102,69.0,261,19,547,90.9,141,6,601+,40\\n233,Queen\\'s University Belfast,UK,United Kingdom,31,266,27,34,448,37,374,99.0,86,99,46,95.1,71,11,601+,39\\n234,Universitat Pompeu Fabra (Barcelona),ES,Spain,30,278,26,9,601+,91,60,67.0,274,22,502,78.4,342,51,240,39\\n235,Bandung Institute of Technology (ITB),ID,Indonesia,43,189,54,62,244,2,601+,66.0,279,3,601+,21.5,601+,41,313,39\\n236,\"University of California, Irvine\",US,United States,39,213,18,12,601+,59,200,72.0,251,69,206,85.8,231,11,601+,39\\n237,King Saud University,SA,Saudi Arabia,34,245,13,60,252,29,438,98.0,105,23,487,93.4,103,83,93,39\\n238,University of Cape Town,ZA,South Africa,43,190,50,15,601+,44,302,62.0,302,30,426,95.5,64,92,53,39\\n239,University of Ottawa,CA,Canada,25,330,38,4,601+,80,110,90.0,171,70,196,90.7,146,10,601+,39\\n240,University of Sussex,UK,United Kingdom,23,355,6,16,601+,80,109,96.0,125,92,101,85.9,227,38,340,39\\n241,USI - Universit\\xc3\\xa0 della Svizzera italiana,CH,Switzerland,5,501,4,85,109,47,283,100.0,23,100,9,38.5,601+,61,183,39\\n242,University of Calgary,CA,Canada,36,237,50,21,601+,41,334,80.0,218,54,265,85.2,236,35,366,39\\n243,Universidad Nacional de Colombia,CO,Colombia,67,98,93,6,601+,3,601+,7.0,601+,1,601+,58.6,583,36,357,38\\n244,Universit\\xc3\\xa0\\xc2\\xa0di Padova,IT,Italy,56,134,30,9,601+,51,247,11.0,601+,7,601+,93.4,100,10,601+,38\\n245,University of Notre Dame,US,United States,26,321,44,61,247,47,281,23.0,540,15,601+,74.8,402,74,120,38\\n246,Queen\\'s University at Kingston,CA,Canada,38,220,69,6,601+,49,264,70.0,256,33,403,77.6,353,74,122,38\\n247,Yeshiva University,US,United States,2,501,3,85,108,98,21,,,8,601+,42.2,601+,24,505,38\\n1,Massachusetts Institute of Technology (MIT) ,US,United States,100,5,100,100,14,100,5,100.0,54,90,109,96.1,58,100,3,100\\n2,University of Cambridge,UK,United Kingdom,100,2,100,100,11,92,55,100.0,60,96,70,99.5,6,100,9,98\\n3,Stanford University,US,United States,100,4,100,100,6,99,9,99.0,74,60,235,96.3,55,100,2,98\\n4,University of Oxford,UK,United Kingdom,100,3,100,100,8,90,64,98.0,101,98,54,99.9,3,100,7,98\\n5,Harvard University,US,United States,100,1,100,99,35,100,2,76.0,228,66,212,100.0,1,100,1,97\\n6,California Institute of Technology (Caltech),US,United States,96,28,87,100,3,100,4,99.0,75,85,134,73.0,425,98,24,97\\n7,Imperial College London,UK,United Kingdom,98,24,99,99,34,86,84,100.0,55,100,13,98.1,20,88,76,97\\n8,UCL,UK,United Kingdom,99,14,98,97,51,77,119,99.0,87,100,14,100.0,2,90,71,95\\n9,ETH Zurich - Swiss Federal Institute of Technology,CH,Switzerland,98,18,91,74,164,99,18,100.0,24,98,59,96.2,56,91,64,93\\n10,University of Chicago,US,United States,99,16,92,92,71,86,79,81.0,214,76,176,89.6,170,98,30,93\\n11,National University of Singapore (NUS),SG,Singapore,99,13,94,79,136,91,58,100.0,33,73,187,89.9,165,99,16,92\\n12,Peking University,CN,China (Mainland),99,15,96,87,98,96,34,57.0,323,36,376,77.5,354,91,59,91\\n13,University of Pennsylvania,US,United States,96,29,92,99,23,70,142,96.0,128,66,215,93.3,104,100,5,90\\n14,Tsinghua University,CN,China (Mainland),98,17,97,92,72,98,24,16.0,601+,25,462,75.5,381,87,80,90\\n15,The University of Edinburgh,UK,United Kingdom,98,26,97,81,129,70,149,98.0,98,99,38,98.7,15,54,219,89\\n16,EPFL,CH,Switzerland,83,59,71,91,82,99,15,100.0,17,100,11,87.3,207,28,451,89\\n17,Princeton University,US,United States,99,10,98,72,172,100,3,26.0,515,62,226,78.5,340,100,8,89\\n18,Yale University,US,United States,99,9,100,100,2,51,249,89.0,179,77,165,92.0,123,100,4,89\\n19,\"Nanyang Technological University, Singapore (NTU)\",SG,Singapore,90,42,76,83,120,94,49,100.0,30,74,186,89.6,169,84,86,88\\n20,Cornell University,US,United States,98,23,91,62,245,99,17,63.0,290,55,256,90.0,161,99,19,87\\n21,The University of Hong Kong,HK,Hong Kong SAR,97,27,62,84,113,72,131,100.0,27,98,50,81.1,303,99,23,87\\n22,Columbia University,US,United States,99,11,98,100,12,47,282,47.0,369,94,85,98.9,14,99,11,86\\n23,The University of Tokyo,JP,Japan,100,7,99,91,78,73,128,10.0,601+,27,448,89.5,174,97,33,85\\n24,Johns Hopkins University,US,United States,87,49,47,100,5,87,76,63.0,294,82,145,97.7,27,95,42,85\\n25,University of Michigan-Ann Arbor,US,United States,98,22,91,88,92,62,190,71.0,253,33,404,96.3,52,96,40,84\\n26,Universit\\xc3\\xa9 PSL,FR,France,74,78,97,99,24,84,96,59.0,308,83,142,99.7,4,53,227,83\\n27,\"University of California, Berkeley (UCB)\",US,United States,100,6,100,23,599,99,10,93.0,155,57,248,96.7,45,99,21,82\\n28,The University of Manchester,UK,United Kingdom,95,33,97,63,234,59,207,93.0,152,99,41,98.9,13,66,158,82\\n29,Seoul National University,KR,South Korea,98,19,97,87,100,70,147,12.0,601+,10,601+,79.3,329,97,34,82\\n30,The Australian National University,AU,Australia,93,35,70,38,404,99,16,100.0,37,96,71,94.6,86,59,192,82\\n31,McGill University,CA,Canada,93,36,93,68,193,59,203,87.0,188,95,77,95.2,69,90,72,81\\n32,Northwestern University,US,United States,84,56,71,98,45,84,95,40.0,401,38,351,89.0,183,98,29,81\\n33,The University of Melbourne,AU,Australia,98,20,94,17,601+,95,45,93.0,157,99,30,97.6,30,91,63,81\\n34,Fudan University,CN,China (Mainland),83,60,93,89,88,70,146,89.0,178,38,355,70.6,457,65,164,81\\n35,University of Toronto,CA,Canada,99,12,98,65,219,43,313,95.0,132,95,74,96.7,46,94,45,81\\n36,Kyoto University,JP,Japan,98,21,98,94,62,54,234,14.0,601+,22,503,85.5,233,56,201,81\\n37,King\\'s College London,UK,United Kingdom,88,47,83,74,162,60,198,98.0,104,100,21,99.3,8,56,200,81\\n38,The Chinese University of Hong Kong (CUHK),HK,Hong Kong SAR,87,51,49,60,250,92,53,100.0,58,90,108,74.9,398,79,108,80\\n39,New York University (NYU),US,United States,95,32,99,98,48,28,440,31.0,463,94,87,92.0,122,99,13,80\\n40,The Hong Kong University of Science and Technology,HK,Hong Kong SAR,82,64,50,62,239,98,20,100.0,20,87,121,56.2,601+,91,61,79\\n41,The University of Sydney,AU,Australia,96,30,91,15,601+,92,56,99.0,84,100,12,97.3,34,90,65,79\\n42,KAIST - Korea Advanced Institute of Science & Technology,KR,South Korea,88,48,85,68,192,97,27,23.0,542,12,601+,65.2,505,63,178,79\\n43,Zhejiang University,CN,China (Mainland),72,82,95,78,146,88,72,99.0,88,42,325,80.8,309,42,307,79\\n44,\"University of California, Los Angeles (UCLA)\",US,United States,100,8,99,37,410,85,87,45.0,377,27,450,96.3,53,98,31,78\\n45,The University of New South Wales (UNSW Sydney),AU,Australia,89,46,91,16,601+,97,28,100.0,50,99,31,98.2,17,93,51,78\\n46,Shanghai Jiao Tong University,CN,China (Mainland),82,61,90,57,269,97,31,40.0,400,38,357,73.9,412,57,194,77\\n47,University of British Columbia,CA,Canada,98,25,95,56,275,42,332,89.0,180,74,181,97.9,24,75,119,77\\n48,Institut Polytechnique de Paris,FR,France,45,180,99,98,41,94,49,97.0,124,98,56,94.8,78,99,12,76\\n49,Technical University of Munich,DE,Germany,84,57,96,96,57,25,482,70.0,255,95,80,91.8,125,37,347,76\\n50,Duke University,US,United States,86,53,79,100,10,41,345,20.0,581,55,257,95.5,63,98,27,74\\n51,The University of Queensland,AU,Australia,86,52,75,20,601+,90,62,100.0,36,100,19,94.6,85,41,311,74\\n52,Carnegie Mellon University,US,United States,72,83,69,58,267,100,8,38.0,414,97,66,88.7,188,85,83,74\\n53,\"University of California, San Diego (UCSD)\",US,United States,90,45,61,55,280,77,118,54.0,333,53,267,96.9,40,21,560,74\\n54,City University of Hong Kong,HK,Hong Kong SAR,57,130,29,88,93,98,25,100.0,16,100,15,55.1,601+,57,198,73\\n55,Tokyo Institute of Technology (Tokyo Tech),JP,Japan,74,80,93,81,126,65,168,36.0,433,37,362,55.8,601+,33,377,72\\n56,The London School of Economics and Political Science (LSE),UK,United Kingdom,69,91,98,37,408,84,93,100.0,32,100,8,67.6,487,99,10,72\\n57,Monash University,AU,Australia,87,50,80,11,601+,79,113,100.0,48,100,18,95.1,75,56,202,71\\n58,University of Amsterdam,NL,Netherlands,82,62,42,26,562,97,29,92.0,161,80,152,97.2,35,51,241,71\\n59,Ludwig-Maximilians-Universit\\xc3\\xa4t M\\xc3\\xbcnchen,DE,Germany,92,37,75,56,278,45,296,64.0,287,38,352,94.7,84,39,333,70\\n60,Sorbonne University,FR,France,90,44,41,40,387,86,86,28.0,496,54,262,99.6,5,60,187,70\\n61,Delft University of Technology,NL,Netherlands,71,87,80,34,447,84,94,100.0,64,83,141,95.9,60,64,172,70\\n62,University of Bristol,UK,United Kingdom,74,79,84,58,268,55,225,90.0,170,84,135,93.9,92,59,190,70\\n63,Brown University,US,United States,57,128,54,80,132,89,65,82.0,210,49,294,73.6,417,99,14,69\\n64,The University of Warwick,UK,United Kingdom,71,85,89,43,360,63,186,98.0,111,99,45,93.6,97,62,181,69\\n65,Ruprecht-Karls-Universit\\xc3\\xa4t Heidelberg,DE,Germany,78,72,40,99,26,41,346,51.0,348,47,307,95.2,70,22,531,69\\n66,The Hong Kong Polytechnic University,HK,Hong Kong SAR,66,99,37,78,147,68,151,100.0,46,80,153,74.2,409,49,256,69\\n67,Universidad de Buenos Aires (UBA),AR,Argentina,92,39,94,76,158,1,601+,63.0,293,68,207,63.0,533,34,371,68\\n68,Osaka University,JP,Japan,80,68,85,67,205,59,206,25.0,525,14,601+,75.2,385,21,567,68\\n69,Universit\\xc3\\xa9 Paris-Saclay,FR,France,57,131,99,99,28,49,266,43.0,387,59,243,97.1,37,7,601+,68\\n70,Universiti Malaya (UM),MY,Malaysia,79,70,94,67,200,39,355,43.0,388,53,272,91.8,126,41,310,67\\n71,Pohang University of Science And Technology (POSTECH),KR,South Korea,47,169,69,100,15,98,26,34.0,444,2,601+,30.9,601+,54,215,67\\n72,University of Texas at Austin,US,United States,93,34,85,9,601+,90,61,7.0,601+,10,601+,90.9,142,71,131,67\\n73,Yonsei University,KR,South Korea,75,76,95,88,94,28,448,19.0,587,51,285,63.5,526,68,144,67\\n74,Korea University,KR,South Korea,79,71,93,86,105,29,433,14.0,601+,32,406,63.1,532,71,129,66\\n75,Lomonosov Moscow State University,RU,Russia,80,67,77,99,27,5,601+,19.0,589,91,103,87.5,204,91,62,66\\n76,KU Leuven,BE,Belgium,83,58,53,7,601+,92,54,91.0,164,43,320,99.1,11,44,283,66\\n77,National Taiwan University (NTU),TW,Taiwan,92,38,92,33,461,49,262,19.0,591,32,412,75.0,393,96,37,65\\n78,University of Southampton,UK,United Kingdom,50,153,56,63,233,82,100,96.0,130,93,89,96.7,47,42,302,65\\n79,Tohoku University,JP,Japan,71,86,78,98,43,34,401,14.0,601+,16,595,66.8,493,18,601+,64\\n80,University of Washington,US,United States,84,55,48,10,601+,100,7,32.0,458,36,384,97.6,29,84,89,64\\n81,University of Glasgow,UK,United Kingdom,75,77,75,50,311,34,394,95.0,134,98,49,94.7,81,29,430,64\\n83,University of Wisconsin-Madison,US,United States,82,63,48,70,184,41,333,37.0,421,23,482,93.2,105,84,87,63\\n84,University of Zurich,CH,Switzerland,58,124,39,93,68,49,268,100.0,57,55,255,93.5,98,77,114,63\\n85,University of Illinois at Urbana-Champaign,US,United States,85,54,60,9,601+,88,71,20.0,578,46,309,92.2,118,70,135,63\\n86,University of Leeds,UK,United Kingdom,70,88,78,41,376,47,276,86.0,195,86,129,97.8,26,42,300,62\\n87,The University of Auckland,NZ,New Zealand,81,65,48,22,601+,54,235,99.0,71,92,102,87.2,208,79,110,62\\n88,Georgia Institute of Technology,US,United States,67,97,77,11,601+,95,44,62.0,299,54,260,78.5,341,63,176,62\\n89,KTH Royal Institute of Technology ,SE,Sweden,45,178,58,70,186,76,123,97.0,123,70,199,89.9,164,81,100,62\\n90,The University of Western Australia,AU,Australia,55,137,49,21,601+,98,19,100.0,28,99,23,98.2,16,65,167,61\\n91,University of Birmingham,UK,United Kingdom,66,100,74,44,349,45,295,91.0,168,87,122,95.1,73,37,344,61\\n92,Durham University,UK,United Kingdom,57,125,89,31,501,65,174,97.0,122,87,123,89.1,182,43,295,60\\n93,Pennsylvania State University,US,United States,76,75,69,32,473,67,162,25.0,523,31,421,96.8,44,44,282,60\\n94,University of Science and Technology of China,CN,China (Mainland),51,147,12,86,103,99,12,18.0,596,5,601+,67.0,491,37,345,60\\n95,Lund University,SE,Sweden,68,92,50,51,307,41,341,95.0,133,76,173,97.6,28,64,168,60\\n96,The University of Sheffield,UK,United Kingdom,58,122,53,59,264,46,284,85.0,199,97,61,94.7,79,33,376,59\\n97,University of St Andrews,UK,United Kingdom,46,175,67,61,249,58,209,98.0,100,99,35,83.4,265,44,292,59\\n98,\"Trinity College Dublin, The University of Dublin\",IE,Ireland,67,95,48,25,573,60,199,99.0,73,93,92,87.3,206,97,32,59\\n99,Sungkyunkwan University(SKKU),KR,South Korea,60,115,72,83,115,37,368,18.0,592,38,354,58.8,582,33,375,58\\n100,Rice University,US,United States,38,218,26,69,189,86,82,90.0,174,92,100,57.2,601+,70,133,58\\n101,University of Oslo,NO,Norway,54,141,14,83,117,62,187,86.0,196,27,449,97.9,25,65,163,58\\n102,\"University of California, Davis\",US,United States,64,105,51,27,559,68,153,84.0,204,70,198,90.2,155,25,488,58\\n103,\"University of North Carolina, Chapel Hill\",US,United States,65,102,44,80,135,46,287,27.0,507,10,601+,90.0,160,67,152,58\\n105,Universidad Nacional Aut\\xc3\\xb3noma de M\\xc3\\xa9xico (UNAM),MX,Mexico,96,31,95,43,358,2,601+,9.0,601+,2,601+,91.3,136,61,184,58\\n106,King Abdulaziz University (KAU),SA,Saudi Arabia,48,167,70,66,215,50,256,99.0,94,54,263,93.4,102,10,601+,57\\n107,University of Helsinki,FI,Finland,65,103,44,66,212,49,261,67.0,269,5,601+,95.2,67,62,180,57\\n108,Boston University,US,United States,62,110,57,40,388,61,195,33.0,449,83,144,86.9,212,80,103,57\\n109,The University of Adelaide,AU,Australia,52,146,35,17,601+,94,46,99.0,76,99,28,93.1,108,40,325,57\\n110,University of Alberta,CA,Canada,55,139,48,51,305,53,237,95.0,135,76,171,96.1,57,41,318,56\\n111,\\xc3\\x89cole Normale Sup\\xc3\\xa9rieure de Lyon,FR,France,31,265,12,94,63,96,36,66.0,282,17,572,70.1,461,44,289,56\\n112,Nagoya University,JP,Japan,59,117,54,90,84,33,403,15.0,601+,20,536,66.5,499,35,367,56\\n113,Utrecht University,NL,Netherlands,65,101,26,35,443,79,112,58.0,312,23,489,94.7,83,42,305,56\\n114,University of Nottingham,UK,United Kingdom,59,120,75,36,421,45,298,90.0,173,76,172,98.1,19,32,391,56\\n115,Universidade de S\\xc3\\xa3o Paulo,BR,Brazil,91,41,69,17,601+,40,348,7.0,601+,2,601+,94.7,82,78,113,56\\n116,Aalto University,FI,Finland,44,187,45,44,347,89,68,94.0,139,35,387,90.3,154,79,106,55\\n117,Universit\\xc3\\xa9 de Montr\\xc3\\xa9al ,CA,Canada,57,129,47,76,157,27,455,89.0,176,53,266,86.0,224,19,601+,55\\n118,Freie Universitaet Berlin,DE,Germany,80,66,44,4,601+,63,183,63.0,298,42,328,91.9,124,33,383,55\\n119,Washington University in St. Louis,US,United States,40,210,15,99,22,55,221,82.0,212,55,258,84.9,243,71,132,55\\n120,University of Bern,CH,Switzerland,30,283,35,64,223,98,22,100.0,41,41,329,95.3,66,18,601+,55\\n121,Pontificia Universidad Cat\\xc3\\xb3lica de Chile (UC),CL,Chile,91,40,98,22,601+,12,601+,17.0,601+,3,601+,82.7,275,90,70,54\\n122,Newcastle University,UK,United Kingdom,46,176,83,39,398,58,211,84.0,203,75,178,96.9,39,14,601+,54\\n123,Universiti Putra Malaysia (UPM),MY,Malaysia,56,132,59,75,160,19,565,44.0,383,92,99,85.0,240,6,601+,54\\n124,Wageningen University & Research,NL,Netherlands,42,193,17,97,52,48,275,50.0,349,76,175,96.9,43,18,601+,54\\n125,Chalmers University of Technology,SE,Sweden,27,305,60,60,255,81,104,100.0,53,72,190,84.1,256,22,538,54\\n126,Queen Mary University of London,UK,United Kingdom,48,163,36,42,363,62,188,99.0,81,99,40,93.7,96,13,601+,54\\n127,University of Geneva,CH,Switzerland,46,174,20,44,345,74,127,100.0,39,96,68,92.8,110,45,276,54\\n128,Uppsala University,SE,Sweden,63,107,27,43,357,43,314,95.0,137,74,182,97.1,36,48,263,54\\n129,Purdue University,US,United States,62,109,73,11,601+,70,141,51.0,345,48,300,92.2,119,63,173,54\\n130,Universiti Kebangsaan Malaysia (UKM),MY,Malaysia,57,126,62,93,70,9,601+,42.0,393,38,353,76.5,369,5,601+,54\\n131,Humboldt-Universit\\xc3\\xa4t zu Berlin,DE,Germany,90,43,55,8,601+,29,434,58.0,314,33,397,91.4,133,26,476,54\\n132,Leiden University,NL,Netherlands,68,94,23,22,601+,65,169,85.0,202,47,308,94.7,80,30,416,54\\n133,Nanjing University,CN,China (Mainland),57,127,17,32,478,96,39,54.0,337,8,601+,74.9,400,29,423,53\\n134,University of Southern California,US,United States,54,142,59,28,535,71,138,36.0,434,77,164,89.2,180,94,44,53\\n135,Kyushu University,JP,Japan,56,133,65,84,110,26,466,15.0,601+,20,530,66.1,502,22,543,53\\n136,University of Basel,CH,Switzerland,28,304,26,53,293,95,43,100.0,31,84,138,90.1,158,52,233,53\\n137,University of Technology Sydney,AU,Australia,41,199,66,9,601+,90,63,94.0,142,97,63,89.5,176,39,326,53\\n138,Eindhoven University of Technology,NL,Netherlands,28,296,72,50,312,78,116,100.0,45,56,251,72.3,436,45,279,52\\n139,Politecnico di Milano,IT,Italy,67,96,76,5,601+,53,239,57.0,319,54,264,87.8,200,39,328,52\\n140,The Ohio State University,US,United States,61,113,62,51,308,34,396,63.0,297,16,600,96.5,49,41,309,52\\n141,Hokkaido University,JP,Japan,55,136,60,77,151,30,430,18.0,601+,17,574,72.8,429,16,601+,51\\n142,\"KIT, Karlsruhe Institute of Technology\",DE,Germany,44,185,67,33,462,72,133,68.0,266,50,288,89.6,171,54,220,51\\n143,Ghent University,BE,Belgium,54,144,30,83,121,26,465,72.0,250,21,520,99.1,12,24,494,51\\n144,Universiti Sains Malaysia (USM),MY,Malaysia,59,118,66,65,220,13,601+,25.0,522,75,179,79.6,327,6,601+,51\\n145,University of Groningen,NL,Netherlands,51,148,21,54,286,42,330,93.0,151,86,124,96.3,54,20,569,51\\n146,Lancaster University,UK,United Kingdom,39,215,30,31,492,82,103,93.0,154,94,86,88.9,186,28,448,51\\n147,RWTH Aachen University,DE,Germany,49,157,88,5,601+,73,129,48.0,364,81,151,84.1,255,30,405,51\\n148,University of Rochester,US,United States,23,356,20,99,36,55,230,74.0,238,95,78,75.1,389,46,273,51\\n149,\"University of California, Santa Barbara (UCSB)\",US,United States,55,135,24,10,601+,97,30,57.0,317,28,444,78.4,343,15,601+,50\\n150,Al-Farabi Kazakh National University,KZ,Kazakhstan,49,159,76,98,46,1,601+,30.0,470,34,393,35.3,601+,12,601+,50\\n151,University of Vienna,AT,Austria,69,89,55,24,596,14,601+,98.0,96,89,112,96.6,48,73,126,50\\n152,McMaster University,CA,Canada,39,212,50,84,112,21,535,99.0,85,59,241,79.8,324,42,301,50\\n153,Stockholm University,SE,Sweden,54,143,17,29,525,62,189,82.0,213,77,169,97.3,33,69,141,50\\n154,University of Waterloo,CA,Canada,40,209,77,7,601+,82,101,79.0,222,82,149,83.6,263,87,78,50\\n155,Emory University,US,United States,25,336,15,99,40,68,154,50.0,351,31,420,87.7,201,44,287,49\\n156,Indian Institute of Science,IN,India,37,223,22,56,276,100,1,11.0,601+,1,601+,46.0,601+,14,601+,49\\n157,Hanyang University,KR,South Korea,45,182,79,83,119,17,588,18.0,594,43,315,68.0,480,33,374,49\\n158,Technische Universit\\xc3\\xa4t Berlin (TU Berlin),DE,Germany,55,140,64,48,321,23,509,46.0,376,75,180,83.2,268,31,397,49\\n159,Michigan State University,US,United States,60,114,61,12,601+,58,210,62.0,303,16,584,93.2,107,53,229,48\\n160,King Fahd University of Petroleum & Minerals,SA,Saudi Arabia,30,284,24,88,95,50,253,100.0,26,21,508,70.2,458,66,156,48\\n162,University of York,UK,United Kingdom,43,191,36,45,343,48,270,88.0,183,82,147,88.9,187,23,511,48\\n163,The University of Exeter,UK,United Kingdom,41,201,56,31,491,55,224,92.0,162,77,163,94.8,77,15,601+,48\\n164,Texas A&M University,US,United States,61,112,65,5,601+,67,161,24.0,527,14,601+,91.1,140,36,356,47\\n165,\"University of Maryland, College Park\",US,United States,51,151,35,37,418,71,140,23.0,534,14,601+,92.6,112,61,185,47\\n166,Cardiff University,UK,United Kingdom,46,177,47,40,390,41,336,84.0,207,74,183,91.4,132,19,599,47\\n167,Alma Mater Studiorum - University of Bologna,IT,Italy,78,73,43,3,601+,49,263,7.0,601+,10,601+,95.1,74,40,322,47\\n168,Universidad de Chile,CL,Chile,80,69,92,12,601+,13,601+,9.0,601+,5,601+,77.4,355,42,304,47\\n169,Eberhard Karls Universit\\xc3\\xa4t T\\xc3\\xbcbingen,DE,Germany,44,184,21,96,55,14,601+,67.0,277,26,460,96.5,50,16,601+,47\\n170,Tecnol\\xc3\\xb3gico de Monterrey,MX,Mexico,48,164,92,72,170,2,601+,52.0,339,8,601+,65.1,508,85,82,47\\n171,Sapienza University of Rome,IT,Italy,78,74,36,4,601+,50,258,3.0,601+,11,601+,98.0,23,55,209,46\\n172,Indian Institute of Technology Bombay (IITB),IN,India,53,145,86,25,572,55,228,3.0,601+,1,601+,58.0,593,76,115,46\\n173,Western University,CA,Canada,30,280,60,4,601+,96,32,99.0,72,57,250,86.0,225,81,101,46\\n174,Ecole des Ponts ParisTech,FR,France,8,501,55,97,53,56,219,36.0,431,95,79,43.8,601+,90,68,46\\n175,Indian Institute of Technology Delhi (IITD),IN,India,49,161,79,27,543,65,176,2.0,601+,1,601+,42.2,601+,84,84,46\\n176,Case Western Reserve University,US,United States,18,471,20,89,90,65,172,47.0,366,64,220,72.5,433,40,319,46\\n177,National Tsing Hua University,TW,Taiwan,51,149,69,34,449,47,279,17.0,601+,19,552,35.8,601+,5,601+,45\\n178,Universitat Aut\\xc3\\xb2noma de Barcelona,ES,Spain,62,111,28,11,601+,66,164,20.0,574,20,535,94.1,91,20,590,45\\n179,Technische Universit\\xc3\\xa4t Wien,AT,Austria,30,274,50,12,601+,86,83,79.0,221,86,127,76.7,366,29,426,45\\n180,University of Bath,UK,United Kingdom,34,247,68,19,601+,59,205,97.0,120,83,143,78.2,344,41,317,45\\n181,Khalifa University of Science and Technology,AE,United Arab Emirates,16,501,15,91,80,51,248,100.0,10,69,204,72.8,430,15,601+,45\\n182,University College Dublin,IE,Ireland,48,165,46,22,601+,43,320,98.0,103,63,223,87.6,203,64,170,45\\n183,University of Pittsburgh,US,United States,39,211,16,96,58,37,373,7.0,601+,13,601+,90.3,152,44,293,45\\n184,Universitat de Barcelona,ES,Spain,71,84,28,13,601+,44,305,14.0,601+,26,458,96.9,42,53,230,45\\n185,University of Gothenburg,SE,Sweden,37,228,20,66,216,34,399,86.0,192,74,185,94.9,76,48,262,45\\n186,University of Minnesota Twin Cities,US,United States,60,116,28,38,403,49,269,7.0,601+,10,601+,97.6,31,54,218,45\\n187,University of Wollongong,AU,Australia,29,290,34,20,601+,88,74,93.0,149,70,200,91.4,131,24,504,45\\n188,University of Florida,US,United States,48,166,47,71,177,26,470,17.0,601+,11,601+,98.0,22,54,224,45\\n189,Albert-Ludwigs-Universitaet Freiburg,DE,Germany,47,170,18,36,426,57,217,67.0,272,41,339,89.0,184,19,601+,45\\n190,RMIT University,AU,Australia,36,234,55,6,601+,66,167,100.0,35,93,91,85.8,229,41,316,44\\n191,University of Liverpool,UK,United Kingdom,42,194,34,41,377,33,406,87.0,189,88,118,98.1,21,38,335,44\\n192,\"The University of Newcastle, Australia (UON)\",AU,Australia,29,294,25,34,455,86,80,99.0,68,17,567,78.6,339,45,280,44\\n193,Curtin University,AU,Australia,30,282,41,13,601+,89,67,100.0,40,44,314,93.7,94,20,586,44\\n194,Wuhan University,CN,China (Mainland),38,219,56,13,601+,88,73,42.0,396,7,601+,72.8,428,32,387,44\\n195,Macquarie University,AU,Australia,30,275,48,13,601+,74,126,93.0,158,88,114,88.3,193,53,226,44\\n196,Universit\\xc3\\xa9 catholique de Louvain (UCLouvain),BE,Belgium,49,156,43,5,601+,61,194,89.0,177,38,358,89.6,173,49,258,44\\n197,Keio University,JP,Japan,50,154,91,60,258,6,601+,10.0,601+,12,601+,46.0,601+,83,90,44\\n198,Ulsan National Institute of Science and Technology (UNIST),SK,South Korea,11,501,7,79,138,99,11,38.0,413,12,601+,31.7,601+,14,601+,44\\n199,Vanderbilt University,US,United States,25,329,22,100,9,38,361,38.0,412,30,429,83.0,271,56,207,43\\n200,Technische Universit\\xc3\\xa4t Dresden,DE,Germany,37,226,37,89,89,14,601+,42.0,392,36,383,94.2,90,9,601+,43\\n201,Rheinische Friedrich-Wilhelms-Universit\\xc3\\xa4t Bonn,DE,Germany,51,150,16,68,199,15,601+,51.0,344,32,416,92.4,116,22,533,43\\n202,National Yang Ming Chiao Tung University,TW,Taiwan,34,243,74,50,314,46,290,23.0,533,22,501,42.8,601+,51,242,43\\n203,Universiti Teknologi Malaysia ,MY,Malaysia,44,186,55,46,335,28,446,12.0,601+,77,168,82.9,272,13,601+,43\\n204,University of Lausanne,CH,Switzerland,30,281,16,43,355,61,197,99.0,69,59,242,82.0,288,53,231,43\\n205,Dartmouth College,US,United States,19,447,25,65,222,86,81,5.0,601+,32,409,53.7,601+,96,38,42\\n206,Waseda University,JP,Japan,58,121,96,27,558,4,601+,28.0,494,35,390,63.5,525,72,127,42\\n207,University of Bergen,NO,Norway,33,253,8,76,159,41,347,86.0,193,8,601+,87.9,198,21,554,42\\n208,Erasmus University Rotterdam ,NL,Netherlands,35,239,47,28,539,54,232,83.0,208,53,269,87.1,209,56,206,42\\n209,Qatar University,QA,Qatar,24,349,33,61,248,36,378,100.0,19,94,84,90.1,159,1,601+,42\\n210,Universidade Estadual de Campinas (Unicamp),BR,Brazil,68,93,32,11,601+,43,317,8.0,601+,3,601+,84.1,257,13,601+,42\\n211,Universite libre de Bruxelles,BE,Belgium,34,248,50,4,601+,67,159,96.0,127,86,132,82.2,284,49,253,42\\n212,Tongji University,CN,China (Mainland),33,254,10,26,563,87,75,66.0,281,35,386,71.0,448,25,478,42\\n213,University of Twente,NL,Netherlands,20,418,36,37,419,67,158,98.0,99,90,107,82.5,280,9,601+,42\\n214,Vrije Universiteit Amsterdam,NL,Netherlands,39,214,12,30,512,70,150,64.0,285,33,402,89.8,166,19,601+,42\\n215,Universidad Aut\\xc3\\xb3noma de Madrid,ES,Spain,59,119,55,37,414,20,547,9.0,601+,14,601+,89.3,179,23,527,42\\n216,University of G\\xc3\\xb6ttingen,DE,Germany,49,158,21,64,229,18,576,48.0,359,23,484,92.7,111,15,601+,42\\n217,Harbin Institute of Technology,CN,China (Mainland),26,320,8,50,313,96,35,9.0,601+,7,601+,64.7,513,15,601+,42\\n218,University of Otago,NZ,New Zealand,47,172,34,12,601+,51,250,100.0,38,34,394,77.0,362,49,254,42\\n219,Arizona State University,US,United States,46,173,40,8,601+,59,201,67.0,270,37,372,90.2,156,33,382,41\\n220,Universidad de los Andes,CO,Colombia,62,108,95,19,601+,6,601+,30.0,469,1,601+,56.9,601+,66,159,41\\n221,University of Aberdeen,UK,United Kingdom,28,301,36,33,458,50,257,94.0,140,97,62,87.4,205,19,601+,41\\n222,Queensland University of Technology (QUT),AU,Australia,39,217,40,7,601+,65,177,97.0,118,41,335,90.0,162,22,547,41\\n223,The Hebrew University of Jerusalem,IL,Israel,34,242,23,78,144,28,445,63.0,291,7,601+,74.6,404,89,74,41\\n224,Chulalongkorn University,TH,Thailand,65,104,63,34,446,6,601+,9.0,601+,2,601+,75.1,390,93,47,41\\n225,National Cheng Kung University (NCKU),TW,Taiwan,47,171,71,40,386,22,525,27.0,502,22,494,51.4,601+,17,601+,41\\n226,Complutense University of Madrid,ES,Spain,69,90,57,22,601+,10,601+,5.0,601+,15,601+,96.4,51,67,154,41\\n227,Southern University of Science and Technology,CN,China (Mainland),7,501,1,97,50,80,107,38.0,416,1,601+,56.9,601+,4,601+,41\\n228,Universit\\xc3\\xa4t Hamburg,DE,Germany,50,152,19,16,601+,58,208,43.0,390,21,524,93.2,106,34,370,40\\n229,University of Reading,UK,United Kingdom,33,255,29,20,601+,55,229,93.0,153,83,139,90.4,150,29,424,40\\n230,Bauman Moscow State Technical University,RU,Russia,27,311,50,100,16,1,601+,37.0,425,41,337,8.6,601+,16,601+,40\\n231,Gadjah Mada University,ID,Indonesia,49,160,55,62,243,1,601+,39.0,409,2,601+,28.8,601+,36,358,40\\n232,Radboud University ,NL,Netherlands,29,288,13,27,548,82,102,69.0,261,19,547,90.9,141,6,601+,40\\n233,Queen\\'s University Belfast,UK,United Kingdom,31,266,27,34,448,37,374,99.0,86,99,46,95.1,71,11,601+,39\\n234,Universitat Pompeu Fabra (Barcelona),ES,Spain,30,278,26,9,601+,91,60,67.0,274,22,502,78.4,342,51,240,39\\n235,Bandung Institute of Technology (ITB),ID,Indonesia,43,189,54,62,244,2,601+,66.0,279,3,601+,21.5,601+,41,313,39\\n236,\"University of California, Irvine\",US,United States,39,213,18,12,601+,59,200,72.0,251,69,206,85.8,231,11,601+,39\\n237,King Saud University,SA,Saudi Arabia,34,245,13,60,252,29,438,98.0,105,23,487,93.4,103,83,93,39\\n238,University of Cape Town,ZA,South Africa,43,190,50,15,601+,44,302,62.0,302,30,426,95.5,64,92,53,39\\n239,University of Ottawa,CA,Canada,25,330,38,4,601+,80,110,90.0,171,70,196,90.7,146,10,601+,39\\n240,University of Sussex,UK,United Kingdom,23,355,6,16,601+,80,109,96.0,125,92,101,85.9,227,38,340,39\\n241,USI - Universit\\xc3\\xa0 della Svizzera italiana,CH,Switzerland,5,501,4,85,109,47,283,100.0,23,100,9,38.5,601+,61,183,39\\n242,University of Calgary,CA,Canada,36,237,50,21,601+,41,334,80.0,218,54,265,85.2,236,35,366,39\\n243,Universidad Nacional de Colombia,CO,Colombia,67,98,93,6,601+,3,601+,7.0,601+,1,601+,58.6,583,36,357,38\\n244,Universit\\xc3\\xa0\\xc2\\xa0di Padova,IT,Italy,56,134,30,9,601+,51,247,11.0,601+,7,601+,93.4,100,10,601+,38\\n245,University of Notre Dame,US,United States,26,321,44,61,247,47,281,23.0,540,15,601+,74.8,402,74,120,38\\n246,Queen\\'s University at Kingston,CA,Canada,38,220,69,6,601+,49,264,70.0,256,33,403,77.6,353,74,122,38\\n247,Yeshiva University,US,United States,2,501,3,85,108,98,21,,,8,601+,42.2,601+,24,505,38\\n1,Massachusetts Institute of Technology (MIT) ,US,United States,100,5,100,100,14,100,5,100.0,54,90,109,96.1,58,100,3,100\\n2,University of Cambridge,UK,United Kingdom,100,2,100,100,11,92,55,100.0,60,96,70,99.5,6,100,9,98\\n3,Stanford University,US,United States,100,4,100,100,6,99,9,99.0,74,60,235,96.3,55,100,2,98\\n4,University of Oxford,UK,United Kingdom,100,3,100,100,8,90,64,98.0,101,98,54,99.9,3,100,7,98\\n5,Harvard University,US,United States,100,1,100,99,35,100,2,76.0,228,66,212,100.0,1,100,1,97\\n6,California Institute of Technology (Caltech),US,United States,96,28,87,100,3,100,4,99.0,75,85,134,73.0,425,98,24,97\\n7,Imperial College London,UK,United Kingdom,98,24,99,99,34,86,84,100.0,55,100,13,98.1,20,88,76,97\\n8,UCL,UK,United Kingdom,99,14,98,97,51,77,119,99.0,87,100,14,100.0,2,90,71,95\\n9,ETH Zurich - Swiss Federal Institute of Technology,CH,Switzerland,98,18,91,74,164,99,18,100.0,24,98,59,96.2,56,91,64,93\\n10,University of Chicago,US,United States,99,16,92,92,71,86,79,81.0,214,76,176,89.6,170,98,30,93\\n11,National University of Singapore (NUS),SG,Singapore,99,13,94,79,136,91,58,100.0,33,73,187,89.9,165,99,16,92\\n12,Peking University,CN,China (Mainland),99,15,96,87,98,96,34,57.0,323,36,376,77.5,354,91,59,91\\n13,University of Pennsylvania,US,United States,96,29,92,99,23,70,142,96.0,128,66,215,93.3,104,100,5,90\\n14,Tsinghua University,CN,China (Mainland),98,17,97,92,72,98,24,16.0,601+,25,462,75.5,381,87,80,90\\n15,The University of Edinburgh,UK,United Kingdom,98,26,97,81,129,70,149,98.0,98,99,38,98.7,15,54,219,89\\n16,EPFL,CH,Switzerland,83,59,71,91,82,99,15,100.0,17,100,11,87.3,207,28,451,89\\n17,Princeton University,US,United States,99,10,98,72,172,100,3,26.0,515,62,226,78.5,340,100,8,89\\n18,Yale University,US,United States,99,9,100,100,2,51,249,89.0,179,77,165,92.0,123,100,4,89\\n19,\"Nanyang Technological University, Singapore (NTU)\",SG,Singapore,90,42,76,83,120,94,49,100.0,30,74,186,89.6,169,84,86,88\\n20,Cornell University,US,United States,98,23,91,62,245,99,17,63.0,290,55,256,90.0,161,99,19,87\\n21,The University of Hong Kong,HK,Hong Kong SAR,97,27,62,84,113,72,131,100.0,27,98,50,81.1,303,99,23,87\\n22,Columbia University,US,United States,99,11,98,100,12,47,282,47.0,369,94,85,98.9,14,99,11,86\\n23,The University of Tokyo,JP,Japan,100,7,99,91,78,73,128,10.0,601+,27,448,89.5,174,97,33,85\\n24,Johns Hopkins University,US,United States,87,49,47,100,5,87,76,63.0,294,82,145,97.7,27,95,42,85\\n25,University of Michigan-Ann Arbor,US,United States,98,22,91,88,92,62,190,71.0,253,33,404,96.3,52,96,40,84\\n26,Universit\\xc3\\xa9 PSL,FR,France,74,78,97,99,24,84,96,59.0,308,83,142,99.7,4,53,227,83\\n27,\"University of California, Berkeley (UCB)\",US,United States,100,6,100,23,599,99,10,93.0,155,57,248,96.7,45,99,21,82\\n28,The University of Manchester,UK,United Kingdom,95,33,97,63,234,59,207,93.0,152,99,41,98.9,13,66,158,82\\n29,Seoul National University,KR,South Korea,98,19,97,87,100,70,147,12.0,601+,10,601+,79.3,329,97,34,82\\n30,The Australian National University,AU,Australia,93,35,70,38,404,99,16,100.0,37,96,71,94.6,86,59,192,82\\n31,McGill University,CA,Canada,93,36,93,68,193,59,203,87.0,188,95,77,95.2,69,90,72,81\\n32,Northwestern University,US,United States,84,56,71,98,45,84,95,40.0,401,38,351,89.0,183,98,29,81\\n33,The University of Melbourne,AU,Australia,98,20,94,17,601+,95,45,93.0,157,99,30,97.6,30,91,63,81\\n34,Fudan University,CN,China (Mainland),83,60,93,89,88,70,146,89.0,178,38,355,70.6,457,65,164,81\\n35,University of Toronto,CA,Canada,99,12,98,65,219,43,313,95.0,132,95,74,96.7,46,94,45,81\\n36,Kyoto University,JP,Japan,98,21,98,94,62,54,234,14.0,601+,22,503,85.5,233,56,201,81\\n37,King\\'s College London,UK,United Kingdom,88,47,83,74,162,60,198,98.0,104,100,21,99.3,8,56,200,81\\n38,The Chinese University of Hong Kong (CUHK),HK,Hong Kong SAR,87,51,49,60,250,92,53,100.0,58,90,108,74.9,398,79,108,80\\n39,New York University (NYU),US,United States,95,32,99,98,48,28,440,31.0,463,94,87,92.0,122,99,13,80\\n40,The Hong Kong University of Science and Technology,HK,Hong Kong SAR,82,64,50,62,239,98,20,100.0,20,87,121,56.2,601+,91,61,79\\n41,The University of Sydney,AU,Australia,96,30,91,15,601+,92,56,99.0,84,100,12,97.3,34,90,65,79\\n42,KAIST - Korea Advanced Institute of Science & Technology,KR,South Korea,88,48,85,68,192,97,27,23.0,542,12,601+,65.2,505,63,178,79\\n43,Zhejiang University,CN,China (Mainland),72,82,95,78,146,88,72,99.0,88,42,325,80.8,309,42,307,79\\n44,\"University of California, Los Angeles (UCLA)\",US,United States,100,8,99,37,410,85,87,45.0,377,27,450,96.3,53,98,31,78\\n45,The University of New South Wales (UNSW Sydney),AU,Australia,89,46,91,16,601+,97,28,100.0,50,99,31,98.2,17,93,51,78\\n46,Shanghai Jiao Tong University,CN,China (Mainland),82,61,90,57,269,97,31,40.0,400,38,357,73.9,412,57,194,77\\n47,University of British Columbia,CA,Canada,98,25,95,56,275,42,332,89.0,180,74,181,97.9,24,75,119,77\\n48,Institut Polytechnique de Paris,FR,France,45,180,99,98,41,94,49,97.0,124,98,56,94.8,78,99,12,76\\n49,Technical University of Munich,DE,Germany,84,57,96,96,57,25,482,70.0,255,95,80,91.8,125,37,347,76\\n50,Duke University,US,United States,86,53,79,100,10,41,345,20.0,581,55,257,95.5,63,98,27,74\\n51,The University of Queensland,AU,Australia,86,52,75,20,601+,90,62,100.0,36,100,19,94.6,85,41,311,74\\n52,Carnegie Mellon University,US,United States,72,83,69,58,267,100,8,38.0,414,97,66,88.7,188,85,83,74\\n53,\"University of California, San Diego (UCSD)\",US,United States,90,45,61,55,280,77,118,54.0,333,53,267,96.9,40,21,560,74\\n54,City University of Hong Kong,HK,Hong Kong SAR,57,130,29,88,93,98,25,100.0,16,100,15,55.1,601+,57,198,73\\n55,Tokyo Institute of Technology (Tokyo Tech),JP,Japan,74,80,93,81,126,65,168,36.0,433,37,362,55.8,601+,33,377,72\\n56,The London School of Economics and Political Science (LSE),UK,United Kingdom,69,91,98,37,408,84,93,100.0,32,100,8,67.6,487,99,10,72\\n57,Monash University,AU,Australia,87,50,80,11,601+,79,113,100.0,48,100,18,95.1,75,56,202,71\\n58,University of Amsterdam,NL,Netherlands,82,62,42,26,562,97,29,92.0,161,80,152,97.2,35,51,241,71\\n59,Ludwig-Maximilians-Universit\\xc3\\xa4t M\\xc3\\xbcnchen,DE,Germany,92,37,75,56,278,45,296,64.0,287,38,352,94.7,84,39,333,70\\n60,Sorbonne University,FR,France,90,44,41,40,387,86,86,28.0,496,54,262,99.6,5,60,187,70\\n61,Delft University of Technology,NL,Netherlands,71,87,80,34,447,84,94,100.0,64,83,141,95.9,60,64,172,70\\n62,University of Bristol,UK,United Kingdom,74,79,84,58,268,55,225,90.0,170,84,135,93.9,92,59,190,70\\n63,Brown University,US,United States,57,128,54,80,132,89,65,82.0,210,49,294,73.6,417,99,14,69\\n64,The University of Warwick,UK,United Kingdom,71,85,89,43,360,63,186,98.0,111,99,45,93.6,97,62,181,69\\n65,Ruprecht-Karls-Universit\\xc3\\xa4t Heidelberg,DE,Germany,78,72,40,99,26,41,346,51.0,348,47,307,95.2,70,22,531,69\\n66,The Hong Kong Polytechnic University,HK,Hong Kong SAR,66,99,37,78,147,68,151,100.0,46,80,153,74.2,409,49,256,69\\n67,Universidad de Buenos Aires (UBA),AR,Argentina,92,39,94,76,158,1,601+,63.0,293,68,207,63.0,533,34,371,68\\n68,Osaka University,JP,Japan,80,68,85,67,205,59,206,25.0,525,14,601+,75.2,385,21,567,68\\n69,Universit\\xc3\\xa9 Paris-Saclay,FR,France,57,131,99,99,28,49,266,43.0,387,59,243,97.1,37,7,601+,68\\n70,Universiti Malaya (UM),MY,Malaysia,79,70,94,67,200,39,355,43.0,388,53,272,91.8,126,41,310,67\\n71,Pohang University of Science And Technology (POSTECH),KR,South Korea,47,169,69,100,15,98,26,34.0,444,2,601+,30.9,601+,54,215,67\\n72,University of Texas at Austin,US,United States,93,34,85,9,601+,90,61,7.0,601+,10,601+,90.9,142,71,131,67\\n73,Yonsei University,KR,South Korea,75,76,95,88,94,28,448,19.0,587,51,285,63.5,526,68,144,67\\n74,Korea University,KR,South Korea,79,71,93,86,105,29,433,14.0,601+,32,406,63.1,532,71,129,66\\n75,Lomonosov Moscow State University,RU,Russia,80,67,77,99,27,5,601+,19.0,589,91,103,87.5,204,91,62,66\\n76,KU Leuven,BE,Belgium,83,58,53,7,601+,92,54,91.0,164,43,320,99.1,11,44,283,66\\n77,National Taiwan University (NTU),TW,Taiwan,92,38,92,33,461,49,262,19.0,591,32,412,75.0,393,96,37,65\\n78,University of Southampton,UK,United Kingdom,50,153,56,63,233,82,100,96.0,130,93,89,96.7,47,42,302,65\\n79,Tohoku University,JP,Japan,71,86,78,98,43,34,401,14.0,601+,16,595,66.8,493,18,601+,64\\n80,University of Washington,US,United States,84,55,48,10,601+,100,7,32.0,458,36,384,97.6,29,84,89,64\\n81,University of Glasgow,UK,United Kingdom,75,77,75,50,311,34,394,95.0,134,98,49,94.7,81,29,430,64\\n83,University of Wisconsin-Madison,US,United States,82,63,48,70,184,41,333,37.0,421,23,482,93.2,105,84,87,63\\n84,University of Zurich,CH,Switzerland,58,124,39,93,68,49,268,100.0,57,55,255,93.5,98,77,114,63\\n85,University of Illinois at Urbana-Champaign,US,United States,85,54,60,9,601+,88,71,20.0,578,46,309,92.2,118,70,135,63\\n86,University of Leeds,UK,United Kingdom,70,88,78,41,376,47,276,86.0,195,86,129,97.8,26,42,300,62\\n87,The University of Auckland,NZ,New Zealand,81,65,48,22,601+,54,235,99.0,71,92,102,87.2,208,79,110,62\\n88,Georgia Institute of Technology,US,United States,67,97,77,11,601+,95,44,62.0,299,54,260,78.5,341,63,176,62\\n89,KTH Royal Institute of Technology ,SE,Sweden,45,178,58,70,186,76,123,97.0,123,70,199,89.9,164,81,100,62\\n90,The University of Western Australia,AU,Australia,55,137,49,21,601+,98,19,100.0,28,99,23,98.2,16,65,167,61\\n91,University of Birmingham,UK,United Kingdom,66,100,74,44,349,45,295,91.0,168,87,122,95.1,73,37,344,61\\n92,Durham University,UK,United Kingdom,57,125,89,31,501,65,174,97.0,122,87,123,89.1,182,43,295,60\\n93,Pennsylvania State University,US,United States,76,75,69,32,473,67,162,25.0,523,31,421,96.8,44,44,282,60\\n94,University of Science and Technology of China,CN,China (Mainland),51,147,12,86,103,99,12,18.0,596,5,601+,67.0,491,37,345,60\\n95,Lund University,SE,Sweden,68,92,50,51,307,41,341,95.0,133,76,173,97.6,28,64,168,60\\n96,The University of Sheffield,UK,United Kingdom,58,122,53,59,264,46,284,85.0,199,97,61,94.7,79,33,376,59\\n97,University of St Andrews,UK,United Kingdom,46,175,67,61,249,58,209,98.0,100,99,35,83.4,265,44,292,59\\n98,\"Trinity College Dublin, The University of Dublin\",IE,Ireland,67,95,48,25,573,60,199,99.0,73,93,92,87.3,206,97,32,59\\n99,Sungkyunkwan University(SKKU),KR,South Korea,60,115,72,83,115,37,368,18.0,592,38,354,58.8,582,33,375,58\\n100,Rice University,US,United States,38,218,26,69,189,86,82,90.0,174,92,100,57.2,601+,70,133,58\\n101,University of Oslo,NO,Norway,54,141,14,83,117,62,187,86.0,196,27,449,97.9,25,65,163,58\\n102,\"University of California, Davis\",US,United States,64,105,51,27,559,68,153,84.0,204,70,198,90.2,155,25,488,58\\n103,\"University of North Carolina, Chapel Hill\",US,United States,65,102,44,80,135,46,287,27.0,507,10,601+,90.0,160,67,152,58\\n105,Universidad Nacional Aut\\xc3\\xb3noma de M\\xc3\\xa9xico (UNAM),MX,Mexico,96,31,95,43,358,2,601+,9.0,601+,2,601+,91.3,136,61,184,58\\n106,King Abdulaziz University (KAU),SA,Saudi Arabia,48,167,70,66,215,50,256,99.0,94,54,263,93.4,102,10,601+,57\\n107,University of Helsinki,FI,Finland,65,103,44,66,212,49,261,67.0,269,5,601+,95.2,67,62,180,57\\n108,Boston University,US,United States,62,110,57,40,388,61,195,33.0,449,83,144,86.9,212,80,103,57\\n109,The University of Adelaide,AU,Australia,52,146,35,17,601+,94,46,99.0,76,99,28,93.1,108,40,325,57\\n110,University of Alberta,CA,Canada,55,139,48,51,305,53,237,95.0,135,76,171,96.1,57,41,318,56\\n111,\\xc3\\x89cole Normale Sup\\xc3\\xa9rieure de Lyon,FR,France,31,265,12,94,63,96,36,66.0,282,17,572,70.1,461,44,289,56\\n112,Nagoya University,JP,Japan,59,117,54,90,84,33,403,15.0,601+,20,536,66.5,499,35,367,56\\n113,Utrecht University,NL,Netherlands,65,101,26,35,443,79,112,58.0,312,23,489,94.7,83,42,305,56\\n114,University of Nottingham,UK,United Kingdom,59,120,75,36,421,45,298,90.0,173,76,172,98.1,19,32,391,56\\n115,Universidade de S\\xc3\\xa3o Paulo,BR,Brazil,91,41,69,17,601+,40,348,7.0,601+,2,601+,94.7,82,78,113,56\\n116,Aalto University,FI,Finland,44,187,45,44,347,89,68,94.0,139,35,387,90.3,154,79,106,55\\n117,Universit\\xc3\\xa9 de Montr\\xc3\\xa9al ,CA,Canada,57,129,47,76,157,27,455,89.0,176,53,266,86.0,224,19,601+,55\\n118,Freie Universitaet Berlin,DE,Germany,80,66,44,4,601+,63,183,63.0,298,42,328,91.9,124,33,383,55\\n119,Washington University in St. Louis,US,United States,40,210,15,99,22,55,221,82.0,212,55,258,84.9,243,71,132,55\\n120,University of Bern,CH,Switzerland,30,283,35,64,223,98,22,100.0,41,41,329,95.3,66,18,601+,55\\n121,Pontificia Universidad Cat\\xc3\\xb3lica de Chile (UC),CL,Chile,91,40,98,22,601+,12,601+,17.0,601+,3,601+,82.7,275,90,70,54\\n122,Newcastle University,UK,United Kingdom,46,176,83,39,398,58,211,84.0,203,75,178,96.9,39,14,601+,54\\n123,Universiti Putra Malaysia (UPM),MY,Malaysia,56,132,59,75,160,19,565,44.0,383,92,99,85.0,240,6,601+,54\\n124,Wageningen University & Research,NL,Netherlands,42,193,17,97,52,48,275,50.0,349,76,175,96.9,43,18,601+,54\\n125,Chalmers University of Technology,SE,Sweden,27,305,60,60,255,81,104,100.0,53,72,190,84.1,256,22,538,54\\n126,Queen Mary University of London,UK,United Kingdom,48,163,36,42,363,62,188,99.0,81,99,40,93.7,96,13,601+,54\\n127,University of Geneva,CH,Switzerland,46,174,20,44,345,74,127,100.0,39,96,68,92.8,110,45,276,54\\n128,Uppsala University,SE,Sweden,63,107,27,43,357,43,314,95.0,137,74,182,97.1,36,48,263,54\\n129,Purdue University,US,United States,62,109,73,11,601+,70,141,51.0,345,48,300,92.2,119,63,173,54\\n130,Universiti Kebangsaan Malaysia (UKM),MY,Malaysia,57,126,62,93,70,9,601+,42.0,393,38,353,76.5,369,5,601+,54\\n131,Humboldt-Universit\\xc3\\xa4t zu Berlin,DE,Germany,90,43,55,8,601+,29,434,58.0,314,33,397,91.4,133,26,476,54\\n132,Leiden University,NL,Netherlands,68,94,23,22,601+,65,169,85.0,202,47,308,94.7,80,30,416,54\\n133,Nanjing University,CN,China (Mainland),57,127,17,32,478,96,39,54.0,337,8,601+,74.9,400,29,423,53\\n134,University of Southern California,US,United States,54,142,59,28,535,71,138,36.0,434,77,164,89.2,180,94,44,53\\n135,Kyushu University,JP,Japan,56,133,65,84,110,26,466,15.0,601+,20,530,66.1,502,22,543,53\\n136,University of Basel,CH,Switzerland,28,304,26,53,293,95,43,100.0,31,84,138,90.1,158,52,233,53\\n137,University of Technology Sydney,AU,Australia,41,199,66,9,601+,90,63,94.0,142,97,63,89.5,176,39,326,53\\n138,Eindhoven University of Technology,NL,Netherlands,28,296,72,50,312,78,116,100.0,45,56,251,72.3,436,45,279,52\\n139,Politecnico di Milano,IT,Italy,67,96,76,5,601+,53,239,57.0,319,54,264,87.8,200,39,328,52\\n140,The Ohio State University,US,United States,61,113,62,51,308,34,396,63.0,297,16,600,96.5,49,41,309,52\\n141,Hokkaido University,JP,Japan,55,136,60,77,151,30,430,18.0,601+,17,574,72.8,429,16,601+,51\\n142,\"KIT, Karlsruhe Institute of Technology\",DE,Germany,44,185,67,33,462,72,133,68.0,266,50,288,89.6,171,54,220,51\\n143,Ghent University,BE,Belgium,54,144,30,83,121,26,465,72.0,250,21,520,99.1,12,24,494,51\\n144,Universiti Sains Malaysia (USM),MY,Malaysia,59,118,66,65,220,13,601+,25.0,522,75,179,79.6,327,6,601+,51\\n145,University of Groningen,NL,Netherlands,51,148,21,54,286,42,330,93.0,151,86,124,96.3,54,20,569,51\\n146,Lancaster University,UK,United Kingdom,39,215,30,31,492,82,103,93.0,154,94,86,88.9,186,28,448,51\\n147,RWTH Aachen University,DE,Germany,49,157,88,5,601+,73,129,48.0,364,81,151,84.1,255,30,405,51\\n148,University of Rochester,US,United States,23,356,20,99,36,55,230,74.0,238,95,78,75.1,389,46,273,51\\n149,\"University of California, Santa Barbara (UCSB)\",US,United States,55,135,24,10,601+,97,30,57.0,317,28,444,78.4,343,15,601+,50\\n150,Al-Farabi Kazakh National University,KZ,Kazakhstan,49,159,76,98,46,1,601+,30.0,470,34,393,35.3,601+,12,601+,50\\n151,University of Vienna,AT,Austria,69,89,55,24,596,14,601+,98.0,96,89,112,96.6,48,73,126,50\\n152,McMaster University,CA,Canada,39,212,50,84,112,21,535,99.0,85,59,241,79.8,324,42,301,50\\n153,Stockholm University,SE,Sweden,54,143,17,29,525,62,189,82.0,213,77,169,97.3,33,69,141,50\\n154,University of Waterloo,CA,Canada,40,209,77,7,601+,82,101,79.0,222,82,149,83.6,263,87,78,50\\n155,Emory University,US,United States,25,336,15,99,40,68,154,50.0,351,31,420,87.7,201,44,287,49\\n156,Indian Institute of Science,IN,India,37,223,22,56,276,100,1,11.0,601+,1,601+,46.0,601+,14,601+,49\\n157,Hanyang University,KR,South Korea,45,182,79,83,119,17,588,18.0,594,43,315,68.0,480,33,374,49\\n158,Technische Universit\\xc3\\xa4t Berlin (TU Berlin),DE,Germany,55,140,64,48,321,23,509,46.0,376,75,180,83.2,268,31,397,49\\n159,Michigan State University,US,United States,60,114,61,12,601+,58,210,62.0,303,16,584,93.2,107,53,229,48\\n160,King Fahd University of Petroleum & Minerals,SA,Saudi Arabia,30,284,24,88,95,50,253,100.0,26,21,508,70.2,458,66,156,48\\n162,University of York,UK,United Kingdom,43,191,36,45,343,48,270,88.0,183,82,147,88.9,187,23,511,48\\n163,The University of Exeter,UK,United Kingdom,41,201,56,31,491,55,224,92.0,162,77,163,94.8,77,15,601+,48\\n164,Texas A&M University,US,United States,61,112,65,5,601+,67,161,24.0,527,14,601+,91.1,140,36,356,47\\n165,\"University of Maryland, College Park\",US,United States,51,151,35,37,418,71,140,23.0,534,14,601+,92.6,112,61,185,47\\n166,Cardiff University,UK,United Kingdom,46,177,47,40,390,41,336,84.0,207,74,183,91.4,132,19,599,47\\n167,Alma Mater Studiorum - University of Bologna,IT,Italy,78,73,43,3,601+,49,263,7.0,601+,10,601+,95.1,74,40,322,47\\n168,Universidad de Chile,CL,Chile,80,69,92,12,601+,13,601+,9.0,601+,5,601+,77.4,355,42,304,47\\n169,Eberhard Karls Universit\\xc3\\xa4t T\\xc3\\xbcbingen,DE,Germany,44,184,21,96,55,14,601+,67.0,277,26,460,96.5,50,16,601+,47\\n170,Tecnol\\xc3\\xb3gico de Monterrey,MX,Mexico,48,164,92,72,170,2,601+,52.0,339,8,601+,65.1,508,85,82,47\\n171,Sapienza University of Rome,IT,Italy,78,74,36,4,601+,50,258,3.0,601+,11,601+,98.0,23,55,209,46\\n172,Indian Institute of Technology Bombay (IITB),IN,India,53,145,86,25,572,55,228,3.0,601+,1,601+,58.0,593,76,115,46\\n173,Western University,CA,Canada,30,280,60,4,601+,96,32,99.0,72,57,250,86.0,225,81,101,46\\n174,Ecole des Ponts ParisTech,FR,France,8,501,55,97,53,56,219,36.0,431,95,79,43.8,601+,90,68,46\\n175,Indian Institute of Technology Delhi (IITD),IN,India,49,161,79,27,543,65,176,2.0,601+,1,601+,42.2,601+,84,84,46\\n176,Case Western Reserve University,US,United States,18,471,20,89,90,65,172,47.0,366,64,220,72.5,433,40,319,46\\n177,National Tsing Hua University,TW,Taiwan,51,149,69,34,449,47,279,17.0,601+,19,552,35.8,601+,5,601+,45\\n178,Universitat Aut\\xc3\\xb2noma de Barcelona,ES,Spain,62,111,28,11,601+,66,164,20.0,574,20,535,94.1,91,20,590,45\\n179,Technische Universit\\xc3\\xa4t Wien,AT,Austria,30,274,50,12,601+,86,83,79.0,221,86,127,76.7,366,29,426,45\\n180,University of Bath,UK,United Kingdom,34,247,68,19,601+,59,205,97.0,120,83,143,78.2,344,41,317,45\\n181,Khalifa University of Science and Technology,AE,United Arab Emirates,16,501,15,91,80,51,248,100.0,10,69,204,72.8,430,15,601+,45\\n182,University College Dublin,IE,Ireland,48,165,46,22,601+,43,320,98.0,103,63,223,87.6,203,64,170,45\\n183,University of Pittsburgh,US,United States,39,211,16,96,58,37,373,7.0,601+,13,601+,90.3,152,44,293,45\\n184,Universitat de Barcelona,ES,Spain,71,84,28,13,601+,44,305,14.0,601+,26,458,96.9,42,53,230,45\\n185,University of Gothenburg,SE,Sweden,37,228,20,66,216,34,399,86.0,192,74,185,94.9,76,48,262,45\\n186,University of Minnesota Twin Cities,US,United States,60,116,28,38,403,49,269,7.0,601+,10,601+,97.6,31,54,218,45\\n187,University of Wollongong,AU,Australia,29,290,34,20,601+,88,74,93.0,149,70,200,91.4,131,24,504,45\\n188,University of Florida,US,United States,48,166,47,71,177,26,470,17.0,601+,11,601+,98.0,22,54,224,45\\n189,Albert-Ludwigs-Universitaet Freiburg,DE,Germany,47,170,18,36,426,57,217,67.0,272,41,339,89.0,184,19,601+,45\\n190,RMIT University,AU,Australia,36,234,55,6,601+,66,167,100.0,35,93,91,85.8,229,41,316,44\\n191,University of Liverpool,UK,United Kingdom,42,194,34,41,377,33,406,87.0,189,88,118,98.1,21,38,335,44\\n192,\"The University of Newcastle, Australia (UON)\",AU,Australia,29,294,25,34,455,86,80,99.0,68,17,567,78.6,339,45,280,44\\n193,Curtin University,AU,Australia,30,282,41,13,601+,89,67,100.0,40,44,314,93.7,94,20,586,44\\n194,Wuhan University,CN,China (Mainland),38,219,56,13,601+,88,73,42.0,396,7,601+,72.8,428,32,387,44\\n195,Macquarie University,AU,Australia,30,275,48,13,601+,74,126,93.0,158,88,114,88.3,193,53,226,44\\n196,Universit\\xc3\\xa9 catholique de Louvain (UCLouvain),BE,Belgium,49,156,43,5,601+,61,194,89.0,177,38,358,89.6,173,49,258,44\\n197,Keio University,JP,Japan,50,154,91,60,258,6,601+,10.0,601+,12,601+,46.0,601+,83,90,44\\n198,Ulsan National Institute of Science and Technology (UNIST),SK,South Korea,11,501,7,79,138,99,11,38.0,413,12,601+,31.7,601+,14,601+,44\\n199,Vanderbilt University,US,United States,25,329,22,100,9,38,361,38.0,412,30,429,83.0,271,56,207,43\\n200,Technische Universit\\xc3\\xa4t Dresden,DE,Germany,37,226,37,89,89,14,601+,42.0,392,36,383,94.2,90,9,601+,43\\n201,Rheinische Friedrich-Wilhelms-Universit\\xc3\\xa4t Bonn,DE,Germany,51,150,16,68,199,15,601+,51.0,344,32,416,92.4,116,22,533,43\\n202,National Yang Ming Chiao Tung University,TW,Taiwan,34,243,74,50,314,46,290,23.0,533,22,501,42.8,601+,51,242,43\\n203,Universiti Teknologi Malaysia ,MY,Malaysia,44,186,55,46,335,28,446,12.0,601+,77,168,82.9,272,13,601+,43\\n204,University of Lausanne,CH,Switzerland,30,281,16,43,355,61,197,99.0,69,59,242,82.0,288,53,231,43\\n205,Dartmouth College,US,United States,19,447,25,65,222,86,81,5.0,601+,32,409,53.7,601+,96,38,42\\n206,Waseda University,JP,Japan,58,121,96,27,558,4,601+,28.0,494,35,390,63.5,525,72,127,42\\n207,University of Bergen,NO,Norway,33,253,8,76,159,41,347,86.0,193,8,601+,87.9,198,21,554,42\\n208,Erasmus University Rotterdam ,NL,Netherlands,35,239,47,28,539,54,232,83.0,208,53,269,87.1,209,56,206,42\\n209,Qatar University,QA,Qatar,24,349,33,61,248,36,378,100.0,19,94,84,90.1,159,1,601+,42\\n210,Universidade Estadual de Campinas (Unicamp),BR,Brazil,68,93,32,11,601+,43,317,8.0,601+,3,601+,84.1,257,13,601+,42\\n211,Universite libre de Bruxelles,BE,Belgium,34,248,50,4,601+,67,159,96.0,127,86,132,82.2,284,49,253,42\\n212,Tongji University,CN,China (Mainland),33,254,10,26,563,87,75,66.0,281,35,386,71.0,448,25,478,42\\n213,University of Twente,NL,Netherlands,20,418,36,37,419,67,158,98.0,99,90,107,82.5,280,9,601+,42\\n214,Vrije Universiteit Amsterdam,NL,Netherlands,39,214,12,30,512,70,150,64.0,285,33,402,89.8,166,19,601+,42\\n215,Universidad Aut\\xc3\\xb3noma de Madrid,ES,Spain,59,119,55,37,414,20,547,9.0,601+,14,601+,89.3,179,23,527,42\\n216,University of G\\xc3\\xb6ttingen,DE,Germany,49,158,21,64,229,18,576,48.0,359,23,484,92.7,111,15,601+,42\\n217,Harbin Institute of Technology,CN,China (Mainland),26,320,8,50,313,96,35,9.0,601+,7,601+,64.7,513,15,601+,42\\n218,University of Otago,NZ,New Zealand,47,172,34,12,601+,51,250,100.0,38,34,394,77.0,362,49,254,42\\n219,Arizona State University,US,United States,46,173,40,8,601+,59,201,67.0,270,37,372,90.2,156,33,382,41\\n220,Universidad de los Andes,CO,Colombia,62,108,95,19,601+,6,601+,30.0,469,1,601+,56.9,601+,66,159,41\\n221,University of Aberdeen,UK,United Kingdom,28,301,36,33,458,50,257,94.0,140,97,62,87.4,205,19,601+,41\\n222,Queensland University of Technology (QUT),AU,Australia,39,217,40,7,601+,65,177,97.0,118,41,335,90.0,162,22,547,41\\n223,The Hebrew University of Jerusalem,IL,Israel,34,242,23,78,144,28,445,63.0,291,7,601+,74.6,404,89,74,41\\n224,Chulalongkorn University,TH,Thailand,65,104,63,34,446,6,601+,9.0,601+,2,601+,75.1,390,93,47,41\\n225,National Cheng Kung University (NCKU),TW,Taiwan,47,171,71,40,386,22,525,27.0,502,22,494,51.4,601+,17,601+,41\\n226,Complutense University of Madrid,ES,Spain,69,90,57,22,601+,10,601+,5.0,601+,15,601+,96.4,51,67,154,41\\n227,Southern University of Science and Technology,CN,China (Mainland),7,501,1,97,50,80,107,38.0,416,1,601+,56.9,601+,4,601+,41\\n228,Universit\\xc3\\xa4t Hamburg,DE,Germany,50,152,19,16,601+,58,208,43.0,390,21,524,93.2,106,34,370,40\\n229,University of Reading,UK,United Kingdom,33,255,29,20,601+,55,229,93.0,153,83,139,90.4,150,29,424,40\\n230,Bauman Moscow State Technical University,RU,Russia,27,311,50,100,16,1,601+,37.0,425,41,337,8.6,601+,16,601+,40\\n231,Gadjah Mada University,ID,Indonesia,49,160,55,62,243,1,601+,39.0,409,2,601+,28.8,601+,36,358,40\\n232,Radboud University ,NL,Netherlands,29,288,13,27,548,82,102,69.0,261,19,547,90.9,141,6,601+,40\\n233,Queen\\'s University Belfast,UK,United Kingdom,31,266,27,34,448,37,374,99.0,86,99,46,95.1,71,11,601+,39\\n234,Universitat Pompeu Fabra (Barcelona),ES,Spain,30,278,26,9,601+,91,60,67.0,274,22,502,78.4,342,51,240,39\\n235,Bandung Institute of Technology (ITB),ID,Indonesia,43,189,54,62,244,2,601+,66.0,279,3,601+,21.5,601+,41,313,39\\n236,\"University of California, Irvine\",US,United States,39,213,18,12,601+,59,200,72.0,251,69,206,85.8,231,11,601+,39\\n237,King Saud University,SA,Saudi Arabia,34,245,13,60,252,29,438,98.0,105,23,487,93.4,103,83,93,39\\n238,University of Cape Town,ZA,South Africa,43,190,50,15,601+,44,302,62.0,302,30,426,95.5,64,92,53,39\\n239,University of Ottawa,CA,Canada,25,330,38,4,601+,80,110,90.0,171,70,196,90.7,146,10,601+,39\\n240,University of Sussex,UK,United Kingdom,23,355,6,16,601+,80,109,96.0,125,92,101,85.9,227,38,340,39\\n241,USI - Universit\\xc3\\xa0 della Svizzera italiana,CH,Switzerland,5,501,4,85,109,47,283,100.0,23,100,9,38.5,601+,61,183,39\\n242,University of Calgary,CA,Canada,36,237,50,21,601+,41,334,80.0,218,54,265,85.2,236,35,366,39\\n243,Universidad Nacional de Colombia,CO,Colombia,67,98,93,6,601+,3,601+,7.0,601+,1,601+,58.6,583,36,357,38\\n244,Universit\\xc3\\xa0\\xc2\\xa0di Padova,IT,Italy,56,134,30,9,601+,51,247,11.0,601+,7,601+,93.4,100,10,601+,38\\n245,University of Notre Dame,US,United States,26,321,44,61,247,47,281,23.0,540,15,601+,74.8,402,74,120,38\\n246,Queen\\'s University at Kingston,CA,Canada,38,220,69,6,601+,49,264,70.0,256,33,403,77.6,353,74,122,38\\n247,Yeshiva University,US,United States,2,501,3,85,108,98,21,,,8,601+,42.2,601+,24,505,38\\n1,Massachusetts Institute of Technology (MIT) ,US,United States,100,5,100,100,14,100,5,100.0,54,90,109,96.1,58,100,3,100\\n2,University of Cambridge,UK,United Kingdom,100,2,100,100,11,92,55,100.0,60,96,70,99.5,6,100,9,98\\n3,Stanford University,US,United States,100,4,100,100,6,99,9,99.0,74,60,235,96.3,55,100,2,98\\n4,University of Oxford,UK,United Kingdom,100,3,100,100,8,90,64,98.0,101,98,54,99.9,3,100,7,98\\n5,Harvard University,US,United States,100,1,100,99,35,100,2,76.0,228,66,212,100.0,1,100,1,97\\n6,California Institute of Technology (Caltech),US,United States,96,28,87,100,3,100,4,99.0,75,85,134,73.0,425,98,24,97\\n7,Imperial College London,UK,United Kingdom,98,24,99,99,34,86,84,100.0,55,100,13,98.1,20,88,76,97\\n8,UCL,UK,United Kingdom,99,14,98,97,51,77,119,99.0,87,100,14,100.0,2,90,71,95\\n9,ETH Zurich - Swiss Federal Institute of Technology,CH,Switzerland,98,18,91,74,164,99,18,100.0,24,98,59,96.2,56,91,64,93\\n10,University of Chicago,US,United States,99,16,92,92,71,86,79,81.0,214,76,176,89.6,170,98,30,93\\n11,National University of Singapore (NUS),SG,Singapore,99,13,94,79,136,91,58,100.0,33,73,187,89.9,165,99,16,92\\n12,Peking University,CN,China (Mainland),99,15,96,87,98,96,34,57.0,323,36,376,77.5,354,91,59,91\\n13,University of Pennsylvania,US,United States,96,29,92,99,23,70,142,96.0,128,66,215,93.3,104,100,5,90\\n14,Tsinghua University,CN,China (Mainland),98,17,97,92,72,98,24,16.0,601+,25,462,75.5,381,87,80,90\\n15,The University of Edinburgh,UK,United Kingdom,98,26,97,81,129,70,149,98.0,98,99,38,98.7,15,54,219,89\\n16,EPFL,CH,Switzerland,83,59,71,91,82,99,15,100.0,17,100,11,87.3,207,28,451,89\\n17,Princeton University,US,United States,99,10,98,72,172,100,3,26.0,515,62,226,78.5,340,100,8,89\\n18,Yale University,US,United States,99,9,100,100,2,51,249,89.0,179,77,165,92.0,123,100,4,89\\n19,\"Nanyang Technological University, Singapore (NTU)\",SG,Singapore,90,42,76,83,120,94,49,100.0,30,74,186,89.6,169,84,86,88\\n20,Cornell University,US,United States,98,23,91,62,245,99,17,63.0,290,55,256,90.0,161,99,19,87\\n21,The University of Hong Kong,HK,Hong Kong SAR,97,27,62,84,113,72,131,100.0,27,98,50,81.1,303,99,23,87\\n22,Columbia University,US,United States,99,11,98,100,12,47,282,47.0,369,94,85,98.9,14,99,11,86\\n23,The University of Tokyo,JP,Japan,100,7,99,91,78,73,128,10.0,601+,27,448,89.5,174,97,33,85\\n24,Johns Hopkins University,US,United States,87,49,47,100,5,87,76,63.0,294,82,145,97.7,27,95,42,85\\n25,University of Michigan-Ann Arbor,US,United States,98,22,91,88,92,62,190,71.0,253,33,404,96.3,52,96,40,84\\n26,Universit\\xc3\\xa9 PSL,FR,France,74,78,97,99,24,84,96,59.0,308,83,142,99.7,4,53,227,83\\n27,\"University of California, Berkeley (UCB)\",US,United States,100,6,100,23,599,99,10,93.0,155,57,248,96.7,45,99,21,82\\n28,The University of Manchester,UK,United Kingdom,95,33,97,63,234,59,207,93.0,152,99,41,98.9,13,66,158,82\\n29,Seoul National University,KR,South Korea,98,19,97,87,100,70,147,12.0,601+,10,601+,79.3,329,97,34,82\\n30,The Australian National University,AU,Australia,93,35,70,38,404,99,16,100.0,37,96,71,94.6,86,59,192,82\\n31,McGill University,CA,Canada,93,36,93,68,193,59,203,87.0,188,95,77,95.2,69,90,72,81\\n32,Northwestern University,US,United States,84,56,71,98,45,84,95,40.0,401,38,351,89.0,183,98,29,81\\n33,The University of Melbourne,AU,Australia,98,20,94,17,601+,95,45,93.0,157,99,30,97.6,30,91,63,81\\n34,Fudan University,CN,China (Mainland),83,60,93,89,88,70,146,89.0,178,38,355,70.6,457,65,164,81\\n35,University of Toronto,CA,Canada,99,12,98,65,219,43,313,95.0,132,95,74,96.7,46,94,45,81\\n36,Kyoto University,JP,Japan,98,21,98,94,62,54,234,14.0,601+,22,503,85.5,233,56,201,81\\n37,King\\'s College London,UK,United Kingdom,88,47,83,74,162,60,198,98.0,104,100,21,99.3,8,56,200,81\\n38,The Chinese University of Hong Kong (CUHK),HK,Hong Kong SAR,87,51,49,60,250,92,53,100.0,58,90,108,74.9,398,79,108,80\\n39,New York University (NYU),US,United States,95,32,99,98,48,28,440,31.0,463,94,87,92.0,122,99,13,80\\n40,The Hong Kong University of Science and Technology,HK,Hong Kong SAR,82,64,50,62,239,98,20,100.0,20,87,121,56.2,601+,91,61,79\\n41,The University of Sydney,AU,Australia,96,30,91,15,601+,92,56,99.0,84,100,12,97.3,34,90,65,79\\n42,KAIST - Korea Advanced Institute of Science & Technology,KR,South Korea,88,48,85,68,192,97,27,23.0,542,12,601+,65.2,505,63,178,79\\n43,Zhejiang University,CN,China (Mainland),72,82,95,78,146,88,72,99.0,88,42,325,80.8,309,42,307,79\\n44,\"University of California, Los Angeles (UCLA)\",US,United States,100,8,99,37,410,85,87,45.0,377,27,450,96.3,53,98,31,78\\n45,The University of New South Wales (UNSW Sydney),AU,Australia,89,46,91,16,601+,97,28,100.0,50,99,31,98.2,17,93,51,78\\n46,Shanghai Jiao Tong University,CN,China (Mainland),82,61,90,57,269,97,31,40.0,400,38,357,73.9,412,57,194,77\\n47,University of British Columbia,CA,Canada,98,25,95,56,275,42,332,89.0,180,74,181,97.9,24,75,119,77\\n48,Institut Polytechnique de Paris,FR,France,45,180,99,98,41,94,49,97.0,124,98,56,94.8,78,99,12,76\\n49,Technical University of Munich,DE,Germany,84,57,96,96,57,25,482,70.0,255,95,80,91.8,125,37,347,76\\n50,Duke University,US,United States,86,53,79,100,10,41,345,20.0,581,55,257,95.5,63,98,27,74\\n51,The University of Queensland,AU,Australia,86,52,75,20,601+,90,62,100.0,36,100,19,94.6,85,41,311,74\\n52,Carnegie Mellon University,US,United States,72,83,69,58,267,100,8,38.0,414,97,66,88.7,188,85,83,74\\n53,\"University of California, San Diego (UCSD)\",US,United States,90,45,61,55,280,77,118,54.0,333,53,267,96.9,40,21,560,74\\n54,City University of Hong Kong,HK,Hong Kong SAR,57,130,29,88,93,98,25,100.0,16,100,15,55.1,601+,57,198,73\\n55,Tokyo Institute of Technology (Tokyo Tech),JP,Japan,74,80,93,81,126,65,168,36.0,433,37,362,55.8,601+,33,377,72\\n56,The London School of Economics and Political Science (LSE),UK,United Kingdom,69,91,98,37,408,84,93,100.0,32,100,8,67.6,487,99,10,72\\n57,Monash University,AU,Australia,87,50,80,11,601+,79,113,100.0,48,100,18,95.1,75,56,202,71\\n58,University of Amsterdam,NL,Netherlands,82,62,42,26,562,97,29,92.0,161,80,152,97.2,35,51,241,71\\n59,Ludwig-Maximilians-Universit\\xc3\\xa4t M\\xc3\\xbcnchen,DE,Germany,92,37,75,56,278,45,296,64.0,287,38,352,94.7,84,39,333,70\\n60,Sorbonne University,FR,France,90,44,41,40,387,86,86,28.0,496,54,262,99.6,5,60,187,70\\n61,Delft University of Technology,NL,Netherlands,71,87,80,34,447,84,94,100.0,64,83,141,95.9,60,64,172,70\\n62,University of Bristol,UK,United Kingdom,74,79,84,58,268,55,225,90.0,170,84,135,93.9,92,59,190,70\\n63,Brown University,US,United States,57,128,54,80,132,89,65,82.0,210,49,294,73.6,417,99,14,69\\n64,The University of Warwick,UK,United Kingdom,71,85,89,43,360,63,186,98.0,111,99,45,93.6,97,62,181,69\\n65,Ruprecht-Karls-Universit\\xc3\\xa4t Heidelberg,DE,Germany,78,72,40,99,26,41,346,51.0,348,47,307,95.2,70,22,531,69\\n66,The Hong Kong Polytechnic University,HK,Hong Kong SAR,66,99,37,78,147,68,151,100.0,46,80,153,74.2,409,49,256,69\\n67,Universidad de Buenos Aires (UBA),AR,Argentina,92,39,94,76,158,1,601+,63.0,293,68,207,63.0,533,34,371,68\\n68,Osaka University,JP,Japan,80,68,85,67,205,59,206,25.0,525,14,601+,75.2,385,21,567,68\\n69,Universit\\xc3\\xa9 Paris-Saclay,FR,France,57,131,99,99,28,49,266,43.0,387,59,243,97.1,37,7,601+,68\\n70,Universiti Malaya (UM),MY,Malaysia,79,70,94,67,200,39,355,43.0,388,53,272,91.8,126,41,310,67\\n71,Pohang University of Science And Technology (POSTECH),KR,South Korea,47,169,69,100,15,98,26,34.0,444,2,601+,30.9,601+,54,215,67\\n72,University of Texas at Austin,US,United States,93,34,85,9,601+,90,61,7.0,601+,10,601+,90.9,142,71,131,67\\n73,Yonsei University,KR,South Korea,75,76,95,88,94,28,448,19.0,587,51,285,63.5,526,68,144,67\\n74,Korea University,KR,South Korea,79,71,93,86,105,29,433,14.0,601+,32,406,63.1,532,71,129,66\\n75,Lomonosov Moscow State University,RU,Russia,80,67,77,99,27,5,601+,19.0,589,91,103,87.5,204,91,62,66\\n76,KU Leuven,BE,Belgium,83,58,53,7,601+,92,54,91.0,164,43,320,99.1,11,44,283,66\\n77,National Taiwan University (NTU),TW,Taiwan,92,38,92,33,461,49,262,19.0,591,32,412,75.0,393,96,37,65\\n78,University of Southampton,UK,United Kingdom,50,153,56,63,233,82,100,96.0,130,93,89,96.7,47,42,302,65\\n79,Tohoku University,JP,Japan,71,86,78,98,43,34,401,14.0,601+,16,595,66.8,493,18,601+,64\\n80,University of Washington,US,United States,84,55,48,10,601+,100,7,32.0,458,36,384,97.6,29,84,89,64\\n81,University of Glasgow,UK,United Kingdom,75,77,75,50,311,34,394,95.0,134,98,49,94.7,81,29,430,64\\n83,University of Wisconsin-Madison,US,United States,82,63,48,70,184,41,333,37.0,421,23,482,93.2,105,84,87,63\\n84,University of Zurich,CH,Switzerland,58,124,39,93,68,49,268,100.0,57,55,255,93.5,98,77,114,63\\n85,University of Illinois at Urbana-Champaign,US,United States,85,54,60,9,601+,88,71,20.0,578,46,309,92.2,118,70,135,63\\n86,University of Leeds,UK,United Kingdom,70,88,78,41,376,47,276,86.0,195,86,129,97.8,26,42,300,62\\n87,The University of Auckland,NZ,New Zealand,81,65,48,22,601+,54,235,99.0,71,92,102,87.2,208,79,110,62\\n88,Georgia Institute of Technology,US,United States,67,97,77,11,601+,95,44,62.0,299,54,260,78.5,341,63,176,62\\n89,KTH Royal Institute of Technology ,SE,Sweden,45,178,58,70,186,76,123,97.0,123,70,199,89.9,164,81,100,62\\n90,The University of Western Australia,AU,Australia,55,137,49,21,601+,98,19,100.0,28,99,23,98.2,16,65,167,61\\n91,University of Birmingham,UK,United Kingdom,66,100,74,44,349,45,295,91.0,168,87,122,95.1,73,37,344,61\\n92,Durham University,UK,United Kingdom,57,125,89,31,501,65,174,97.0,122,87,123,89.1,182,43,295,60\\n93,Pennsylvania State University,US,United States,76,75,69,32,473,67,162,25.0,523,31,421,96.8,44,44,282,60\\n94,University of Science and Technology of China,CN,China (Mainland),51,147,12,86,103,99,12,18.0,596,5,601+,67.0,491,37,345,60\\n95,Lund University,SE,Sweden,68,92,50,51,307,41,341,95.0,133,76,173,97.6,28,64,168,60\\n96,The University of Sheffield,UK,United Kingdom,58,122,53,59,264,46,284,85.0,199,97,61,94.7,79,33,376,59\\n97,University of St Andrews,UK,United Kingdom,46,175,67,61,249,58,209,98.0,100,99,35,83.4,265,44,292,59\\n98,\"Trinity College Dublin, The University of Dublin\",IE,Ireland,67,95,48,25,573,60,199,99.0,73,93,92,87.3,206,97,32,59\\n99,Sungkyunkwan University(SKKU),KR,South Korea,60,115,72,83,115,37,368,18.0,592,38,354,58.8,582,33,375,58\\n100,Rice University,US,United States,38,218,26,69,189,86,82,90.0,174,92,100,57.2,601+,70,133,58\\n101,University of Oslo,NO,Norway,54,141,14,83,117,62,187,86.0,196,27,449,97.9,25,65,163,58\\n102,\"University of California, Davis\",US,United States,64,105,51,27,559,68,153,84.0,204,70,198,90.2,155,25,488,58\\n103,\"University of North Carolina, Chapel Hill\",US,United States,65,102,44,80,135,46,287,27.0,507,10,601+,90.0,160,67,152,58\\n105,Universidad Nacional Aut\\xc3\\xb3noma de M\\xc3\\xa9xico (UNAM),MX,Mexico,96,31,95,43,358,2,601+,9.0,601+,2,601+,91.3,136,61,184,58\\n106,King Abdulaziz University (KAU),SA,Saudi Arabia,48,167,70,66,215,50,256,99.0,94,54,263,93.4,102,10,601+,57\\n107,University of Helsinki,FI,Finland,65,103,44,66,212,49,261,67.0,269,5,601+,95.2,67,62,180,57\\n108,Boston University,US,United States,62,110,57,40,388,61,195,33.0,449,83,144,86.9,212,80,103,57\\n109,The University of Adelaide,AU,Australia,52,146,35,17,601+,94,46,99.0,76,99,28,93.1,108,40,325,57\\n110,University of Alberta,CA,Canada,55,139,48,51,305,53,237,95.0,135,76,171,96.1,57,41,318,56\\n111,\\xc3\\x89cole Normale Sup\\xc3\\xa9rieure de Lyon,FR,France,31,265,12,94,63,96,36,66.0,282,17,572,70.1,461,44,289,56\\n112,Nagoya University,JP,Japan,59,117,54,90,84,33,403,15.0,601+,20,536,66.5,499,35,367,56\\n113,Utrecht University,NL,Netherlands,65,101,26,35,443,79,112,58.0,312,23,489,94.7,83,42,305,56\\n114,University of Nottingham,UK,United Kingdom,59,120,75,36,421,45,298,90.0,173,76,172,98.1,19,32,391,56\\n115,Universidade de S\\xc3\\xa3o Paulo,BR,Brazil,91,41,69,17,601+,40,348,7.0,601+,2,601+,94.7,82,78,113,56\\n116,Aalto University,FI,Finland,44,187,45,44,347,89,68,94.0,139,35,387,90.3,154,79,106,55\\n117,Universit\\xc3\\xa9 de Montr\\xc3\\xa9al ,CA,Canada,57,129,47,76,157,27,455,89.0,176,53,266,86.0,224,19,601+,55\\n118,Freie Universitaet Berlin,DE,Germany,80,66,44,4,601+,63,183,63.0,298,42,328,91.9,124,33,383,55\\n119,Washington University in St. Louis,US,United States,40,210,15,99,22,55,221,82.0,212,55,258,84.9,243,71,132,55\\n120,University of Bern,CH,Switzerland,30,283,35,64,223,98,22,100.0,41,41,329,95.3,66,18,601+,55\\n121,Pontificia Universidad Cat\\xc3\\xb3lica de Chile (UC),CL,Chile,91,40,98,22,601+,12,601+,17.0,601+,3,601+,82.7,275,90,70,54\\n122,Newcastle University,UK,United Kingdom,46,176,83,39,398,58,211,84.0,203,75,178,96.9,39,14,601+,54\\n123,Universiti Putra Malaysia (UPM),MY,Malaysia,56,132,59,75,160,19,565,44.0,383,92,99,85.0,240,6,601+,54\\n124,Wageningen University & Research,NL,Netherlands,42,193,17,97,52,48,275,50.0,349,76,175,96.9,43,18,601+,54\\n125,Chalmers University of Technology,SE,Sweden,27,305,60,60,255,81,104,100.0,53,72,190,84.1,256,22,538,54\\n126,Queen Mary University of London,UK,United Kingdom,48,163,36,42,363,62,188,99.0,81,99,40,93.7,96,13,601+,54\\n127,University of Geneva,CH,Switzerland,46,174,20,44,345,74,127,100.0,39,96,68,92.8,110,45,276,54\\n128,Uppsala University,SE,Sweden,63,107,27,43,357,43,314,95.0,137,74,182,97.1,36,48,263,54\\n129,Purdue University,US,United States,62,109,73,11,601+,70,141,51.0,345,48,300,92.2,119,63,173,54\\n130,Universiti Kebangsaan Malaysia (UKM),MY,Malaysia,57,126,62,93,70,9,601+,42.0,393,38,353,76.5,369,5,601+,54\\n131,Humboldt-Universit\\xc3\\xa4t zu Berlin,DE,Germany,90,43,55,8,601+,29,434,58.0,314,33,397,91.4,133,26,476,54\\n132,Leiden University,NL,Netherlands,68,94,23,22,601+,65,169,85.0,202,47,308,94.7,80,30,416,54\\n133,Nanjing University,CN,China (Mainland),57,127,17,32,478,96,39,54.0,337,8,601+,74.9,400,29,423,53\\n134,University of Southern California,US,United States,54,142,59,28,535,71,138,36.0,434,77,164,89.2,180,94,44,53\\n135,Kyushu University,JP,Japan,56,133,65,84,110,26,466,15.0,601+,20,530,66.1,502,22,543,53\\n136,University of Basel,CH,Switzerland,28,304,26,53,293,95,43,100.0,31,84,138,90.1,158,52,233,53\\n137,University of Technology Sydney,AU,Australia,41,199,66,9,601+,90,63,94.0,142,97,63,89.5,176,39,326,53\\n138,Eindhoven University of Technology,NL,Netherlands,28,296,72,50,312,78,116,100.0,45,56,251,72.3,436,45,279,52\\n139,Politecnico di Milano,IT,Italy,67,96,76,5,601+,53,239,57.0,319,54,264,87.8,200,39,328,52\\n140,The Ohio State University,US,United States,61,113,62,51,308,34,396,63.0,297,16,600,96.5,49,41,309,52\\n141,Hokkaido University,JP,Japan,55,136,60,77,151,30,430,18.0,601+,17,574,72.8,429,16,601+,51\\n142,\"KIT, Karlsruhe Institute of Technology\",DE,Germany,44,185,67,33,462,72,133,68.0,266,50,288,89.6,171,54,220,51\\n143,Ghent University,BE,Belgium,54,144,30,83,121,26,465,72.0,250,21,520,99.1,12,24,494,51\\n144,Universiti Sains Malaysia (USM),MY,Malaysia,59,118,66,65,220,13,601+,25.0,522,75,179,79.6,327,6,601+,51\\n145,University of Groningen,NL,Netherlands,51,148,21,54,286,42,330,93.0,151,86,124,96.3,54,20,569,51\\n146,Lancaster University,UK,United Kingdom,39,215,30,31,492,82,103,93.0,154,94,86,88.9,186,28,448,51\\n147,RWTH Aachen University,DE,Germany,49,157,88,5,601+,73,129,48.0,364,81,151,84.1,255,30,405,51\\n148,University of Rochester,US,United States,23,356,20,99,36,55,230,74.0,238,95,78,75.1,389,46,273,51\\n149,\"University of California, Santa Barbara (UCSB)\",US,United States,55,135,24,10,601+,97,30,57.0,317,28,444,78.4,343,15,601+,50\\n150,Al-Farabi Kazakh National University,KZ,Kazakhstan,49,159,76,98,46,1,601+,30.0,470,34,393,35.3,601+,12,601+,50\\n151,University of Vienna,AT,Austria,69,89,55,24,596,14,601+,98.0,96,89,112,96.6,48,73,126,50\\n152,McMaster University,CA,Canada,39,212,50,84,112,21,535,99.0,85,59,241,79.8,324,42,301,50\\n153,Stockholm University,SE,Sweden,54,143,17,29,525,62,189,82.0,213,77,169,97.3,33,69,141,50\\n154,University of Waterloo,CA,Canada,40,209,77,7,601+,82,101,79.0,222,82,149,83.6,263,87,78,50\\n155,Emory University,US,United States,25,336,15,99,40,68,154,50.0,351,31,420,87.7,201,44,287,49\\n156,Indian Institute of Science,IN,India,37,223,22,56,276,100,1,11.0,601+,1,601+,46.0,601+,14,601+,49\\n157,Hanyang University,KR,South Korea,45,182,79,83,119,17,588,18.0,594,43,315,68.0,480,33,374,49\\n158,Technische Universit\\xc3\\xa4t Berlin (TU Berlin),DE,Germany,55,140,64,48,321,23,509,46.0,376,75,180,83.2,268,31,397,49\\n159,Michigan State University,US,United States,60,114,61,12,601+,58,210,62.0,303,16,584,93.2,107,53,229,48\\n160,King Fahd University of Petroleum & Minerals,SA,Saudi Arabia,30,284,24,88,95,50,253,100.0,26,21,508,70.2,458,66,156,48\\n162,University of York,UK,United Kingdom,43,191,36,45,343,48,270,88.0,183,82,147,88.9,187,23,511,48\\n163,The University of Exeter,UK,United Kingdom,41,201,56,31,491,55,224,92.0,162,77,163,94.8,77,15,601+,48\\n164,Texas A&M University,US,United States,61,112,65,5,601+,67,161,24.0,527,14,601+,91.1,140,36,356,47\\n165,\"University of Maryland, College Park\",US,United States,51,151,35,37,418,71,140,23.0,534,14,601+,92.6,112,61,185,47\\n166,Cardiff University,UK,United Kingdom,46,177,47,40,390,41,336,84.0,207,74,183,91.4,132,19,599,47\\n167,Alma Mater Studiorum - University of Bologna,IT,Italy,78,73,43,3,601+,49,263,7.0,601+,10,601+,95.1,74,40,322,47\\n168,Universidad de Chile,CL,Chile,80,69,92,12,601+,13,601+,9.0,601+,5,601+,77.4,355,42,304,47\\n169,Eberhard Karls Universit\\xc3\\xa4t T\\xc3\\xbcbingen,DE,Germany,44,184,21,96,55,14,601+,67.0,277,26,460,96.5,50,16,601+,47\\n170,Tecnol\\xc3\\xb3gico de Monterrey,MX,Mexico,48,164,92,72,170,2,601+,52.0,339,8,601+,65.1,508,85,82,47\\n171,Sapienza University of Rome,IT,Italy,78,74,36,4,601+,50,258,3.0,601+,11,601+,98.0,23,55,209,46\\n172,Indian Institute of Technology Bombay (IITB),IN,India,53,145,86,25,572,55,228,3.0,601+,1,601+,58.0,593,76,115,46\\n173,Western University,CA,Canada,30,280,60,4,601+,96,32,99.0,72,57,250,86.0,225,81,101,46\\n174,Ecole des Ponts ParisTech,FR,France,8,501,55,97,53,56,219,36.0,431,95,79,43.8,601+,90,68,46\\n175,Indian Institute of Technology Delhi (IITD),IN,India,49,161,79,27,543,65,176,2.0,601+,1,601+,42.2,601+,84,84,46\\n176,Case Western Reserve University,US,United States,18,471,20,89,90,65,172,47.0,366,64,220,72.5,433,40,319,46\\n177,National Tsing Hua University,TW,Taiwan,51,149,69,34,449,47,279,17.0,601+,19,552,35.8,601+,5,601+,45\\n178,Universitat Aut\\xc3\\xb2noma de Barcelona,ES,Spain,62,111,28,11,601+,66,164,20.0,574,20,535,94.1,91,20,590,45\\n179,Technische Universit\\xc3\\xa4t Wien,AT,Austria,30,274,50,12,601+,86,83,79.0,221,86,127,76.7,366,29,426,45\\n180,University of Bath,UK,United Kingdom,34,247,68,19,601+,59,205,97.0,120,83,143,78.2,344,41,317,45\\n181,Khalifa University of Science and Technology,AE,United Arab Emirates,16,501,15,91,80,51,248,100.0,10,69,204,72.8,430,15,601+,45\\n182,University College Dublin,IE,Ireland,48,165,46,22,601+,43,320,98.0,103,63,223,87.6,203,64,170,45\\n183,University of Pittsburgh,US,United States,39,211,16,96,58,37,373,7.0,601+,13,601+,90.3,152,44,293,45\\n184,Universitat de Barcelona,ES,Spain,71,84,28,13,601+,44,305,14.0,601+,26,458,96.9,42,53,230,45\\n185,University of Gothenburg,SE,Sweden,37,228,20,66,216,34,399,86.0,192,74,185,94.9,76,48,262,45\\n186,University of Minnesota Twin Cities,US,United States,60,116,28,38,403,49,269,7.0,601+,10,601+,97.6,31,54,218,45\\n187,University of Wollongong,AU,Australia,29,290,34,20,601+,88,74,93.0,149,70,200,91.4,131,24,504,45\\n188,University of Florida,US,United States,48,166,47,71,177,26,470,17.0,601+,11,601+,98.0,22,54,224,45\\n189,Albert-Ludwigs-Universitaet Freiburg,DE,Germany,47,170,18,36,426,57,217,67.0,272,41,339,89.0,184,19,601+,45\\n190,RMIT University,AU,Australia,36,234,55,6,601+,66,167,100.0,35,93,91,85.8,229,41,316,44\\n191,University of Liverpool,UK,United Kingdom,42,194,34,41,377,33,406,87.0,189,88,118,98.1,21,38,335,44\\n192,\"The University of Newcastle, Australia (UON)\",AU,Australia,29,294,25,34,455,86,80,99.0,68,17,567,78.6,339,45,280,44\\n193,Curtin University,AU,Australia,30,282,41,13,601+,89,67,100.0,40,44,314,93.7,94,20,586,44\\n194,Wuhan University,CN,China (Mainland),38,219,56,13,601+,88,73,42.0,396,7,601+,72.8,428,32,387,44\\n195,Macquarie University,AU,Australia,30,275,48,13,601+,74,126,93.0,158,88,114,88.3,193,53,226,44\\n196,Universit\\xc3\\xa9 catholique de Louvain (UCLouvain),BE,Belgium,49,156,43,5,601+,61,194,89.0,177,38,358,89.6,173,49,258,44\\n197,Keio University,JP,Japan,50,154,91,60,258,6,601+,10.0,601+,12,601+,46.0,601+,83,90,44\\n198,Ulsan National Institute of Science and Technology (UNIST),SK,South Korea,11,501,7,79,138,99,11,38.0,413,12,601+,31.7,601+,14,601+,44\\n199,Vanderbilt University,US,United States,25,329,22,100,9,38,361,38.0,412,30,429,83.0,271,56,207,43\\n200,Technische Universit\\xc3\\xa4t Dresden,DE,Germany,37,226,37,89,89,14,601+,42.0,392,36,383,94.2,90,9,601+,43\\n201,Rheinische Friedrich-Wilhelms-Universit\\xc3\\xa4t Bonn,DE,Germany,51,150,16,68,199,15,601+,51.0,344,32,416,92.4,116,22,533,43\\n202,National Yang Ming Chiao Tung University,TW,Taiwan,34,243,74,50,314,46,290,23.0,533,22,501,42.8,601+,51,242,43\\n203,Universiti Teknologi Malaysia ,MY,Malaysia,44,186,55,46,335,28,446,12.0,601+,77,168,82.9,272,13,601+,43\\n204,University of Lausanne,CH,Switzerland,30,281,16,43,355,61,197,99.0,69,59,242,82.0,288,53,231,43\\n205,Dartmouth College,US,United States,19,447,25,65,222,86,81,5.0,601+,32,409,53.7,601+,96,38,42\\n206,Waseda University,JP,Japan,58,121,96,27,558,4,601+,28.0,494,35,390,63.5,525,72,127,42\\n207,University of Bergen,NO,Norway,33,253,8,76,159,41,347,86.0,193,8,601+,87.9,198,21,554,42\\n208,Erasmus University Rotterdam ,NL,Netherlands,35,239,47,28,539,54,232,83.0,208,53,269,87.1,209,56,206,42\\n209,Qatar University,QA,Qatar,24,349,33,61,248,36,378,100.0,19,94,84,90.1,159,1,601+,42\\n210,Universidade Estadual de Campinas (Unicamp),BR,Brazil,68,93,32,11,601+,43,317,8.0,601+,3,601+,84.1,257,13,601+,42\\n211,Universite libre de Bruxelles,BE,Belgium,34,248,50,4,601+,67,159,96.0,127,86,132,82.2,284,49,253,42\\n212,Tongji University,CN,China (Mainland),33,254,10,26,563,87,75,66.0,281,35,386,71.0,448,25,478,42\\n213,University of Twente,NL,Netherlands,20,418,36,37,419,67,158,98.0,99,90,107,82.5,280,9,601+,42\\n214,Vrije Universiteit Amsterdam,NL,Netherlands,39,214,12,30,512,70,150,64.0,285,33,402,89.8,166,19,601+,42\\n215,Universidad Aut\\xc3\\xb3noma de Madrid,ES,Spain,59,119,55,37,414,20,547,9.0,601+,14,601+,89.3,179,23,527,42\\n216,University of G\\xc3\\xb6ttingen,DE,Germany,49,158,21,64,229,18,576,48.0,359,23,484,92.7,111,15,601+,42\\n217,Harbin Institute of Technology,CN,China (Mainland),26,320,8,50,313,96,35,9.0,601+,7,601+,64.7,513,15,601+,42\\n218,University of Otago,NZ,New Zealand,47,172,34,12,601+,51,250,100.0,38,34,394,77.0,362,49,254,42\\n219,Arizona State University,US,United States,46,173,40,8,601+,59,201,67.0,270,37,372,90.2,156,33,382,41\\n220,Universidad de los Andes,CO,Colombia,62,108,95,19,601+,6,601+,30.0,469,1,601+,56.9,601+,66,159,41\\n221,University of Aberdeen,UK,United Kingdom,28,301,36,33,458,50,257,94.0,140,97,62,87.4,205,19,601+,41\\n222,Queensland University of Technology (QUT),AU,Australia,39,217,40,7,601+,65,177,97.0,118,41,335,90.0,162,22,547,41\\n223,The Hebrew University of Jerusalem,IL,Israel,34,242,23,78,144,28,445,63.0,291,7,601+,74.6,404,89,74,41\\n224,Chulalongkorn University,TH,Thailand,65,104,63,34,446,6,601+,9.0,601+,2,601+,75.1,390,93,47,41\\n225,National Cheng Kung University (NCKU),TW,Taiwan,47,171,71,40,386,22,525,27.0,502,22,494,51.4,601+,17,601+,41\\n226,Complutense University of Madrid,ES,Spain,69,90,57,22,601+,10,601+,5.0,601+,15,601+,96.4,51,67,154,41\\n227,Southern University of Science and Technology,CN,China (Mainland),7,501,1,97,50,80,107,38.0,416,1,601+,56.9,601+,4,601+,41\\n228,Universit\\xc3\\xa4t Hamburg,DE,Germany,50,152,19,16,601+,58,208,43.0,390,21,524,93.2,106,34,370,40\\n229,University of Reading,UK,United Kingdom,33,255,29,20,601+,55,229,93.0,153,83,139,90.4,150,29,424,40\\n230,Bauman Moscow State Technical University,RU,Russia,27,311,50,100,16,1,601+,37.0,425,41,337,8.6,601+,16,601+,40\\n231,Gadjah Mada University,ID,Indonesia,49,160,55,62,243,1,601+,39.0,409,2,601+,28.8,601+,36,358,40\\n232,Radboud University ,NL,Netherlands,29,288,13,27,548,82,102,69.0,261,19,547,90.9,141,6,601+,40\\n233,Queen\\'s University Belfast,UK,United Kingdom,31,266,27,34,448,37,374,99.0,86,99,46,95.1,71,11,601+,39\\n234,Universitat Pompeu Fabra (Barcelona),ES,Spain,30,278,26,9,601+,91,60,67.0,274,22,502,78.4,342,51,240,39\\n235,Bandung Institute of Technology (ITB),ID,Indonesia,43,189,54,62,244,2,601+,66.0,279,3,601+,21.5,601+,41,313,39\\n236,\"University of California, Irvine\",US,United States,39,213,18,12,601+,59,200,72.0,251,69,206,85.8,231,11,601+,39\\n237,King Saud University,SA,Saudi Arabia,34,245,13,60,252,29,438,98.0,105,23,487,93.4,103,83,93,39\\n238,University of Cape Town,ZA,South Africa,43,190,50,15,601+,44,302,62.0,302,30,426,95.5,64,92,53,39\\n239,University of Ottawa,CA,Canada,25,330,38,4,601+,80,110,90.0,171,70,196,90.7,146,10,601+,39\\n240,University of Sussex,UK,United Kingdom,23,355,6,16,601+,80,109,96.0,125,92,101,85.9,227,38,340,39\\n241,USI - Universit\\xc3\\xa0 della Svizzera italiana,CH,Switzerland,5,501,4,85,109,47,283,100.0,23,100,9,38.5,601+,61,183,39\\n242,University of Calgary,CA,Canada,36,237,50,21,601+,41,334,80.0,218,54,265,85.2,236,35,366,39\\n243,Universidad Nacional de Colombia,CO,Colombia,67,98,93,6,601+,3,601+,7.0,601+,1,601+,58.6,583,36,357,38\\n244,Universit\\xc3\\xa0\\xc2\\xa0di Padova,IT,Italy,56,134,30,9,601+,51,247,11.0,601+,7,601+,93.4,100,10,601+,38\\n245,University of Notre Dame,US,United States,26,321,44,61,247,47,281,23.0,540,15,601+,74.8,402,74,120,38\\n246,Queen\\'s University at Kingston,CA,Canada,38,220,69,6,601+,49,264,70.0,256,33,403,77.6,353,74,122,38\\n247,Yeshiva University,US,United States,2,501,3,85,108,98,21,,,8,601+,42.2,601+,24,505,38\\n'\n"
     ]
    }
   ],
   "source": [
    "# retrieve a file from GridFS\n",
    "retrieved_file = fs.get(file_id)\n",
    "\n",
    "# print the contents of the file\n",
    "print(retrieved_file.read())\n"
   ]
  },
  {
   "cell_type": "markdown",
   "id": "a99280bc",
   "metadata": {},
   "source": [
    "> **Note**: GridFS can be a useful tool when working with large files in MongoDB, but it's important to keep in mind that it may not be the best solution for all use cases. It's important to consider factors such as file size, frequency of access, and performance when deciding whether to use GridFS or a different approach."
   ]
  },
  {
   "cell_type": "code",
   "execution_count": null,
   "id": "d572dee0",
   "metadata": {},
   "outputs": [],
   "source": []
  },
  {
   "cell_type": "code",
   "execution_count": null,
   "id": "2578d7e1",
   "metadata": {},
   "outputs": [],
   "source": []
  },
  {
   "cell_type": "code",
   "execution_count": null,
   "id": "c75ff6e3",
   "metadata": {},
   "outputs": [],
   "source": []
  },
  {
   "cell_type": "code",
   "execution_count": null,
   "id": "c4854e99",
   "metadata": {},
   "outputs": [],
   "source": []
  },
  {
   "cell_type": "code",
   "execution_count": null,
   "id": "8e2af5cd",
   "metadata": {},
   "outputs": [],
   "source": []
  },
  {
   "cell_type": "code",
   "execution_count": null,
   "id": "ece0964e",
   "metadata": {},
   "outputs": [],
   "source": []
  },
  {
   "cell_type": "code",
   "execution_count": null,
   "id": "b52a9852",
   "metadata": {},
   "outputs": [],
   "source": []
  },
  {
   "cell_type": "code",
   "execution_count": null,
   "id": "5f0fa3c2",
   "metadata": {},
   "outputs": [],
   "source": []
  },
  {
   "cell_type": "code",
   "execution_count": null,
   "id": "83819bee",
   "metadata": {},
   "outputs": [],
   "source": []
  },
  {
   "cell_type": "code",
   "execution_count": null,
   "id": "a37cefaa",
   "metadata": {},
   "outputs": [],
   "source": []
  },
  {
   "cell_type": "code",
   "execution_count": null,
   "id": "1c4e4cc3",
   "metadata": {},
   "outputs": [],
   "source": []
  },
  {
   "cell_type": "code",
   "execution_count": null,
   "id": "d1a19d3d",
   "metadata": {},
   "outputs": [],
   "source": []
  },
  {
   "cell_type": "code",
   "execution_count": null,
   "id": "395138f6",
   "metadata": {},
   "outputs": [],
   "source": []
  },
  {
   "cell_type": "code",
   "execution_count": null,
   "id": "5bd693b1",
   "metadata": {},
   "outputs": [],
   "source": []
  },
  {
   "cell_type": "code",
   "execution_count": null,
   "id": "437f064b",
   "metadata": {},
   "outputs": [],
   "source": []
  },
  {
   "cell_type": "markdown",
   "id": "64ec11f1",
   "metadata": {},
   "source": [
    "## MongoDB Atlas and Cloud Integration:\n",
    "\n",
    "\n",
    "- MongoDB Atlas is a fully managed cloud database service provided by MongoDB Inc. It allows developers to easily deploy, run and manage MongoDB databases in the cloud. MongoDB Atlas integrates with popular cloud providers such as Amazon Web Services (AWS), Microsoft Azure, and Google Cloud Platform (GCP), providing seamless deployment and scalability options.\n",
    "\n",
    "- MongoDB offers several options to run your database in the cloud, with a range of features and benefits depending on your use case. Some of the popular cloud services offered by MongoDB include:\n",
    "\n",
    "### MongoDB Atlas: \n",
    "\n",
    "A fully-managed cloud database service that offers automatic scaling, built-in security features, and backup and recovery options. You can get started with a free tier and scale up as needed.\n",
    "\n",
    "Here's an example of how to connect to a MongoDB Atlas cluster using PyMongo:"
   ]
  },
  {
   "cell_type": "code",
   "execution_count": null,
   "id": "c44bc777",
   "metadata": {},
   "outputs": [],
   "source": [
    "import pymongo\n",
    "from pymongo import MongoClient\n",
    "\n",
    "# Replace the following with your Atlas connection string\n",
    "conn_str = \"mongodb+srv://<username>:<password>@<cluster>.mongodb.net/test?retryWrites=true&w=majority\"\n",
    "\n",
    "client = MongoClient(conn_str)\n",
    "\n",
    "# List all the databases in the cluster\n",
    "print(client.list_database_names())\n"
   ]
  },
  {
   "cell_type": "code",
   "execution_count": null,
   "id": "6cc1a273",
   "metadata": {},
   "outputs": [],
   "source": []
  },
  {
   "cell_type": "code",
   "execution_count": null,
   "id": "61b246f5",
   "metadata": {},
   "outputs": [],
   "source": []
  },
  {
   "cell_type": "code",
   "execution_count": null,
   "id": "f8042ca0",
   "metadata": {},
   "outputs": [],
   "source": []
  },
  {
   "cell_type": "code",
   "execution_count": null,
   "id": "19187b0d",
   "metadata": {},
   "outputs": [],
   "source": []
  },
  {
   "cell_type": "code",
   "execution_count": null,
   "id": "1b441f2d",
   "metadata": {},
   "outputs": [],
   "source": []
  },
  {
   "cell_type": "code",
   "execution_count": null,
   "id": "5d51e969",
   "metadata": {},
   "outputs": [],
   "source": []
  },
  {
   "cell_type": "code",
   "execution_count": null,
   "id": "eb45d245",
   "metadata": {},
   "outputs": [],
   "source": []
  },
  {
   "cell_type": "markdown",
   "id": "6cb8cd37",
   "metadata": {},
   "source": [
    "# Error handling and Debugging in mongodb\n",
    "\n",
    "Error handling and debugging are important aspects of any development process, and MongoDB provides several tools to help with this process.\n",
    "\n",
    "In MongoDB, errors can occur for various reasons, such as invalid queries, network issues, or authentication problems. The PyMongo library, which is the Python driver for MongoDB, provides several methods to catch and handle these errors. The most common way is to use try-except blocks, which allow you to catch and handle exceptions that are raised when an error occurs."
   ]
  },
  {
   "cell_type": "code",
   "execution_count": null,
   "id": "b88b3886",
   "metadata": {},
   "outputs": [],
   "source": []
  },
  {
   "cell_type": "code",
   "execution_count": null,
   "id": "f97eed78",
   "metadata": {},
   "outputs": [],
   "source": []
  },
  {
   "cell_type": "code",
   "execution_count": null,
   "id": "dd446f23",
   "metadata": {},
   "outputs": [],
   "source": []
  },
  {
   "cell_type": "code",
   "execution_count": null,
   "id": "7e797ce4",
   "metadata": {},
   "outputs": [],
   "source": []
  },
  {
   "cell_type": "markdown",
   "id": "45251a10",
   "metadata": {},
   "source": [
    "## MongoDB and data visualization:\n",
    "    \n",
    "**Data visualization** is the process of converting raw data into visual representations such as graphs, charts, and dashboards. MongoDB can be used in combination with various data visualization tools to create rich visual representations of data. Some popular tools include `Tableau`, `PowerBI`, and `D3.js`. This allows organizations to easily extract insights from their data and make data-driven decisions.\n",
    "\n",
    "\n",
    "<p style=\"color:red\">MongoDB provides many features for data visualization and analysis. One popular tool for data visualization with MongoDB is called MongoDB Charts, which allows you to create charts, graphs, and other visualizations based on data stored in a MongoDB database. You can use MongoDB Charts to create interactive dashboards, share data insights with others, and gain a better understanding of your data. </p>\n",
    "\n",
    "Here is an example of using MongoDB Charts to create a bar chart based on data stored in a MongoDB database:\n",
    "\n",
    "- First, create a MongoDB Charts account and connect it to your MongoDB database.\n",
    "\n",
    "- Next, create a new chart and choose the \"Bar Chart\" option.\n",
    "\n",
    "- Select the collection from your database that you want to visualize.\n",
    "\n",
    "- Choose the `Group By` option and select the field that you want to group the data by.\n",
    "\n",
    "- Choose the `Count` option to count the number of documents in each group.\n",
    "\n",
    "- Customize the chart's appearance and labels as desired.\n",
    "\n",
    "- Save the chart and share it with others.\n",
    "\n",
    "Here is an example Python code using the PyMongo library to query data from a MongoDB database and generate a simple bar chart using the matplotlib library:"
   ]
  },
  {
   "cell_type": "code",
   "execution_count": null,
   "id": "7002d687",
   "metadata": {},
   "outputs": [],
   "source": [
    "import pymongo\n",
    "import matplotlib.pyplot as plt\n",
    "\n",
    "# Connect to the MongoDB database\n",
    "client = pymongo.MongoClient(\"mongodb://localhost:27017/\")\n",
    "db = client[\"mydatabase\"]\n",
    "collection = db[\"mycollection\"]\n",
    "\n",
    "# Query the data\n",
    "data = collection.aggregate([\n",
    "  { \"$group\": { \"_id\": \"$field\", \"count\": { \"$sum\": 1 } } },\n",
    "  { \"$sort\": { \"count\": -1 } },\n",
    "  { \"$limit\": 10 }\n",
    "])\n",
    "\n",
    "\n"
   ]
  },
  {
   "cell_type": "code",
   "execution_count": null,
   "id": "b1325cf9",
   "metadata": {},
   "outputs": [],
   "source": [
    "# Extract the data into separate lists\n",
    "labels = []\n",
    "values = []\n",
    "for d in data:\n",
    "  labels.append(d[\"_id\"])\n",
    "  values.append(d[\"count\"])\n",
    "\n",
    "# Create the bar chart\n",
    "plt.bar(labels, values)\n",
    "plt.title(\"My Bar Chart\")\n",
    "plt.xlabel(\"Field Values\")\n",
    "plt.ylabel(\"Count\")\n",
    "plt.show()"
   ]
  },
  {
   "cell_type": "markdown",
   "id": "a93272a7",
   "metadata": {},
   "source": [
    "This code connects to a MongoDB database, queries the data in a collection, and groups the data by a specific field. It then extracts the grouped data into separate lists and uses matplotlib to generate a simple bar chart based on the data."
   ]
  },
  {
   "cell_type": "code",
   "execution_count": null,
   "id": "8b612266",
   "metadata": {},
   "outputs": [],
   "source": []
  },
  {
   "cell_type": "markdown",
   "id": "0bf0f65a",
   "metadata": {},
   "source": [
    "## MongoDB and scalability:\n",
    "\n",
    "<br/>\n",
    "<img src=\"images/scaling.avif\">\n",
    "<br/>\n",
    "\n",
    "MongoDB is designed to be scalable, allowing organizations to easily handle increasing amounts of data and increasing numbers of users. MongoDB supports horizontal scalability through sharding, which allows data to be split across multiple servers. This makes it possible to handle large amounts of data and high levels of traffic, ensuring that the database remains fast and responsive.\n",
    "\n",
    "There are several strategies for achieving scalability in MongoDB, including:\n",
    "\n",
    "- **Sharding:** This involves distributing data across multiple servers or clusters, based on a shard key. Each shard contains a subset of the data and can be scaled independently.\n",
    "\n",
    "- **Replication:** This involves creating multiple copies of your data across multiple servers, which improves availability and provides fault tolerance.\n",
    "\n",
    "- **Load balancing:** This involves distributing requests across multiple servers to ensure that each server is utilized evenly.\n",
    "<br/>\n",
    "<br/>\n",
    "\n",
    "### Example\n",
    "<br/>\n",
    "\n",
    "Let's say we have a MongoDB database containing **customer** data for an online retailer. As the retailer grows, the amount of customer data increases, which could result in slower queries and decreased performance. In order to maintain high performance, we could add more servers to our MongoDB cluster to handle the increased load.\n",
    "<br/>\n",
    "\n",
    "\n",
    "\n",
    "Here is an example of how to set up a sharded MongoDB cluster for scalability:\n",
    "\n",
    "- Start by setting up a configuration server, which keeps track of the cluster's metadata and configuration.\n",
    "\n",
    "<p style=\"text-align:center;\"> <b>mongod --configsvr --dbpath /data/configdb --port 27019 </b></p>\n",
    "<br/>\n",
    "\n",
    "-     Next, start each shard server.\n",
    "\n",
    "<p style=\"text-align:center;\"> <b> mongod --shardsvr --replSet shard1 --dbpath /data/shard1 --port 27018</b></p>\n",
    "\n",
    "<p style=\"text-align:center;\"> <b>mongod --shardsvr --replSet shard2 --dbpath /data/shard2 --port 27019</b></p>\n",
    "\n",
    "<br/>\n",
    "\n",
    "\n",
    "-     Initialize the replica set for each shard.\n",
    "\n",
    "<p style=\"text-align:center;\"> <b>mongo --port 27018    </b></p>\n",
    "<p style=\"text-align:center;\"> <b>rs.initiate()</b></p>\n",
    "\n",
    "<br/>\n",
    "\n",
    "\n",
    "-     Add each shard to the cluster.\n",
    "\n",
    "<p style=\"text-align:center;\"> <b>mongo --port 27017   </b></p>\n",
    "<p style=\"text-align:center;\"> <b>sh.addShard(\"shard1/localhost:27018\")</b></p>\n",
    "<p style=\"text-align:center;\"> <b>sh.addShard(\"shard1/localhost:27019\")</b></p>\n",
    "\n",
    "<br/>\n",
    "\n",
    "- Create a sharded collection by defining a shard key and enabling sharding for the database.\n",
    "\n",
    "<p style=\"text-align:center;\"> <b>mongo --port 27017   </b></p>\n",
    "<p style=\"text-align:center;\"> <b>use mydb</b></p>\n",
    "<p style=\"text-align:center;\"> <b>sh.enableSharding(\"mydb\")</b></p>\n",
    "\n",
    "<p style=\"text-align:center;\"> <b>db.createCollection(\"mycollection\", {sharded: true, key: {\"name\": 1}})</b></p>\n",
    "\n",
    "\n",
    "> **Note**: Once this is set up, the **MongoDB** cluster will automatically distribute data across the different shards and handle queries in parallel, providing horizontal scalability and improved performance."
   ]
  },
  {
   "cell_type": "code",
   "execution_count": null,
   "id": "ede72198",
   "metadata": {},
   "outputs": [],
   "source": []
  },
  {
   "cell_type": "code",
   "execution_count": null,
   "id": "69195c67",
   "metadata": {},
   "outputs": [],
   "source": []
  },
  {
   "cell_type": "code",
   "execution_count": null,
   "id": "a71d8446",
   "metadata": {},
   "outputs": [],
   "source": []
  },
  {
   "cell_type": "code",
   "execution_count": null,
   "id": "4e081007",
   "metadata": {},
   "outputs": [],
   "source": []
  },
  {
   "cell_type": "code",
   "execution_count": null,
   "id": "430664eb",
   "metadata": {},
   "outputs": [],
   "source": []
  },
  {
   "cell_type": "code",
   "execution_count": null,
   "id": "7abf17e3",
   "metadata": {},
   "outputs": [],
   "source": []
  },
  {
   "cell_type": "markdown",
   "id": "f333b43f",
   "metadata": {},
   "source": [
    "## MongoDB and backup and recovery:\n",
    "\n",
    "<br/>\n",
    "<img src=\"images/backup.jpg\" height=400px width=400px>\n",
    "<br/>\n",
    "\n",
    "\n",
    "**Backups** are essential for ensuring that data is protected against loss in the event of a disaster or system failure. MongoDB provides several options for backing up data, including on-demand backups, scheduled backups, and continuous backups. Additionally, MongoDB provides various **recovery** options, such as point-in-time recovery and rollback, to ensure that data can be restored in the event of a disaster. This provides peace of mind and helps organizations ensure that their data is safe and secure.\n",
    "\n",
    "\n",
    "**MongoDB** provides several mechanisms to backup and recover data in case of hardware failures or accidental data loss. Some of the ways to perform backup and recovery in MongoDB are:\n",
    "\n",
    "- **mongodump and mongorestore:** These are command-line utilities provided by MongoDB that are used to backup and restore MongoDB databases. `mongodump` creates a binary export of the data in a MongoDB database, while `mongorestore` imports that binary export back into a MongoDB database. Here is an example of using `mongodump` to backup a database named `mydb`: \n",
    "\n",
    "<p style=\"text-align:center;\"><b>mongodump --db mydb</b></p>\n",
    "\n",
    "<br/>\n",
    "\n",
    "And here is an example of using `mongorestore` to restore that `backup`:\n",
    "<br/>\n",
    "<p style=\"text-align:center;\"><b>mongorestore --db mydb dump/mydb</b></p>\n",
    "\n",
    "\n",
    "- **Snapshots:** You can also use hardware snapshots to backup your MongoDB data. This method involves taking a point-in-time snapshot of the data and copying it to a different location. This is often done using tools provided by your cloud provider or storage vendor.\n",
    "<br/>\n",
    "\n",
    "- **Replication:** MongoDB supports replication, which involves maintaining multiple copies of data across multiple servers. In case of hardware failure or data loss, one of the replicas can be promoted to primary and take over the responsibilities of the failed primary.\n",
    "<br/>\n",
    "\n",
    "- **Sharding:** MongoDB also supports sharding, which involves distributing data across multiple servers. In case of hardware failure or data loss, the remaining servers can continue to provide access to the data that was not lost.\n",
    "<br/>\n",
    "\n",
    "\n",
    "Here is an example of using `mongodump` and `mongorestore` to backup and restore a database:\n",
    "\n",
    "**Backup the `mydb` database to a directory called `mydb-backup`**\n",
    "\n",
    "<br/>\n",
    "<p style=\"text-align:center;\"><b>mongodump --db mydb --out mydb backup</b></p>\n",
    "\n",
    "\n",
    "<br/>\n",
    "\n",
    "**Restore the \"mydb\" database from the backup directory**\n",
    "\n",
    "<br/>\n",
    "\n",
    "<br/>\n",
    "<p style=\"text-align:center;\"><b>\n",
    "mongorestore --db mydb mydb-backup/mydb</b></p>\n",
    "\n",
    "\n"
   ]
  },
  {
   "cell_type": "code",
   "execution_count": null,
   "id": "5438045a",
   "metadata": {},
   "outputs": [],
   "source": []
  },
  {
   "cell_type": "code",
   "execution_count": null,
   "id": "4f109dd9",
   "metadata": {},
   "outputs": [],
   "source": []
  },
  {
   "cell_type": "markdown",
   "id": "bdf920cd",
   "metadata": {},
   "source": [
    "## MongoDB interview questions:\n",
    "\n",
    "- What is MongoDB and how is it different from a relational database?\n",
    "- What is a document-oriented database and how does MongoDB store data?\n",
    "- How do you install and start MongoDB?\n",
    "- What are the different data types supported by MongoDB?\n",
    "- What is a collection in MongoDB?\n",
    "- What is sharding and how does it work in MongoDB?\n",
    "- What are indexes in MongoDB and why are they important?\n",
    "- What is the aggregation framework in MongoDB?\n",
    "- How do you create and drop a database in MongoDB?\n",
    "- What is a replica set and how does it work in MongoDB?\n",
    "- How do you perform backup and recovery in MongoDB?\n",
    "- What is the role of the BSON format in MongoDB?\n",
    "- How do you optimize query performance in MongoDB?\n",
    "- How does MongoDB handle transactions?\n",
    "- How do you use MongoDB with Python?"
   ]
  },
  {
   "cell_type": "code",
   "execution_count": null,
   "id": "e30a2047",
   "metadata": {},
   "outputs": [],
   "source": []
  },
  {
   "cell_type": "code",
   "execution_count": null,
   "id": "422deb55",
   "metadata": {},
   "outputs": [],
   "source": []
  },
  {
   "cell_type": "markdown",
   "id": "2b987469",
   "metadata": {},
   "source": [
    "## Industrial applications of MongoDB\n",
    "\n",
    "**MongoDB** has become a popular choice for a wide range of applications across various industries. Here are some examples of industrial applications of MongoDB:\n",
    "\n",
    "- **E-commerce platforms:** MongoDB can be used for building e-commerce platforms for online retail and wholesale stores.\n",
    "<br/>\n",
    "- **Social media platforms:** MongoDB is used for storing and processing social media data such as user profiles, posts, comments, and likes.\n",
    "<br/>\n",
    "\n",
    "- **Content management systems:** MongoDB is used for building content management systems (CMS) that can handle large amounts of unstructured data.\n",
    "<br/>\n",
    "\n",
    "- **Financial services:** MongoDB is used for building financial applications such as trading platforms, portfolio management systems, and fraud detection systems.\n",
    "<br/>\n",
    "\n",
    "- **Healthcare:** MongoDB is used for building healthcare applications such as electronic health record (EHR) systems, patient monitoring systems, and clinical research data management systems.\n",
    "<br/>\n",
    "\n",
    "- **Internet of Things (IoT):** MongoDB is used for building IoT applications such as smart home systems, connected car platforms, and industrial monitoring systems.\n",
    "<br/>\n",
    "\n",
    "- **Gaming:** MongoDB is used for building gaming applications such as online multiplayer games and mobile games.\n",
    "<br/>\n",
    "\n",
    "- **Advertising:** MongoDB is used for building advertising platforms that can handle large amounts of data and provide real-time analytics.\n",
    "<br/>\n",
    "\n",
    "- **Government:** MongoDB is used for building government applications such as citizen services, public safety systems, and open data portals.\n",
    "<br/>\n",
    "\n",
    "- **Education:** MongoDB is used for building education applications such as learning management systems, student information systems, and research data management systems.\n",
    "<br/>\n",
    "\n",
    "- **Energy and utilities:** MongoDB is used for building energy and utilities applications such as smart grid systems, predictive maintenance systems, and asset management systems.\n",
    "<br/>\n",
    "\n",
    "- **Logistics and transportation:** MongoDB is used for building logistics and transportation applications such as real-time tracking systems, fleet management systems, and supply chain management systems.\n",
    "<br/>\n",
    "\n",
    "- **Media and entertainment:** MongoDB is used for building media and entertainment applications such as content distribution platforms, digital asset management systems, and video streaming services.\n",
    "<br/>\n",
    "\n",
    "- **Travel and hospitality:** MongoDB is used for building travel and hospitality applications such as booking engines, travel recommendation systems, and hotel management systems.\n",
    "<br/>\n",
    "\n",
    "- **Retail:** MongoDB is used for building retail applications such as inventory management systems, customer relationship management systems, and point of sale systems.\n",
    "<br/>\n"
   ]
  },
  {
   "cell_type": "code",
   "execution_count": null,
   "id": "37883dd1",
   "metadata": {},
   "outputs": [],
   "source": []
  },
  {
   "cell_type": "code",
   "execution_count": null,
   "id": "8a8bbf56",
   "metadata": {},
   "outputs": [],
   "source": []
  },
  {
   "cell_type": "code",
   "execution_count": null,
   "id": "a4763886",
   "metadata": {},
   "outputs": [],
   "source": []
  },
  {
   "cell_type": "code",
   "execution_count": null,
   "id": "ef90001d",
   "metadata": {},
   "outputs": [],
   "source": []
  },
  {
   "cell_type": "code",
   "execution_count": null,
   "id": "6ccfa78b",
   "metadata": {},
   "outputs": [],
   "source": []
  },
  {
   "cell_type": "code",
   "execution_count": null,
   "id": "fb108530",
   "metadata": {},
   "outputs": [],
   "source": []
  },
  {
   "cell_type": "code",
   "execution_count": null,
   "id": "003e27e7",
   "metadata": {},
   "outputs": [],
   "source": []
  }
 ],
 "metadata": {
  "kernelspec": {
   "display_name": "Python 3 (ipykernel)",
   "language": "python",
   "name": "python3"
  },
  "language_info": {
   "codemirror_mode": {
    "name": "ipython",
    "version": 3
   },
   "file_extension": ".py",
   "mimetype": "text/x-python",
   "name": "python",
   "nbconvert_exporter": "python",
   "pygments_lexer": "ipython3",
   "version": "3.8.10"
  }
 },
 "nbformat": 4,
 "nbformat_minor": 5
}
