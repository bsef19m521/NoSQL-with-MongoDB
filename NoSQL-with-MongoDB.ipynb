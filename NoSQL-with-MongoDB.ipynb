{
 "cells": [
  {
   "cell_type": "markdown",
   "id": "ff5b51ed",
   "metadata": {},
   "source": [
    "<h1 align=\"center\">NoSQL-with-MongoDB</h1>"
   ]
  },
  {
   "cell_type": "code",
   "execution_count": null,
   "id": "9b52e42b",
   "metadata": {},
   "outputs": [],
   "source": []
  },
  {
   "cell_type": "code",
   "execution_count": null,
   "id": "bb4d0962",
   "metadata": {},
   "outputs": [],
   "source": []
  },
  {
   "cell_type": "markdown",
   "id": "e41ad364",
   "metadata": {},
   "source": [
    "### Learning Agenda of Notebook:\n",
    "- Introduction to MongoDB and NoSQL databases\n",
    "- Setting up MongoDB and Python\n",
    "- CRUD Operations\n",
    "- Data Modeling\n",
    "- Indexing and Performance Optimization\n",
    "- Advanced Querying\n",
    "- Aggregation Framework\n",
    "- Working with GridFS\n",
    "- MongoDB and PyMongo library\n",
    "- MongoDB and Cloud Services\n",
    "- Error handling and Debugging\n",
    "- Understanding MongoDB Architecture\n",
    "- MongoDB Atlas and Cloud Integration\n",
    "- MongoDB and data visualization\n",
    "- MongoDB and scalability\n",
    "- MongoDB and backup and recovery"
   ]
  },
  {
   "cell_type": "code",
   "execution_count": null,
   "id": "e7296fff",
   "metadata": {},
   "outputs": [],
   "source": []
  },
  {
   "cell_type": "code",
   "execution_count": null,
   "id": "2b76e956",
   "metadata": {},
   "outputs": [],
   "source": []
  },
  {
   "cell_type": "code",
   "execution_count": null,
   "id": "50168c9d",
   "metadata": {},
   "outputs": [],
   "source": []
  },
  {
   "cell_type": "markdown",
   "id": "9d5b35ef",
   "metadata": {},
   "source": [
    "# Introduction to MongoDB and NoSQL databases\n",
    "\n",
    "\n",
    "## NoSQL Databases\n",
    "\n",
    "- **NoSQL databases** (Not Only SQL) are a type of database that differ from traditional relational databases in the way they store and manage data. Unlike relational databases, which use tables and structured query language (SQL) to store and retrieve data, NoSQL databases use a variety of data models, such as document-oriented, key-value, graph, and column-family, to store and retrieve data.\n",
    "\n",
    "- Here are some **examples** of NoSQL databases:\n",
    "\n",
    "    - **Document-oriented databases:** MongoDB is an example of a document-oriented database. In this type of database, data is stored in the form of documents, which are similar to JSON objects. Each document can have different fields and structures, making it easy to store complex, unstructured data.\n",
    "\n",
    "    - **Key-value databases:** Redis is an example of a key-value database. In this type of database, data is stored as key-value pairs, where the key is a unique identifier and the value is the data being stored. Key-value databases are designed to be fast and scalable and are often used for caching and session management.\n",
    "\n",
    "    - **Graph databases:** Neo4j is an example of a graph database. In this type of database, data is stored in the form of nodes and relationships, making it well-suited for storing data with complex relationships, such as social networks or recommendation systems.\n",
    "\n",
    "    - **Column-family databases:** Apache Cassandra is an example of a column-family database. In this type of database, data is stored in columns rather than rows, making it well-suited for large-scale, distributed systems.\n",
    "\n",
    "\n",
    "> **Note:** NoSQL databases are often preferred over relational databases for certain use cases, such as when dealing with large amounts of unstructured data, when scalability is a concern, or when the data has complex relationships that are difficult to model in a traditional relational database.\n",
    "\n",
    "\n",
    "<img src=\"images/NoSQLDatabases.jpg\" align=\"center\" height=400px width=400px>\n",
    "\n",
    "\n",
    "## What is MongoDB?\n",
    "\n",
    "<img src=\"images/intro_mongodb.jpeg\" align=\"center\" height=400px width=400px>\n",
    "\n",
    "- **MongoDB** is a `document-oriented NoSQL database` that is designed to be scalable and flexible. Unlike traditional relational databases, which store data in tables and use structured query language (SQL) to retrieve data, MongoDB stores data in documents, which are similar to JSON objects.\n",
    "\n",
    "- Here are some **examples** to illustrate how MongoDB works:\n",
    "\n",
    "    - **Storing data in documents:** In MongoDB, data is stored in documents, which are similar to JSON objects. For example, consider a database of books. Each book can be stored as a document with fields for the title, author, ISBN, and so on.\n",
    "    \n",
    "    - **Collections:** Documents are stored in collections, which are similar to tables in relational databases. For example, the books database might have a collection named \"books\" that contains all the books in the database.\n",
    "\n",
    "    - **Querying data:** MongoDB provides a rich query language that allows you to retrieve data based on various criteria. For example, you can retrieve all books written by F. Scott Fitzgerald by using the following query.\n",
    "\n",
    "```\n",
    "{\n",
    "    \"_id\": ObjectId(\"5f22b3e3e3f0b375bc0edc71\"),\n",
    "    \"title\": \"The Great Gatsby\",\n",
    "    \"author\": \"F. Scott Fitzgerald\",\n",
    "    \"ISBN\": \"9780743273565\"\n",
    "}\n",
    "\n",
    "```\n",
    "\n"
   ]
  },
  {
   "cell_type": "code",
   "execution_count": null,
   "id": "7b211441",
   "metadata": {},
   "outputs": [],
   "source": []
  },
  {
   "cell_type": "code",
   "execution_count": null,
   "id": "540abe9b",
   "metadata": {},
   "outputs": [],
   "source": []
  },
  {
   "cell_type": "code",
   "execution_count": null,
   "id": "1bf86d17",
   "metadata": {},
   "outputs": [],
   "source": []
  },
  {
   "cell_type": "code",
   "execution_count": null,
   "id": "baebeb3d",
   "metadata": {},
   "outputs": [],
   "source": []
  },
  {
   "cell_type": "code",
   "execution_count": null,
   "id": "b111a150",
   "metadata": {},
   "outputs": [],
   "source": [
    "!ls "
   ]
  },
  {
   "cell_type": "code",
   "execution_count": null,
   "id": "3dfd66ee",
   "metadata": {},
   "outputs": [],
   "source": []
  },
  {
   "cell_type": "code",
   "execution_count": null,
   "id": "ee2f3806",
   "metadata": {},
   "outputs": [],
   "source": []
  },
  {
   "cell_type": "markdown",
   "id": "3fdd49f0",
   "metadata": {},
   "source": [
    "## Setting up MongoDB and Python\n",
    "\n",
    "<img src=\"images/mongodbvspython.png\" align=\"center\" height=400px width=400px>\n",
    "\n",
    "\n",
    "\n",
    "To set up MongoDB and Python, you need to follow these steps:\n",
    "\n",
    "- **Install MongoDB:** You can download MongoDB from the official [website](https://www.mongodb.com/try/download/community) and install it on your system.\n",
    "\n",
    "\n",
    "- **Install PyMongo**: PyMongo is the Python driver for MongoDB. You can install it using pip: `pip3 install pymongo` , this command is for linux OS.\n",
    "\n",
    "\n",
    "- **Connect to MongoDB:** To connect to MongoDB from Python, you need to create a `MongoClient object`. You can connect to a local MongoDB instance like this:\n",
    "\n",
    "```\n",
    "from pymongo import MongoClient\n",
    "\n",
    "client = MongoClient(\"mongodb://localhost:27017/\")\n",
    "\n",
    "```\n",
    ">**Note:** The **MongoClient object** in PyMongo is used to establish a connection to a MongoDB database. It represents a client-side connection to a MongoDB database and provides a way to interact with the database. With a MongoClient object, you can create and manipulate databases, collections, and documents. In this example, the MongoClient object is connecting to a MongoDB instance running on the same machine as the Python code (localhost) and using the default MongoDB port (27017). Once you have a MongoClient object, you can use it to access and manipulate the databases, collections, and documents in the MongoDB instance.\n",
    "\n",
    "- **Work with databases and collections:** Once you have connected to MongoDB, you can work with databases and collections. To create a database, you can use the `client.db_name` syntax, where `db_name` is the name of the database. To create a collection, you can use the `db.collection_name` syntax, where `collection_name` is the name of the collection. For example, to create a database named `booksdb` and a collection named `books`, you can do the following: \n",
    "\n",
    "\n",
    "```\n",
    "\n",
    "db = client.booksdb\n",
    "books = db.books\n",
    "\n",
    "```\n",
    "\n",
    "- **Insert data into the collection:** To insert data into the collection, you can use the `insert_one` or `insert_many` method. For example, to insert a single book into the collection, you can do the following:\n",
    "\n",
    "```\n",
    "book = {\"title\": \"The Great Gatsby\", \"author\": \"F. Scott Fitzgerald\"}\n",
    "books.insert_one(book)\n",
    "\n",
    "```\n",
    "\n",
    "This will insert the book document into the \"books\" collection in the \"booksdb\" database.\n",
    "\n",
    "\n",
    "\n"
   ]
  },
  {
   "cell_type": "code",
   "execution_count": null,
   "id": "20b2f935",
   "metadata": {},
   "outputs": [],
   "source": []
  },
  {
   "cell_type": "code",
   "execution_count": null,
   "id": "1775983a",
   "metadata": {},
   "outputs": [],
   "source": []
  },
  {
   "cell_type": "markdown",
   "id": "0b6a52e3",
   "metadata": {},
   "source": [
    "## CRUD Operations \n",
    "<img src=\"images/crud.png\" align=\"center\" height=400px width=400px>\n",
    "\n",
    "- **CRUD** stands for `Create`, `Read`, `Update`, and `Delete` and are the basic operations that you perform on data in a database.\n",
    "\n",
    "Here's a brief overview of the CRUD operations in MongoDB using Python's PyMongo library:\n",
    "\n",
    "\n",
    "- **Create (Insert):** To insert a document (record) into a collection `(table)`, you use the `insert_one()` or `insert_many()` method on the collection object. For example:\n"
   ]
  },
  {
   "cell_type": "code",
   "execution_count": 6,
   "id": "80c3bc81",
   "metadata": {},
   "outputs": [
    {
     "data": {
      "text/plain": [
       "<pymongo.results.InsertManyResult at 0x7f469a132d80>"
      ]
     },
     "execution_count": 6,
     "metadata": {},
     "output_type": "execute_result"
    }
   ],
   "source": [
    "from pymongo import MongoClient\n",
    "\n",
    "client = MongoClient(\"mongodb://localhost:27017/\")\n",
    "db = client[\"test_database\"]\n",
    "collection = db[\"test_collection\"]\n",
    "\n",
    "# Insert a single document\n",
    "collection.insert_one({\"name\": \"Ehtisham\", \"age\": 22})\n",
    "\n",
    "# Insert multiple documents\n",
    "docs = [{\"name\": \"Ali\", \"age\": 20}, {\"name\": \"Ayesha\", \"age\": 17}]\n",
    "collection.insert_many(docs)\n"
   ]
  },
  {
   "cell_type": "code",
   "execution_count": null,
   "id": "d56014d0",
   "metadata": {},
   "outputs": [],
   "source": []
  },
  {
   "cell_type": "markdown",
   "id": "08479366",
   "metadata": {},
   "source": [
    "- **Read (Find):** To query for documents in a collection, you use the `find()` method on the collection object. For example:"
   ]
  },
  {
   "cell_type": "code",
   "execution_count": 8,
   "id": "534c7953",
   "metadata": {},
   "outputs": [
    {
     "name": "stdout",
     "output_type": "stream",
     "text": [
      "{'_id': ObjectId('63e48107321747d78e212af5'), 'name': 'Ehtisham', 'age': 22}\n",
      "{'_id': ObjectId('63e48107321747d78e212af6'), 'name': 'Ali', 'age': 20}\n",
      "{'_id': ObjectId('63e48107321747d78e212af7'), 'name': 'Ayesha', 'age': 17}\n",
      "{'_id': ObjectId('63e48107321747d78e212af5'), 'name': 'Ehtisham', 'age': 22}\n"
     ]
    }
   ],
   "source": [
    "# Find all documents\n",
    "docs = collection.find()\n",
    "for doc in docs:\n",
    "    print(doc)\n",
    "\n",
    "# Find documents that match a certain condition\n",
    "docs = collection.find({\"age\": {\"$gt\": 20}})\n",
    "for doc in docs:\n",
    "    print(doc)\n"
   ]
  },
  {
   "cell_type": "code",
   "execution_count": null,
   "id": "f3f3323b",
   "metadata": {},
   "outputs": [],
   "source": []
  },
  {
   "cell_type": "markdown",
   "id": "3d64eed4",
   "metadata": {},
   "source": [
    "- **Update:** To update a document in a collection, you use the `update_one()` or `update_many()` method on the collection object. For example:"
   ]
  },
  {
   "cell_type": "code",
   "execution_count": 11,
   "id": "f53cb017",
   "metadata": {},
   "outputs": [
    {
     "data": {
      "text/plain": [
       "<pymongo.results.UpdateResult at 0x7f469a731200>"
      ]
     },
     "execution_count": 11,
     "metadata": {},
     "output_type": "execute_result"
    }
   ],
   "source": [
    "# Update a single document\n",
    "collection.update_one({\"name\": \"Ehtisham\"}, {\"$set\": {\"age\": 21}})\n",
    "\n",
    "# Update multiple documents\n",
    "collection.update_many({\"age\": {\"$lt\": 20}}, {\"$inc\": {\"age\": 1}})\n"
   ]
  },
  {
   "cell_type": "code",
   "execution_count": 12,
   "id": "86dc69d9",
   "metadata": {},
   "outputs": [
    {
     "name": "stdout",
     "output_type": "stream",
     "text": [
      "{'_id': ObjectId('63e48107321747d78e212af5'), 'name': 'Ehtisham', 'age': 21}\n",
      "{'_id': ObjectId('63e48107321747d78e212af6'), 'name': 'Ali', 'age': 21}\n",
      "{'_id': ObjectId('63e48107321747d78e212af7'), 'name': 'Ayesha', 'age': 19}\n"
     ]
    }
   ],
   "source": [
    "# Find all documents\n",
    "docs = collection.find()\n",
    "for doc in docs:\n",
    "    print(doc)\n"
   ]
  },
  {
   "cell_type": "code",
   "execution_count": null,
   "id": "2fa0529e",
   "metadata": {},
   "outputs": [],
   "source": []
  },
  {
   "cell_type": "markdown",
   "id": "2b4914e3",
   "metadata": {},
   "source": [
    "- **Delete:** To delete a document from a collection, you use the `delete_one()` or `delete_many()` method on the collection object. For example:"
   ]
  },
  {
   "cell_type": "code",
   "execution_count": 13,
   "id": "929007ff",
   "metadata": {},
   "outputs": [
    {
     "data": {
      "text/plain": [
       "<pymongo.results.DeleteResult at 0x7f469ae19500>"
      ]
     },
     "execution_count": 13,
     "metadata": {},
     "output_type": "execute_result"
    }
   ],
   "source": [
    "# Delete a single document\n",
    "collection.delete_one({\"name\": \"Ehtisham\"})\n",
    "\n",
    "# Delete multiple documents\n",
    "collection.delete_many({\"age\": {\"$gt\": 20}})\n"
   ]
  },
  {
   "cell_type": "code",
   "execution_count": 14,
   "id": "045c68d8",
   "metadata": {},
   "outputs": [
    {
     "name": "stdout",
     "output_type": "stream",
     "text": [
      "{'_id': ObjectId('63e48107321747d78e212af7'), 'name': 'Ayesha', 'age': 19}\n"
     ]
    }
   ],
   "source": [
    "# Find all documents\n",
    "docs = collection.find()\n",
    "for doc in docs:\n",
    "    print(doc)\n"
   ]
  },
  {
   "cell_type": "code",
   "execution_count": null,
   "id": "9c4388a9",
   "metadata": {},
   "outputs": [],
   "source": []
  },
  {
   "cell_type": "code",
   "execution_count": null,
   "id": "defd0887",
   "metadata": {},
   "outputs": [],
   "source": []
  },
  {
   "cell_type": "code",
   "execution_count": null,
   "id": "8d674d4e",
   "metadata": {},
   "outputs": [],
   "source": []
  },
  {
   "cell_type": "code",
   "execution_count": null,
   "id": "22535cf6",
   "metadata": {},
   "outputs": [],
   "source": []
  },
  {
   "cell_type": "code",
   "execution_count": null,
   "id": "2a9bb567",
   "metadata": {},
   "outputs": [],
   "source": []
  },
  {
   "cell_type": "code",
   "execution_count": null,
   "id": "41ec74a1",
   "metadata": {},
   "outputs": [],
   "source": []
  },
  {
   "cell_type": "markdown",
   "id": "20190f45",
   "metadata": {},
   "source": [
    "## Data Modeling\n",
    "\n",
    "<img src=\"images/data_model.jpg\" align=\"right\" height=500px width=500px>\n",
    "\n",
    "- **Data modeling** in MongoDB is the process of designing and organizing data in a way that is optimized for the MongoDB document-oriented data model. It involves creating a schema that defines the structure, relationships, and constraints of the data, and using that schema to create collections and documents. The goal of data modeling in MongoDB is to ensure that the data is stored in a way that is efficient, flexible, and consistent with the requirements of the application.\n",
    "\n",
    "- **Data modeling** in MongoDB is different from data modeling in relational databases because MongoDB is a document-oriented database and it stores data in BSON format (binary JSON) in the form of documents, and collections rather than tables.\n",
    "\n",
    "- MongoDB also provides a more flexible data model, which allows for more dynamic and unstructured data, and it also support horizontal scaling, which allows for better performance and scalability.\n",
    "\n",
    "\n",
    "#### Another Definition\n",
    "\n",
    "- **Data modeling** in MongoDB refers to the process of defining the structure of your data, including the relationships between different collections, documents, and fields. This structure is important for ensuring that your data is stored and retrieved efficiently, and for making it easy to access and manipulate the data in your applications.\n",
    "\n",
    "\n",
    "\n",
    "### Example\n",
    "\n",
    "Here's a simple example to give you an idea of how data modeling works in MongoDB:\n",
    "\n",
    "**Let's say you have a collection of blog posts, and each post has an author, a title, a body, and a list of comments. To model this data in MongoDB, you might define two collections: one for posts and one for comments.**\n",
    "\n",
    "Here's what the posts collection might look like:"
   ]
  },
  {
   "cell_type": "code",
   "execution_count": null,
   "id": "b1e73900",
   "metadata": {},
   "outputs": [],
   "source": [
    "{\n",
    "    \"_id\": ObjectId(\"5f3ab0fa7ef2d01234567890\"),\n",
    "    \"author\": \"Ehtisham\",\n",
    "    \"title\": \"My first post\",\n",
    "    \"body\": \"I love my country.\",\n",
    "    \"comments\": [\n",
    "        ObjectId(\"5f3ab0fa7ef2d01234567891\"),\n",
    "        ObjectId(\"5f3ab0fa7ef2d01234567892\"),\n",
    "        ...\n",
    "    ]\n",
    "}\n"
   ]
  },
  {
   "cell_type": "markdown",
   "id": "f4d2982a",
   "metadata": {},
   "source": [
    "And here's what the **comments** collection might look like:\n",
    "\n"
   ]
  },
  {
   "cell_type": "code",
   "execution_count": null,
   "id": "b9243af5",
   "metadata": {},
   "outputs": [],
   "source": [
    "{\n",
    "    \"_id\": ObjectId(\"5f3ab0fa7ef2d01234567891\"),\n",
    "    \"post_id\": ObjectId(\"5f3ab0fa7ef2d01234567890\"),\n",
    "    \"author\": \"Ehtisham\",\n",
    "    \"text\": \"This is a great post!\"\n",
    "}\n"
   ]
  },
  {
   "cell_type": "markdown",
   "id": "b8496f4c",
   "metadata": {},
   "source": [
    "- In this example, each post document has an `_id` field that is unique to that document and serves as `its primary key`. The comments field is an array of references to comment documents, which are stored in the separate comments collection. The comments collection also has a `post_id` field, which links each comment to the post it belongs to.\n",
    "\n",
    "- This is just one simple example of data modeling in MongoDB. In a real-world application, your data structures may be much more complex, with multiple levels of nested documents, arrays, and references to other collections. \n",
    "\n",
    "> **Note:** The key is to think carefully about the structure of your data and to define the relationships between collections, documents, and fields in a way that makes sense for your specific use case."
   ]
  },
  {
   "cell_type": "code",
   "execution_count": null,
   "id": "734714ed",
   "metadata": {},
   "outputs": [],
   "source": []
  },
  {
   "cell_type": "markdown",
   "id": "80e85010",
   "metadata": {},
   "source": [
    "## Indexing and Performance Optimization\n",
    "<img src=\"images/indexing.png\" height=500px width=500px>\n",
    "\n",
    "**Indexing** is a crucial aspect of performance optimization in MongoDB. It allows the database to quickly find the relevant documents based on the specified criteria, improving query performance. Some of the key points about indexing in MongoDB are:\n",
    "\n",
    "- Indexing in MongoDB is done at the field level.\n",
    "\n",
    "- MongoDB supports multiple types of indexes, including single-field, compound, geospatial, text, and hashed indexes.\n",
    "- By default, MongoDB creates a unique index on the `_id` field.\n",
    "\n",
    "- To create an index, you can use the `createIndex()` method in the MongoDB shell or via the MongoDB driver in your programming language.\n",
    "\n",
    "- When you run a query, MongoDB uses the most appropriate index to match the query conditions. You can use the `explain()` method to see which index MongoDB has selected.\n",
    "\n",
    "- Indexes can improve query performance, but they also have some overhead in terms of disk space and write operations. Therefore, it's important to choose your indexes carefully.\n",
    "\n",
    "- To optimize performance, you can use indexing techniques such as compound indexes, partial indexes, and multikey indexes.\n",
    "\n",
    "\n",
    "> **Note:** Indexing is an important aspect of performance optimization in MongoDB. It enables the database to efficiently find the relevant data and improve query performance. Careful consideration of which indexes to create and how to use them can significantly improve the performance of your MongoDB-based applications"
   ]
  },
  {
   "cell_type": "code",
   "execution_count": null,
   "id": "373909f1",
   "metadata": {},
   "outputs": [],
   "source": []
  },
  {
   "cell_type": "code",
   "execution_count": null,
   "id": "5e231f65",
   "metadata": {},
   "outputs": [],
   "source": []
  },
  {
   "cell_type": "code",
   "execution_count": null,
   "id": "895a5faf",
   "metadata": {},
   "outputs": [],
   "source": []
  },
  {
   "cell_type": "markdown",
   "id": "88fe28a6",
   "metadata": {},
   "source": [
    "## MongoDB and PyMongo library\n",
    "<img src=\"images/pymongo.jpg\" height=400px width=400px>"
   ]
  },
  {
   "cell_type": "code",
   "execution_count": null,
   "id": "4fd3ac9d",
   "metadata": {},
   "outputs": [],
   "source": []
  },
  {
   "cell_type": "code",
   "execution_count": null,
   "id": "ee10c914",
   "metadata": {},
   "outputs": [],
   "source": []
  },
  {
   "cell_type": "code",
   "execution_count": null,
   "id": "48a20dc8",
   "metadata": {},
   "outputs": [],
   "source": []
  },
  {
   "cell_type": "code",
   "execution_count": null,
   "id": "3c0ec1f1",
   "metadata": {},
   "outputs": [],
   "source": []
  },
  {
   "cell_type": "markdown",
   "id": "b4e37f0a",
   "metadata": {},
   "source": [
    "## Understanding of MongoDB architecture\n",
    "\n",
    "<img src=\"images/MongoDB-Architecture.png\" height=500px width=500px>\n",
    "\n",
    "MongoDB architecture refers to the components and design of a MongoDB database system. It includes the following key components:\n",
    "\n",
    "- **MongoDB Server:** This is the main component of MongoDB architecture, responsible for handling client requests, managing data storage, and executing queries.\n",
    "\n",
    "- **Replication:** Replication is a key aspect of MongoDB architecture, providing high availability and data durability. MongoDB uses a replication mechanism known as replica sets, where data is replicated across multiple servers for redundancy.\n",
    "\n",
    "- **Sharding:** Sharding is the process of dividing data across multiple servers to distribute load and improve performance. MongoDB uses a sharding mechanism known as sharded clusters, where data is divided into smaller chunks called shards and distributed across multiple servers.\n",
    "\n",
    "- **Database:** A MongoDB database is a collection of related data stored together in a single unit. Databases are made up of collections, which are equivalent to tables in a relational database.\n",
    "\n",
    "- **Collection:** A collection is a group of related documents stored together in a single unit. Documents in a collection are equivalent to rows in a table in a relational database.\n",
    "\n",
    "- **Document:** A document is a single unit of data stored in a collection. It is a JSON-like structure, containing one or more key-value pairs.\n",
    "\n",
    "\n",
    "\n",
    "> **Note:** Understanding MongoDB architecture is important for ensuring that your database is designed and optimized for your specific use case. It helps you make informed decisions about things like data modeling, replication, and sharding, and ensures that your database is scalable, reliable, and efficient."
   ]
  },
  {
   "cell_type": "markdown",
   "id": "14c41a57",
   "metadata": {},
   "source": []
  },
  {
   "cell_type": "code",
   "execution_count": null,
   "id": "e678f3ba",
   "metadata": {},
   "outputs": [],
   "source": []
  },
  {
   "cell_type": "code",
   "execution_count": null,
   "id": "6f5b3385",
   "metadata": {},
   "outputs": [],
   "source": []
  },
  {
   "cell_type": "code",
   "execution_count": null,
   "id": "b0c2a52e",
   "metadata": {},
   "outputs": [],
   "source": []
  },
  {
   "cell_type": "code",
   "execution_count": null,
   "id": "41cca38a",
   "metadata": {},
   "outputs": [],
   "source": []
  },
  {
   "cell_type": "code",
   "execution_count": null,
   "id": "139ea4dc",
   "metadata": {},
   "outputs": [],
   "source": []
  },
  {
   "cell_type": "code",
   "execution_count": null,
   "id": "8853c1b2",
   "metadata": {},
   "outputs": [],
   "source": []
  },
  {
   "cell_type": "code",
   "execution_count": null,
   "id": "f2c757ff",
   "metadata": {},
   "outputs": [],
   "source": []
  },
  {
   "cell_type": "code",
   "execution_count": null,
   "id": "5899bcbd",
   "metadata": {},
   "outputs": [],
   "source": []
  },
  {
   "cell_type": "code",
   "execution_count": null,
   "id": "437f064b",
   "metadata": {},
   "outputs": [],
   "source": []
  },
  {
   "cell_type": "markdown",
   "id": "64ec11f1",
   "metadata": {},
   "source": [
    "## MongoDB Atlas and Cloud Integration:\n",
    "\n",
    "**MongoDB Atlas and Cloud Integration:** MongoDB Atlas is a fully managed cloud database service provided by MongoDB Inc. It allows developers to easily deploy, run and manage MongoDB databases in the cloud. MongoDB Atlas integrates with popular cloud providers such as Amazon Web Services (AWS), Microsoft Azure, and Google Cloud Platform (GCP), providing seamless deployment and scalability options."
   ]
  },
  {
   "cell_type": "code",
   "execution_count": null,
   "id": "c44bc777",
   "metadata": {},
   "outputs": [],
   "source": []
  },
  {
   "cell_type": "code",
   "execution_count": null,
   "id": "6cc1a273",
   "metadata": {},
   "outputs": [],
   "source": []
  },
  {
   "cell_type": "code",
   "execution_count": null,
   "id": "61b246f5",
   "metadata": {},
   "outputs": [],
   "source": []
  },
  {
   "cell_type": "markdown",
   "id": "45251a10",
   "metadata": {},
   "source": [
    "## MongoDB and data visualization:\n",
    "    \n",
    "**Data visualization** is the process of converting raw data into visual representations such as graphs, charts, and dashboards. MongoDB can be used in combination with various data visualization tools to create rich visual representations of data. Some popular tools include `Tableau`, `PowerBI`, and `D3.js`. This allows organizations to easily extract insights from their data and make data-driven decisions.\n"
   ]
  },
  {
   "cell_type": "code",
   "execution_count": null,
   "id": "7002d687",
   "metadata": {},
   "outputs": [],
   "source": []
  },
  {
   "cell_type": "code",
   "execution_count": null,
   "id": "b1325cf9",
   "metadata": {},
   "outputs": [],
   "source": []
  },
  {
   "cell_type": "code",
   "execution_count": null,
   "id": "152b4277",
   "metadata": {},
   "outputs": [],
   "source": []
  },
  {
   "cell_type": "code",
   "execution_count": null,
   "id": "8b612266",
   "metadata": {},
   "outputs": [],
   "source": []
  },
  {
   "cell_type": "markdown",
   "id": "0bf0f65a",
   "metadata": {},
   "source": [
    "## MongoDB and scalability:\n",
    "\n",
    "<br/>\n",
    "<img src=\"images/scaling.avif\">\n",
    "<br/>\n",
    "\n",
    "MongoDB is designed to be scalable, allowing organizations to easily handle increasing amounts of data and increasing numbers of users. MongoDB supports horizontal scalability through sharding, which allows data to be split across multiple servers. This makes it possible to handle large amounts of data and high levels of traffic, ensuring that the database remains fast and responsive.\n",
    "\n",
    "There are several strategies for achieving scalability in MongoDB, including:\n",
    "\n",
    "- **Sharding:** This involves distributing data across multiple servers or clusters, based on a shard key. Each shard contains a subset of the data and can be scaled independently.\n",
    "\n",
    "- **Replication:** This involves creating multiple copies of your data across multiple servers, which improves availability and provides fault tolerance.\n",
    "\n",
    "- **Load balancing:** This involves distributing requests across multiple servers to ensure that each server is utilized evenly.\n",
    "<br/>\n",
    "<br/>\n",
    "\n",
    "### Example\n",
    "<br/>\n",
    "\n",
    "Let's say we have a MongoDB database containing **customer** data for an online retailer. As the retailer grows, the amount of customer data increases, which could result in slower queries and decreased performance. In order to maintain high performance, we could add more servers to our MongoDB cluster to handle the increased load.\n",
    "<br/>\n",
    "\n",
    "\n",
    "\n",
    "Here is an example of how to set up a sharded MongoDB cluster for scalability:\n",
    "\n",
    "- Start by setting up a configuration server, which keeps track of the cluster's metadata and configuration.\n",
    "\n",
    "<p style=\"text-align:center;\"> <b>mongod --configsvr --dbpath /data/configdb --port 27019 </b></p>\n",
    "<br/>\n",
    "\n",
    "-     Next, start each shard server.\n",
    "\n",
    "<p style=\"text-align:center;\"> <b> mongod --shardsvr --replSet shard1 --dbpath /data/shard1 --port 27018</b></p>\n",
    "\n",
    "<p style=\"text-align:center;\"> <b>mongod --shardsvr --replSet shard2 --dbpath /data/shard2 --port 27019</b></p>\n",
    "\n",
    "<br/>\n",
    "\n",
    "\n",
    "-     Initialize the replica set for each shard.\n",
    "\n",
    "<p style=\"text-align:center;\"> <b>mongo --port 27018    </b></p>\n",
    "<p style=\"text-align:center;\"> <b>rs.initiate()</b></p>\n",
    "\n",
    "<br/>\n",
    "\n",
    "\n",
    "-     Add each shard to the cluster.\n",
    "\n",
    "<p style=\"text-align:center;\"> <b>mongo --port 27017   </b></p>\n",
    "<p style=\"text-align:center;\"> <b>sh.addShard(\"shard1/localhost:27018\")</b></p>\n",
    "<p style=\"text-align:center;\"> <b>sh.addShard(\"shard1/localhost:27019\")</b></p>\n",
    "\n",
    "<br/>\n",
    "\n",
    "- Create a sharded collection by defining a shard key and enabling sharding for the database.\n",
    "\n",
    "<p style=\"text-align:center;\"> <b>mongo --port 27017   </b></p>\n",
    "<p style=\"text-align:center;\"> <b>use mydb</b></p>\n",
    "<p style=\"text-align:center;\"> <b>sh.enableSharding(\"mydb\")</b></p>\n",
    "\n",
    "<p style=\"text-align:center;\"> <b>db.createCollection(\"mycollection\", {sharded: true, key: {\"name\": 1}})</b></p>\n",
    "\n",
    "\n",
    "> **Note**: Once this is set up, the **MongoDB** cluster will automatically distribute data across the different shards and handle queries in parallel, providing horizontal scalability and improved performance."
   ]
  },
  {
   "cell_type": "code",
   "execution_count": null,
   "id": "ede72198",
   "metadata": {},
   "outputs": [],
   "source": []
  },
  {
   "cell_type": "code",
   "execution_count": null,
   "id": "69195c67",
   "metadata": {},
   "outputs": [],
   "source": []
  },
  {
   "cell_type": "code",
   "execution_count": null,
   "id": "a71d8446",
   "metadata": {},
   "outputs": [],
   "source": []
  },
  {
   "cell_type": "code",
   "execution_count": null,
   "id": "4e081007",
   "metadata": {},
   "outputs": [],
   "source": []
  },
  {
   "cell_type": "code",
   "execution_count": null,
   "id": "430664eb",
   "metadata": {},
   "outputs": [],
   "source": []
  },
  {
   "cell_type": "code",
   "execution_count": null,
   "id": "7abf17e3",
   "metadata": {},
   "outputs": [],
   "source": []
  },
  {
   "cell_type": "markdown",
   "id": "f333b43f",
   "metadata": {},
   "source": [
    "## MongoDB and backup and recovery:\n",
    "\n",
    "<br/>\n",
    "<img src=\"images/backup.jpg\" height=400px width=400px>\n",
    "<br/>\n",
    "\n",
    "\n",
    "**Backups** are essential for ensuring that data is protected against loss in the event of a disaster or system failure. MongoDB provides several options for backing up data, including on-demand backups, scheduled backups, and continuous backups. Additionally, MongoDB provides various **recovery** options, such as point-in-time recovery and rollback, to ensure that data can be restored in the event of a disaster. This provides peace of mind and helps organizations ensure that their data is safe and secure.\n",
    "\n",
    "\n",
    "**MongoDB** provides several mechanisms to backup and recover data in case of hardware failures or accidental data loss. Some of the ways to perform backup and recovery in MongoDB are:\n",
    "\n",
    "- **mongodump and mongorestore:** These are command-line utilities provided by MongoDB that are used to backup and restore MongoDB databases. `mongodump` creates a binary export of the data in a MongoDB database, while `mongorestore` imports that binary export back into a MongoDB database. Here is an example of using `mongodump` to backup a database named `mydb`: \n",
    "\n",
    "<p style=\"text-align:center;\"><b>mongodump --db mydb</b></p>\n",
    "\n",
    "<br/>\n",
    "\n",
    "And here is an example of using `mongorestore` to restore that `backup`:\n",
    "<br/>\n",
    "<p style=\"text-align:center;\"><b>mongorestore --db mydb dump/mydb</b></p>\n",
    "\n",
    "\n",
    "- **Snapshots:** You can also use hardware snapshots to backup your MongoDB data. This method involves taking a point-in-time snapshot of the data and copying it to a different location. This is often done using tools provided by your cloud provider or storage vendor.\n",
    "<br/>\n",
    "\n",
    "- **Replication:** MongoDB supports replication, which involves maintaining multiple copies of data across multiple servers. In case of hardware failure or data loss, one of the replicas can be promoted to primary and take over the responsibilities of the failed primary.\n",
    "<br/>\n",
    "\n",
    "- **Sharding:** MongoDB also supports sharding, which involves distributing data across multiple servers. In case of hardware failure or data loss, the remaining servers can continue to provide access to the data that was not lost.\n",
    "<br/>\n",
    "\n",
    "\n",
    "Here is an example of using `mongodump` and `mongorestore` to backup and restore a database:\n",
    "\n",
    "**Backup the `mydb` database to a directory called `mydb-backup`**\n",
    "\n",
    "<br/>\n",
    "<p style=\"text-align:center;\"><b>mongodump --db mydb --out mydb backup</b></p>\n",
    "\n",
    "\n",
    "<br/>\n",
    "\n",
    "**Restore the \"mydb\" database from the backup directory**\n",
    "\n",
    "<br/>\n",
    "\n",
    "<br/>\n",
    "<p style=\"text-align:center;\"><b>\n",
    "mongorestore --db mydb mydb-backup/mydb</b></p>\n",
    "\n",
    "\n"
   ]
  },
  {
   "cell_type": "code",
   "execution_count": null,
   "id": "5438045a",
   "metadata": {},
   "outputs": [],
   "source": []
  },
  {
   "cell_type": "code",
   "execution_count": null,
   "id": "4f109dd9",
   "metadata": {},
   "outputs": [],
   "source": []
  },
  {
   "cell_type": "markdown",
   "id": "bdf920cd",
   "metadata": {},
   "source": [
    "## MongoDB interview questions:\n",
    "\n",
    "- What is MongoDB and how is it different from a relational database?\n",
    "- What is a document-oriented database and how does MongoDB store data?\n",
    "- How do you install and start MongoDB?\n",
    "- What are the different data types supported by MongoDB?\n",
    "- What is a collection in MongoDB?\n",
    "- What is sharding and how does it work in MongoDB?\n",
    "- What are indexes in MongoDB and why are they important?\n",
    "- What is the aggregation framework in MongoDB?\n",
    "- How do you create and drop a database in MongoDB?\n",
    "- What is a replica set and how does it work in MongoDB?\n",
    "- How do you perform backup and recovery in MongoDB?\n",
    "- What is the role of the BSON format in MongoDB?\n",
    "- How do you optimize query performance in MongoDB?\n",
    "- How does MongoDB handle transactions?\n",
    "- How do you use MongoDB with Python?"
   ]
  },
  {
   "cell_type": "code",
   "execution_count": null,
   "id": "e30a2047",
   "metadata": {},
   "outputs": [],
   "source": []
  },
  {
   "cell_type": "code",
   "execution_count": null,
   "id": "422deb55",
   "metadata": {},
   "outputs": [],
   "source": []
  },
  {
   "cell_type": "markdown",
   "id": "2b987469",
   "metadata": {},
   "source": [
    "## Industrial applications of MongoDB\n",
    "\n",
    "**MongoDB** has become a popular choice for a wide range of applications across various industries. Here are some examples of industrial applications of MongoDB:\n",
    "\n",
    "- **E-commerce platforms:** MongoDB can be used for building e-commerce platforms for online retail and wholesale stores.\n",
    "<br/>\n",
    "- **Social media platforms:** MongoDB is used for storing and processing social media data such as user profiles, posts, comments, and likes.\n",
    "<br/>\n",
    "\n",
    "- **Content management systems:** MongoDB is used for building content management systems (CMS) that can handle large amounts of unstructured data.\n",
    "<br/>\n",
    "\n",
    "- **Financial services:** MongoDB is used for building financial applications such as trading platforms, portfolio management systems, and fraud detection systems.\n",
    "<br/>\n",
    "\n",
    "- **Healthcare:** MongoDB is used for building healthcare applications such as electronic health record (EHR) systems, patient monitoring systems, and clinical research data management systems.\n",
    "<br/>\n",
    "\n",
    "- **Internet of Things (IoT):** MongoDB is used for building IoT applications such as smart home systems, connected car platforms, and industrial monitoring systems.\n",
    "<br/>\n",
    "\n",
    "- **Gaming:** MongoDB is used for building gaming applications such as online multiplayer games and mobile games.\n",
    "<br/>\n",
    "\n",
    "- **Advertising:** MongoDB is used for building advertising platforms that can handle large amounts of data and provide real-time analytics.\n",
    "<br/>\n",
    "\n",
    "- **Government:** MongoDB is used for building government applications such as citizen services, public safety systems, and open data portals.\n",
    "<br/>\n",
    "\n",
    "- **Education:** MongoDB is used for building education applications such as learning management systems, student information systems, and research data management systems.\n",
    "<br/>\n",
    "\n",
    "- **Energy and utilities:** MongoDB is used for building energy and utilities applications such as smart grid systems, predictive maintenance systems, and asset management systems.\n",
    "<br/>\n",
    "\n",
    "- **Logistics and transportation:** MongoDB is used for building logistics and transportation applications such as real-time tracking systems, fleet management systems, and supply chain management systems.\n",
    "<br/>\n",
    "\n",
    "- **Media and entertainment:** MongoDB is used for building media and entertainment applications such as content distribution platforms, digital asset management systems, and video streaming services.\n",
    "<br/>\n",
    "\n",
    "- **Travel and hospitality:** MongoDB is used for building travel and hospitality applications such as booking engines, travel recommendation systems, and hotel management systems.\n",
    "<br/>\n",
    "\n",
    "- **Retail:** MongoDB is used for building retail applications such as inventory management systems, customer relationship management systems, and point of sale systems.\n",
    "<br/>\n"
   ]
  },
  {
   "cell_type": "code",
   "execution_count": null,
   "id": "37883dd1",
   "metadata": {},
   "outputs": [],
   "source": []
  },
  {
   "cell_type": "code",
   "execution_count": null,
   "id": "8a8bbf56",
   "metadata": {},
   "outputs": [],
   "source": []
  },
  {
   "cell_type": "code",
   "execution_count": null,
   "id": "a4763886",
   "metadata": {},
   "outputs": [],
   "source": []
  },
  {
   "cell_type": "code",
   "execution_count": null,
   "id": "ef90001d",
   "metadata": {},
   "outputs": [],
   "source": []
  },
  {
   "cell_type": "code",
   "execution_count": null,
   "id": "6ccfa78b",
   "metadata": {},
   "outputs": [],
   "source": []
  },
  {
   "cell_type": "code",
   "execution_count": null,
   "id": "fb108530",
   "metadata": {},
   "outputs": [],
   "source": []
  },
  {
   "cell_type": "code",
   "execution_count": 16,
   "id": "48bc520d",
   "metadata": {},
   "outputs": [
    {
     "data": {
      "text/plain": [
       "['E', 'S', 'a', 'a', 'd', 'h', 'h', 'i', 'i', 'm', 'q', 's', 't']"
      ]
     },
     "execution_count": 16,
     "metadata": {},
     "output_type": "execute_result"
    }
   ],
   "source": [
    "string=\"Ehtisham Sadiq\"\n",
    "string = string.replace(\" \",\"\")\n",
    "sorted(string)"
   ]
  },
  {
   "cell_type": "code",
   "execution_count": 20,
   "id": "d451d233",
   "metadata": {},
   "outputs": [
    {
     "name": "stdout",
     "output_type": "stream",
     "text": [
      "Strings are not Anagram\n"
     ]
    }
   ],
   "source": [
    "# check if two strings are anagram or not?\n",
    "\n",
    "# anagram means both have same number of characters but into different order\n",
    "\n",
    "def check_anagram(str1, str2):\n",
    "    str1 = str1.replace(\" \",'')\n",
    "    str2 = str2.replace(\" \",'')\n",
    "    return sorted(str1) == sorted(str2)\n",
    "\n",
    "str1 = \"rats\"\n",
    "str2 = \"starb\"\n",
    "\n",
    "if check_anagram(str1, str2):\n",
    "    print(\"Both string are Anagram\")\n",
    "else:\n",
    "    print(\"Strings are not Anagram\")"
   ]
  },
  {
   "cell_type": "code",
   "execution_count": null,
   "id": "1bfc4d7a",
   "metadata": {},
   "outputs": [],
   "source": []
  },
  {
   "cell_type": "code",
   "execution_count": null,
   "id": "82792c52",
   "metadata": {},
   "outputs": [],
   "source": []
  },
  {
   "cell_type": "code",
   "execution_count": null,
   "id": "2fcc67ff",
   "metadata": {},
   "outputs": [],
   "source": []
  },
  {
   "cell_type": "code",
   "execution_count": null,
   "id": "c2a718b9",
   "metadata": {},
   "outputs": [],
   "source": []
  },
  {
   "cell_type": "code",
   "execution_count": null,
   "id": "7c5d0b38",
   "metadata": {},
   "outputs": [],
   "source": []
  },
  {
   "cell_type": "code",
   "execution_count": 42,
   "id": "f1949f63",
   "metadata": {},
   "outputs": [],
   "source": [
    "# Reverse a Linked List using recursive method\n",
    "\n",
    "# create a node class to create a new node\n",
    "\n",
    "class Node:\n",
    "    def __init__(self, data):\n",
    "        self.data = data\n",
    "        self.next = None\n",
    "\n",
    "    \n",
    "class LinkedList:\n",
    "    def __init__(self):\n",
    "        self.head=None\n",
    "        \n",
    "    def push(self,data):\n",
    "        new_node = Node(data)\n",
    "        new_node.next = self.head\n",
    "        self.head = new_node\n",
    "        \n",
    "    def print_list(self, node):\n",
    "        if node is None:\n",
    "            return \n",
    "        print(node.data, end=\" \")\n",
    "        self.print_list(node.next)\n",
    "    \n",
    "    def reverse_list(self, node):\n",
    "        if node is None:\n",
    "            return \n",
    "        self.reverse_list(node.next)\n",
    "        print(node.data, end=\" \")"
   ]
  },
  {
   "cell_type": "code",
   "execution_count": 43,
   "id": "8ea0620f",
   "metadata": {},
   "outputs": [
    {
     "name": "stdout",
     "output_type": "stream",
     "text": [
      "4 34 13 9 3 "
     ]
    }
   ],
   "source": [
    "list1 = LinkedList()\n",
    "list1.push(3)\n",
    "list1.push(9)\n",
    "list1.push(13)\n",
    "list1.push(34)\n",
    "list1.push(4)\n",
    "list1.print_list(list1.head)\n",
    "list1.reverse_list(list1.head)\n"
   ]
  },
  {
   "cell_type": "code",
   "execution_count": 44,
   "id": "ccbc5e19",
   "metadata": {},
   "outputs": [],
   "source": [
    "def left_rotate(arr, steps):\n",
    "    n = len(arr)\n",
    "    steps %= n  # To handle the case when steps is greater than n\n",
    "    \n",
    "    # Slice the array and concatenate it to itself\n",
    "    return arr[steps:] + arr[:steps]\n"
   ]
  },
  {
   "cell_type": "code",
   "execution_count": 48,
   "id": "90781e12",
   "metadata": {},
   "outputs": [
    {
     "data": {
      "text/plain": [
       "[4, 34, 13, 9, 3]"
      ]
     },
     "execution_count": 48,
     "metadata": {},
     "output_type": "execute_result"
    }
   ],
   "source": [
    "arr1 =[4, 34, 13, 9, 3] \n",
    "left_rotate(arr1, 5)"
   ]
  },
  {
   "cell_type": "code",
   "execution_count": 54,
   "id": "01bb58c3",
   "metadata": {},
   "outputs": [],
   "source": [
    "# when step is greater than array size how we can deal it\n",
    "\n",
    "def left_rotate(arr, steps):\n",
    "    size = len(arr)\n",
    "    steps = steps%size\n",
    "    return arr[steps:] + arr[:steps]"
   ]
  },
  {
   "cell_type": "code",
   "execution_count": 55,
   "id": "7bfccf2e",
   "metadata": {},
   "outputs": [
    {
     "data": {
      "text/plain": [
       "[13, 9, 3, 4, 34]"
      ]
     },
     "execution_count": 55,
     "metadata": {},
     "output_type": "execute_result"
    }
   ],
   "source": [
    "left_rotate(arr1,2)"
   ]
  },
  {
   "cell_type": "code",
   "execution_count": 56,
   "id": "fc719a0c",
   "metadata": {},
   "outputs": [],
   "source": [
    "def first_non_repeating_char(s):\n",
    "    char_freq = {}\n",
    "    for char in s:\n",
    "        if char in char_freq:\n",
    "            char_freq[char] = char_freq[char] +1\n",
    "        else:\n",
    "            char_freq[char] = 1\n",
    "            \n",
    "            \n",
    "    for char in s:\n",
    "        if char_freq[char]==1:\n",
    "            return char\n",
    "    return None"
   ]
  },
  {
   "cell_type": "code",
   "execution_count": 58,
   "id": "789a4276",
   "metadata": {},
   "outputs": [
    {
     "name": "stdout",
     "output_type": "stream",
     "text": [
      "a\n"
     ]
    }
   ],
   "source": [
    "s = 'abbcde'\n",
    "result = first_non_repeating_char(s)\n",
    "print(result)  # Output: 'c'\n"
   ]
  },
  {
   "cell_type": "code",
   "execution_count": 64,
   "id": "f79427c6",
   "metadata": {},
   "outputs": [
    {
     "data": {
      "text/plain": [
       "{'col': [4, 34, 13, 9, 3]}"
      ]
     },
     "execution_count": 64,
     "metadata": {},
     "output_type": "execute_result"
    }
   ],
   "source": [
    "data = {'col':arr1}\n",
    "data"
   ]
  },
  {
   "cell_type": "code",
   "execution_count": 65,
   "id": "a6338e7d",
   "metadata": {},
   "outputs": [],
   "source": [
    "import  pandas as pd"
   ]
  },
  {
   "cell_type": "code",
   "execution_count": 68,
   "id": "0c664938",
   "metadata": {},
   "outputs": [
    {
     "data": {
      "text/html": [
       "<div>\n",
       "<style scoped>\n",
       "    .dataframe tbody tr th:only-of-type {\n",
       "        vertical-align: middle;\n",
       "    }\n",
       "\n",
       "    .dataframe tbody tr th {\n",
       "        vertical-align: top;\n",
       "    }\n",
       "\n",
       "    .dataframe thead th {\n",
       "        text-align: right;\n",
       "    }\n",
       "</style>\n",
       "<table border=\"1\" class=\"dataframe\">\n",
       "  <thead>\n",
       "    <tr style=\"text-align: right;\">\n",
       "      <th></th>\n",
       "      <th>col</th>\n",
       "    </tr>\n",
       "  </thead>\n",
       "  <tbody>\n",
       "    <tr>\n",
       "      <th>0</th>\n",
       "      <td>3</td>\n",
       "    </tr>\n",
       "    <tr>\n",
       "      <th>1</th>\n",
       "      <td>4</td>\n",
       "    </tr>\n",
       "    <tr>\n",
       "      <th>2</th>\n",
       "      <td>9</td>\n",
       "    </tr>\n",
       "    <tr>\n",
       "      <th>3</th>\n",
       "      <td>13</td>\n",
       "    </tr>\n",
       "    <tr>\n",
       "      <th>4</th>\n",
       "      <td>34</td>\n",
       "    </tr>\n",
       "  </tbody>\n",
       "</table>\n",
       "</div>"
      ],
      "text/plain": [
       "   col\n",
       "0    3\n",
       "1    4\n",
       "2    9\n",
       "3   13\n",
       "4   34"
      ]
     },
     "execution_count": 68,
     "metadata": {},
     "output_type": "execute_result"
    }
   ],
   "source": [
    "a = pd.DataFrame(data).mode()\n",
    "a"
   ]
  },
  {
   "cell_type": "code",
   "execution_count": 71,
   "id": "d5ff7cb4",
   "metadata": {},
   "outputs": [
    {
     "data": {
      "text/plain": [
       "3"
      ]
     },
     "execution_count": 71,
     "metadata": {},
     "output_type": "execute_result"
    }
   ],
   "source": [
    "a.col.mode()[0]"
   ]
  },
  {
   "cell_type": "code",
   "execution_count": null,
   "id": "003e27e7",
   "metadata": {},
   "outputs": [],
   "source": []
  }
 ],
 "metadata": {
  "kernelspec": {
   "display_name": "Python 3 (ipykernel)",
   "language": "python",
   "name": "python3"
  },
  "language_info": {
   "codemirror_mode": {
    "name": "ipython",
    "version": 3
   },
   "file_extension": ".py",
   "mimetype": "text/x-python",
   "name": "python",
   "nbconvert_exporter": "python",
   "pygments_lexer": "ipython3",
   "version": "3.8.10"
  }
 },
 "nbformat": 4,
 "nbformat_minor": 5
}
