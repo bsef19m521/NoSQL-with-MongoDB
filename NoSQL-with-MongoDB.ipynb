{
 "cells": [
  {
   "cell_type": "markdown",
   "id": "ff5b51ed",
   "metadata": {},
   "source": [
    "<h1 align=\"center\">NoSQL-with-MongoDB</h1>"
   ]
  },
  {
   "cell_type": "markdown",
   "id": "e41ad364",
   "metadata": {},
   "source": [
    "### Learning Agenda of Notebook:\n",
    "- Introduction to MongoDB and NoSQL databases\n",
    "- Setting up MongoDB and Python\n",
    "- CRUD Operations\n",
    "- Data Modeling\n",
    "- Indexing and Performance Optimization\n",
    "- Advanced Querying\n",
    "- Aggregation Framework\n",
    "- Working with GridFS\n",
    "- MongoDB and PyMongo library\n",
    "- MongoDB and Cloud Services\n",
    "- Error handling and Debugging\n",
    "- Understanding MongoDB Architecture\n",
    "- MongoDB Atlas and Cloud Integration\n",
    "- MongoDB and data visualization\n",
    "- MongoDB and scalability\n",
    "- MongoDB and backup and recovery"
   ]
  },
  {
   "cell_type": "code",
   "execution_count": null,
   "id": "e7296fff",
   "metadata": {},
   "outputs": [],
   "source": []
  },
  {
   "cell_type": "code",
   "execution_count": null,
   "id": "2b76e956",
   "metadata": {},
   "outputs": [],
   "source": []
  },
  {
   "cell_type": "code",
   "execution_count": null,
   "id": "50168c9d",
   "metadata": {},
   "outputs": [],
   "source": []
  },
  {
   "cell_type": "markdown",
   "id": "9d5b35ef",
   "metadata": {},
   "source": [
    "## Introduction to MongoDB and NoSQL databases\n",
    "<img src=\"images/intro_mongodb.jpeg\" align=\"center\" height=400px width=400px>\n"
   ]
  },
  {
   "cell_type": "code",
   "execution_count": null,
   "id": "b111a150",
   "metadata": {},
   "outputs": [],
   "source": []
  },
  {
   "cell_type": "code",
   "execution_count": null,
   "id": "3dfd66ee",
   "metadata": {},
   "outputs": [],
   "source": []
  },
  {
   "cell_type": "code",
   "execution_count": null,
   "id": "ee2f3806",
   "metadata": {},
   "outputs": [],
   "source": []
  },
  {
   "cell_type": "markdown",
   "id": "3fdd49f0",
   "metadata": {},
   "source": [
    "## Setting up MongoDB and Python\n",
    "\n",
    "<img src=\"images/mongodbvspython.png\" align=\"center\" height=400px width=400px>\n"
   ]
  },
  {
   "cell_type": "code",
   "execution_count": null,
   "id": "20b2f935",
   "metadata": {},
   "outputs": [],
   "source": []
  },
  {
   "cell_type": "code",
   "execution_count": null,
   "id": "1775983a",
   "metadata": {},
   "outputs": [],
   "source": []
  },
  {
   "cell_type": "markdown",
   "id": "0b6a52e3",
   "metadata": {},
   "source": [
    "## CRUD Operations \n",
    "<img src=\"images/crud.png\" align=\"center\" height=400px width=400px>\n",
    "\n"
   ]
  },
  {
   "cell_type": "code",
   "execution_count": null,
   "id": "80c3bc81",
   "metadata": {},
   "outputs": [],
   "source": []
  },
  {
   "cell_type": "code",
   "execution_count": null,
   "id": "d56014d0",
   "metadata": {},
   "outputs": [],
   "source": []
  },
  {
   "cell_type": "code",
   "execution_count": null,
   "id": "20b86a6d",
   "metadata": {},
   "outputs": [],
   "source": []
  },
  {
   "cell_type": "code",
   "execution_count": null,
   "id": "86dc69d9",
   "metadata": {},
   "outputs": [],
   "source": []
  },
  {
   "cell_type": "markdown",
   "id": "20190f45",
   "metadata": {},
   "source": [
    "## Data Modeling\n",
    "\n",
    "<img src=\"images/data_model.jpg\" align=\"right\" height=400px width=400px>\n",
    "\n",
    "- **Data modeling** in MongoDB is the process of designing and organizing data in a way that is optimized for the MongoDB document-oriented data model. It involves creating a schema that defines the structure, relationships, and constraints of the data, and using that schema to create collections and documents. The goal of data modeling in MongoDB is to ensure that the data is stored in a way that is efficient, flexible, and consistent with the requirements of the application.\n",
    "\n",
    "- **Data modeling** in MongoDB is different from data modeling in relational databases because MongoDB is a document-oriented database and it stores data in BSON format (binary JSON) in the form of documents, and collections rather than tables.\n",
    "\n",
    "- MongoDB also provides a more flexible data model, which allows for more dynamic and unstructured data, and it also support horizontal scaling, which allows for better performance and scalability."
   ]
  },
  {
   "cell_type": "code",
   "execution_count": null,
   "id": "b1e73900",
   "metadata": {},
   "outputs": [],
   "source": []
  },
  {
   "cell_type": "code",
   "execution_count": null,
   "id": "734714ed",
   "metadata": {},
   "outputs": [],
   "source": []
  },
  {
   "cell_type": "markdown",
   "id": "80e85010",
   "metadata": {},
   "source": [
    "## Indexing and Performance Optimization\n",
    "<img src=\"images/indexing.png\" height=400px width=400px>"
   ]
  },
  {
   "cell_type": "code",
   "execution_count": null,
   "id": "373909f1",
   "metadata": {},
   "outputs": [],
   "source": []
  },
  {
   "cell_type": "code",
   "execution_count": null,
   "id": "5e231f65",
   "metadata": {},
   "outputs": [],
   "source": []
  },
  {
   "cell_type": "code",
   "execution_count": null,
   "id": "895a5faf",
   "metadata": {},
   "outputs": [],
   "source": []
  },
  {
   "cell_type": "markdown",
   "id": "88fe28a6",
   "metadata": {},
   "source": [
    "## MongoDB and PyMongo library\n",
    "<img src=\"images/pymongo.jpg\" height=400px width=400px>"
   ]
  },
  {
   "cell_type": "code",
   "execution_count": null,
   "id": "4fd3ac9d",
   "metadata": {},
   "outputs": [],
   "source": []
  },
  {
   "cell_type": "code",
   "execution_count": null,
   "id": "ee10c914",
   "metadata": {},
   "outputs": [],
   "source": []
  },
  {
   "cell_type": "code",
   "execution_count": null,
   "id": "8853c1b2",
   "metadata": {},
   "outputs": [],
   "source": []
  }
 ],
 "metadata": {
  "kernelspec": {
   "display_name": "Python 3 (ipykernel)",
   "language": "python",
   "name": "python3"
  },
  "language_info": {
   "codemirror_mode": {
    "name": "ipython",
    "version": 3
   },
   "file_extension": ".py",
   "mimetype": "text/x-python",
   "name": "python",
   "nbconvert_exporter": "python",
   "pygments_lexer": "ipython3",
   "version": "3.8.10"
  }
 },
 "nbformat": 4,
 "nbformat_minor": 5
}
